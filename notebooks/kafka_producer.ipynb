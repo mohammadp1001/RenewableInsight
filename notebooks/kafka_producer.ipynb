{
 "cells": [
  {
   "cell_type": "code",
   "execution_count": 5,
   "id": "53d3aa27-2919-4eff-9209-bf49c747f8f4",
   "metadata": {},
   "outputs": [],
   "source": [
    "import csv\n",
    "import logging\n",
    "import os\n",
    "import sys\n",
    "from time import sleep\n",
    "from typing import Dict\n",
    "from urllib.parse import urlparse\n",
    "from kafka import KafkaProducer\n",
    "import json "
   ]
  },
  {
   "cell_type": "code",
   "execution_count": 6,
   "id": "95b9cac0-f811-4292-b103-dfe0eebe92bc",
   "metadata": {},
   "outputs": [],
   "source": [
    "resource_path = '/home/mohammadp/RenewableInsight/data/2024_05_ActualTotalLoad_6.1.A.csv'"
   ]
  },
  {
   "cell_type": "code",
   "execution_count": 19,
   "id": "476ee83a-2586-4a3d-9e6e-a3d8431c78ee",
   "metadata": {},
   "outputs": [
    {
     "name": "stdout",
     "output_type": "stream",
     "text": [
      "2024-05-03 \n",
      "<class 'str'>\n",
      "2024-05-03 \n",
      "<class 'str'>\n",
      "2024-05-03 \n",
      "<class 'str'>\n",
      "2024-05-03 \n",
      "<class 'str'>\n"
     ]
    }
   ],
   "source": [
    "i = 0\n",
    "with open(resource_path, 'r') as f:\n",
    "            reader = csv.reader(f)\n",
    "            header = next(reader)         \n",
    "            for row in reader:\n",
    "                row = row[0].split('\\t')\n",
    "                print(row[0][0:11])\n",
    "                print(type(row[1]))\n",
    "                i = i + 1\n",
    "                if i > 3:\n",
    "                    break"
   ]
  },
  {
   "cell_type": "code",
   "execution_count": 16,
   "id": "5e312a61-3beb-4eb9-a237-94aa1c49b5f0",
   "metadata": {},
   "outputs": [
    {
     "data": {
      "text/plain": [
       "977427060386647613"
      ]
     },
     "execution_count": 16,
     "metadata": {},
     "output_type": "execute_result"
    }
   ],
   "source": [
    "hash('222')"
   ]
  },
  {
   "cell_type": "code",
   "execution_count": 17,
   "id": "92388fb5-95dc-4a7f-bb27-a02a1eadd1fb",
   "metadata": {},
   "outputs": [
    {
     "data": {
      "text/plain": [
       "977427060386647613"
      ]
     },
     "execution_count": 17,
     "metadata": {},
     "output_type": "execute_result"
    }
   ],
   "source": [
    "hash('222')"
   ]
  },
  {
   "cell_type": "code",
   "execution_count": null,
   "id": "b9ff3c08-22d5-4050-a538-418462f4a95b",
   "metadata": {},
   "outputs": [],
   "source": []
  }
 ],
 "metadata": {
  "kernelspec": {
   "display_name": "Python 3 (ipykernel)",
   "language": "python",
   "name": "python3"
  },
  "language_info": {
   "codemirror_mode": {
    "name": "ipython",
    "version": 3
   },
   "file_extension": ".py",
   "mimetype": "text/x-python",
   "name": "python",
   "nbconvert_exporter": "python",
   "pygments_lexer": "ipython3",
   "version": "3.11.7"
  }
 },
 "nbformat": 4,
 "nbformat_minor": 5
}
