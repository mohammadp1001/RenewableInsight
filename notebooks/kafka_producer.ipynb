{
 "cells": [
  {
   "cell_type": "code",
   "execution_count": null,
   "id": "24a71f10-a9b2-4e06-9a97-76338d6734d0",
   "metadata": {},
   "outputs": [],
   "source": [
    "!pip install git+https://github.com/EnergieID/entsoe-py.git\n",
    "!pip install kafka-python\n"
   ]
  },
  {
   "cell_type": "code",
   "execution_count": 1,
   "id": "53d3aa27-2919-4eff-9209-bf49c747f8f4",
   "metadata": {},
   "outputs": [],
   "source": [
    "import csv\n",
    "import logging\n",
    "import os\n",
    "import sys\n",
    "import pandas as pd\n",
    "from time import sleep\n",
    "from typing import Dict\n",
    "from urllib.parse import urlparse\n",
    "import json \n",
    "from datetime import datetime\n"
   ]
  },
  {
   "cell_type": "code",
   "execution_count": 2,
   "id": "2651212d-1ad9-43e7-96a0-7f900be8b2a6",
   "metadata": {},
   "outputs": [],
   "source": [
    "src_path = os.path.abspath('../src')\n",
    "if src_path not in sys.path:\n",
    "    sys.path.append(src_path)"
   ]
  },
  {
   "cell_type": "code",
   "execution_count": 20,
   "id": "51f65d00-3b01-4c21-86af-13e6f31fc88b",
   "metadata": {},
   "outputs": [],
   "source": [
    "from api.entsoe import EntsoeDataDownloader\n",
    "from config import Config\n",
    "\n",
    "def main():\n",
    "    year = 2024\n",
    "    month = 7\n",
    "    date_to_read = '2023-07-21'\n",
    "    country_code = 'DE'\n",
    "    data_type = 'load'  # Could be 'load', 'generation', etc.\n",
    "\n",
    "    downloader = EntsoeDataDownloader(year, month, country_code)\n",
    "    filename = downloader.download_data(data_type)\n",
    "    return filename\n"
   ]
  },
  {
   "cell_type": "code",
   "execution_count": 21,
   "id": "3205d227-d8ec-4619-9bea-325cbc51252b",
   "metadata": {},
   "outputs": [
    {
     "name": "stderr",
     "output_type": "stream",
     "text": [
      "ERROR:root:Failed to load logging config file: ./logs/logging.dev.ini doesn't exist\n"
     ]
    }
   ],
   "source": [
    "filename = main()"
   ]
  },
  {
   "cell_type": "code",
   "execution_count": 22,
   "id": "c4c2ffc5-564c-48e9-8d2a-da62c714cd43",
   "metadata": {},
   "outputs": [
    {
     "data": {
      "text/plain": [
       "'/tmp/2024_7_load.csv'"
      ]
     },
     "execution_count": 22,
     "metadata": {},
     "output_type": "execute_result"
    }
   ],
   "source": [
    "filename"
   ]
  },
  {
   "cell_type": "code",
   "execution_count": 23,
   "id": "95b9cac0-f811-4292-b103-dfe0eebe92bc",
   "metadata": {},
   "outputs": [],
   "source": [
    "resource_path = '/tmp/2024_7_load.csv'"
   ]
  },
  {
   "cell_type": "code",
   "execution_count": 24,
   "id": "f563c8d1-ec90-4435-becf-bf37e9b8a77f",
   "metadata": {},
   "outputs": [],
   "source": [
    "df = pd.read_csv(resource_path)"
   ]
  },
  {
   "cell_type": "code",
   "execution_count": 25,
   "id": "ef2f3bc3-527d-4c0a-8158-e6bd0a577479",
   "metadata": {},
   "outputs": [
    {
     "data": {
      "text/plain": [
       "Index(['date', 'load'], dtype='object')"
      ]
     },
     "execution_count": 25,
     "metadata": {},
     "output_type": "execute_result"
    }
   ],
   "source": [
    "df.columns"
   ]
  },
  {
   "cell_type": "code",
   "execution_count": 43,
   "id": "448a8303-0aea-4a8b-aee0-2245b7e45c58",
   "metadata": {},
   "outputs": [],
   "source": [
    "_last_published_field_value = None"
   ]
  },
  {
   "cell_type": "code",
   "execution_count": 44,
   "id": "b9ff3c08-22d5-4050-a538-418462f4a95b",
   "metadata": {},
   "outputs": [
    {
     "name": "stdout",
     "output_type": "stream",
     "text": [
      "2024-07-21 00:00:00+02:00\n",
      "2024-07-21 00:15:00+02:00\n",
      "2024-07-21 00:30:00+02:00\n",
      "2024-07-21 00:45:00+02:00\n",
      "2024-07-21 01:00:00+02:00\n",
      "2024-07-21 01:15:00+02:00\n",
      "2024-07-21 01:30:00+02:00\n",
      "2024-07-21 01:45:00+02:00\n",
      "2024-07-21 02:00:00+02:00\n",
      "2024-07-21 02:15:00+02:00\n",
      "2024-07-21 02:30:00+02:00\n",
      "2024-07-21 02:45:00+02:00\n",
      "2024-07-21 03:00:00+02:00\n",
      "2024-07-21 03:15:00+02:00\n",
      "2024-07-21 03:30:00+02:00\n",
      "2024-07-21 03:45:00+02:00\n",
      "2024-07-21 04:00:00+02:00\n",
      "2024-07-21 04:15:00+02:00\n",
      "2024-07-21 04:30:00+02:00\n",
      "2024-07-21 04:45:00+02:00\n",
      "2024-07-21 05:00:00+02:00\n",
      "2024-07-21 05:15:00+02:00\n",
      "2024-07-21 05:30:00+02:00\n",
      "2024-07-21 05:45:00+02:00\n",
      "2024-07-21 06:00:00+02:00\n",
      "2024-07-21 06:15:00+02:00\n",
      "2024-07-21 06:30:00+02:00\n",
      "2024-07-21 06:45:00+02:00\n",
      "2024-07-21 07:00:00+02:00\n",
      "2024-07-21 07:15:00+02:00\n",
      "2024-07-21 07:30:00+02:00\n",
      "2024-07-21 07:45:00+02:00\n",
      "2024-07-21 08:00:00+02:00\n",
      "2024-07-21 08:15:00+02:00\n",
      "2024-07-21 08:30:00+02:00\n",
      "2024-07-21 08:45:00+02:00\n",
      "2024-07-21 09:00:00+02:00\n",
      "2024-07-21 09:15:00+02:00\n",
      "2024-07-21 09:30:00+02:00\n",
      "2024-07-21 09:45:00+02:00\n",
      "2024-07-21 10:00:00+02:00\n",
      "2024-07-21 10:15:00+02:00\n",
      "2024-07-21 10:30:00+02:00\n",
      "2024-07-21 10:45:00+02:00\n",
      "2024-07-21 11:00:00+02:00\n",
      "2024-07-21 11:15:00+02:00\n",
      "2024-07-21 11:30:00+02:00\n",
      "2024-07-21 11:45:00+02:00\n",
      "2024-07-21 12:00:00+02:00\n",
      "2024-07-21 12:15:00+02:00\n",
      "2024-07-21 12:30:00+02:00\n",
      "2024-07-21 12:45:00+02:00\n",
      "2024-07-21 13:00:00+02:00\n",
      "2024-07-21 13:15:00+02:00\n",
      "2024-07-21 13:30:00+02:00\n",
      "2024-07-21 13:45:00+02:00\n",
      "2024-07-21 14:00:00+02:00\n",
      "2024-07-21 14:15:00+02:00\n",
      "2024-07-21 14:30:00+02:00\n",
      "2024-07-21 14:45:00+02:00\n",
      "2024-07-21 15:00:00+02:00\n",
      "2024-07-21 15:15:00+02:00\n",
      "2024-07-21 15:30:00+02:00\n",
      "2024-07-21 15:45:00+02:00\n",
      "2024-07-21 16:00:00+02:00\n",
      "2024-07-21 16:15:00+02:00\n",
      "2024-07-21 16:30:00+02:00\n",
      "2024-07-21 16:45:00+02:00\n",
      "2024-07-21 17:00:00+02:00\n",
      "2024-07-21 17:15:00+02:00\n",
      "2024-07-21 17:30:00+02:00\n",
      "2024-07-21 17:45:00+02:00\n",
      "2024-07-21 18:00:00+02:00\n",
      "2024-07-21 18:15:00+02:00\n",
      "2024-07-21 18:30:00+02:00\n",
      "2024-07-21 18:45:00+02:00\n",
      "2024-07-21 19:00:00+02:00\n",
      "2024-07-21 19:15:00+02:00\n",
      "2024-07-21 19:30:00+02:00\n",
      "2024-07-21 20:00:00+02:00\n",
      "2024-07-21 20:15:00+02:00\n",
      "2024-07-21 20:30:00+02:00\n"
     ]
    }
   ],
   "source": [
    "_field_name = 'date'\n",
    "\n",
    "def is_record_processed(record,_last_published_field_value):\n",
    "    if _last_published_field_value is None:\n",
    "        return False\n",
    "    record_value = datetime.fromisoformat(record[_field_name])\n",
    "    return record_value <= _last_published_field_value\n",
    "           \n",
    "_index = 0\n",
    "filters = {}\n",
    "filter_funcs = {'datetome_to_publish': lambda row: row['date'][:10] == '2024-07-21'}\n",
    "fields = ['date','load'] \n",
    "df = pd.read_csv(filename)\n",
    "for _, row in df.iterrows():\n",
    "    if all(filter_func(row) for filter_func in filter_funcs.values()):   \n",
    "        record = {field: row[field] for field in fields}\n",
    "        record['key_id'] = f'record_{_index}'\n",
    "        _index += 1\n",
    "        if is_record_processed(record,_last_published_field_value):\n",
    "            continue\n",
    "        _last_published_field_value = datetime.fromisoformat(record[_field_name])   \n",
    "        print(datetime.fromisoformat(record['date']))"
   ]
  },
  {
   "cell_type": "code",
   "execution_count": 45,
   "id": "9e9d82d8-8052-4b99-93c5-1babd1a3d703",
   "metadata": {},
   "outputs": [
    {
     "data": {
      "text/plain": [
       "82"
      ]
     },
     "execution_count": 45,
     "metadata": {},
     "output_type": "execute_result"
    }
   ],
   "source": [
    "_index"
   ]
  },
  {
   "cell_type": "code",
   "execution_count": 40,
   "id": "63a98794-0670-4736-9539-4637c2dda8d0",
   "metadata": {},
   "outputs": [
    {
     "name": "stdout",
     "output_type": "stream",
     "text": [
      "2024-07-21 20:30:00+02:00\n"
     ]
    }
   ],
   "source": [
    "print(_last_published_field_value)"
   ]
  },
  {
   "cell_type": "code",
   "execution_count": 41,
   "id": "2895503b-d5c7-421f-96be-779eca9ae68c",
   "metadata": {},
   "outputs": [],
   "source": [
    "import logging\n",
    "from time import sleep\n",
    "from config import Config\n",
    "from api.entsoe import EntsoeDataDownloader\n",
    "\n",
    "def main():\n",
    "    \n",
    "    data_downloader = EntsoeDataDownloader(\n",
    "        year=int(Config.YEAR), \n",
    "        month=int(Config.MONTH), \n",
    "        country_code=Config.COUNTRY_CODE\n",
    "    )\n",
    "    filter_funcs = {'datetome_to_publish': lambda row: row['date'][:10] == Config.DATE_TO_READ}\n",
    "    filename = data_downloader.download_data(data_type=Config.DATA_TYPE)\n",
    "    df = pd.read_csv(filename)\n",
    "    return df"
   ]
  },
  {
   "cell_type": "code",
   "execution_count": 42,
   "id": "239f27f2-3356-47e4-aa8f-04f206e84c4f",
   "metadata": {},
   "outputs": [
    {
     "name": "stderr",
     "output_type": "stream",
     "text": [
      "ERROR:root:Failed to load logging config file: ./logs/logging.dev.ini doesn't exist\n"
     ]
    }
   ],
   "source": [
    "df = main()"
   ]
  },
  {
   "cell_type": "code",
   "execution_count": 15,
   "id": "8b3376c2-0b7c-4601-ac6f-86cd1ef9674b",
   "metadata": {},
   "outputs": [
    {
     "data": {
      "text/html": [
       "<div>\n",
       "<style scoped>\n",
       "    .dataframe tbody tr th:only-of-type {\n",
       "        vertical-align: middle;\n",
       "    }\n",
       "\n",
       "    .dataframe tbody tr th {\n",
       "        vertical-align: top;\n",
       "    }\n",
       "\n",
       "    .dataframe thead th {\n",
       "        text-align: right;\n",
       "    }\n",
       "</style>\n",
       "<table border=\"1\" class=\"dataframe\">\n",
       "  <thead>\n",
       "    <tr style=\"text-align: right;\">\n",
       "      <th></th>\n",
       "      <th>date</th>\n",
       "      <th>load</th>\n",
       "    </tr>\n",
       "  </thead>\n",
       "  <tbody>\n",
       "    <tr>\n",
       "      <th>0</th>\n",
       "      <td>2024-04-01 00:00:00+02:00</td>\n",
       "      <td>36256.0</td>\n",
       "    </tr>\n",
       "    <tr>\n",
       "      <th>1</th>\n",
       "      <td>2024-04-01 00:15:00+02:00</td>\n",
       "      <td>35809.0</td>\n",
       "    </tr>\n",
       "    <tr>\n",
       "      <th>2</th>\n",
       "      <td>2024-04-01 00:30:00+02:00</td>\n",
       "      <td>35612.0</td>\n",
       "    </tr>\n",
       "    <tr>\n",
       "      <th>3</th>\n",
       "      <td>2024-04-01 00:45:00+02:00</td>\n",
       "      <td>35275.0</td>\n",
       "    </tr>\n",
       "    <tr>\n",
       "      <th>4</th>\n",
       "      <td>2024-04-01 01:00:00+02:00</td>\n",
       "      <td>34757.0</td>\n",
       "    </tr>\n",
       "  </tbody>\n",
       "</table>\n",
       "</div>"
      ],
      "text/plain": [
       "                        date     load\n",
       "0  2024-04-01 00:00:00+02:00  36256.0\n",
       "1  2024-04-01 00:15:00+02:00  35809.0\n",
       "2  2024-04-01 00:30:00+02:00  35612.0\n",
       "3  2024-04-01 00:45:00+02:00  35275.0\n",
       "4  2024-04-01 01:00:00+02:00  34757.0"
      ]
     },
     "execution_count": 15,
     "metadata": {},
     "output_type": "execute_result"
    }
   ],
   "source": [
    "df.head(5)"
   ]
  },
  {
   "cell_type": "code",
   "execution_count": 6,
   "id": "b038d388-8a87-4d31-a95a-1dc704778ad3",
   "metadata": {},
   "outputs": [
    {
     "data": {
      "text/plain": [
       "'2024-02-13'"
      ]
     },
     "execution_count": 6,
     "metadata": {},
     "output_type": "execute_result"
    }
   ],
   "source": [
    "Config.DATE_TO_READ"
   ]
  },
  {
   "cell_type": "code",
   "execution_count": 7,
   "id": "2966bbf5-ae49-44fc-91d7-494663156451",
   "metadata": {},
   "outputs": [
    {
     "data": {
      "text/plain": [
       "'4'"
      ]
     },
     "execution_count": 7,
     "metadata": {},
     "output_type": "execute_result"
    }
   ],
   "source": [
    "Config.MONTH"
   ]
  },
  {
   "cell_type": "code",
   "execution_count": null,
   "id": "060eb7c9-1dd1-477e-831d-f2e7c5d18fb3",
   "metadata": {},
   "outputs": [],
   "source": []
  }
 ],
 "metadata": {
  "kernelspec": {
   "display_name": "Python 3 (ipykernel)",
   "language": "python",
   "name": "python3"
  },
  "language_info": {
   "codemirror_mode": {
    "name": "ipython",
    "version": 3
   },
   "file_extension": ".py",
   "mimetype": "text/x-python",
   "name": "python",
   "nbconvert_exporter": "python",
   "pygments_lexer": "ipython3",
   "version": "3.12.4"
  }
 },
 "nbformat": 4,
 "nbformat_minor": 5
}
