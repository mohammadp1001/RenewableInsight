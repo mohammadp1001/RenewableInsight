{
 "cells": [
  {
   "cell_type": "code",
   "execution_count": null,
   "id": "24a71f10-a9b2-4e06-9a97-76338d6734d0",
   "metadata": {},
   "outputs": [],
   "source": [
    "!pip install git+https://github.com/EnergieID/entsoe-py.git"
   ]
  },
  {
   "cell_type": "code",
   "execution_count": 1,
   "id": "53d3aa27-2919-4eff-9209-bf49c747f8f4",
   "metadata": {},
   "outputs": [],
   "source": [
    "import csv\n",
    "import logging\n",
    "import os\n",
    "import sys\n",
    "from time import sleep\n",
    "from typing import Dict\n",
    "from urllib.parse import urlparse\n",
    "import json "
   ]
  },
  {
   "cell_type": "code",
   "execution_count": 2,
   "id": "2651212d-1ad9-43e7-96a0-7f900be8b2a6",
   "metadata": {},
   "outputs": [],
   "source": [
    "src_path = os.path.abspath('../src')\n",
    "if src_path not in sys.path:\n",
    "    sys.path.append(src_path)"
   ]
  },
  {
   "cell_type": "code",
   "execution_count": 3,
   "id": "51f65d00-3b01-4c21-86af-13e6f31fc88b",
   "metadata": {},
   "outputs": [],
   "source": [
    "from api.etos import EntsoeDataDownloader\n",
    "from config import Config\n",
    "\n",
    "def main():\n",
    "    year = 2023\n",
    "    month = 7\n",
    "    date_to_read = '2023-07-13'\n",
    "    country_code = 'DE'\n",
    "    data_type = 'load'  # Could be 'load', 'generation', etc.\n",
    "    kafka_props = {\n",
    "        'bootstrap_servers': Config.KAFKA_BROKER,\n",
    "        'key_serializer': str.encode,\n",
    "        'value_serializer': lambda v: json.dumps(v).encode('utf-8')\n",
    "    }\n",
    "\n",
    "    downloader = EntsoeDataDownloader(year, month, country_code)\n",
    "    filename = downloader.download_data(data_type)\n",
    "    return filename\n"
   ]
  },
  {
   "cell_type": "code",
   "execution_count": 5,
   "id": "3205d227-d8ec-4619-9bea-325cbc51252b",
   "metadata": {},
   "outputs": [
    {
     "name": "stdout",
     "output_type": "stream",
     "text": [
      "2024-07-15 21:31:58,377 - INFO - root - Logging setup complete using config: ./logging.dev.ini\n",
      "2024-07-15 21:31:58,379 - DEBUG - entsoe.entsoe - Performing request to https://web-api.tp.entsoe.eu/api with params {'documentType': 'A65', 'processType': 'A16', 'outBiddingZone_Domain': '10Y1001A1001A83F', 'out_Domain': '10Y1001A1001A83F', 'securityToken': 'b307e891-a7a7-44a1-a7fa-4018009415c2', 'periodStart': '202306302200', 'periodEnd': '202307302200'}\n",
      "2024-07-15 21:31:58,381 - DEBUG - urllib3.connectionpool - Starting new HTTPS connection (1): web-api.tp.entsoe.eu:443\n",
      "2024-07-15 21:31:59,354 - DEBUG - urllib3.connectionpool - https://web-api.tp.entsoe.eu:443 \"GET /api?documentType=A65&processType=A16&outBiddingZone_Domain=10Y1001A1001A83F&out_Domain=10Y1001A1001A83F&securityToken=b307e891-a7a7-44a1-a7fa-4018009415c2&periodStart=202306302200&periodEnd=202307302200 HTTP/11\" 200 None\n"
     ]
    }
   ],
   "source": [
    "filename = main()"
   ]
  },
  {
   "cell_type": "code",
   "execution_count": null,
   "id": "1492bd66-9874-4222-a17d-c2f493850763",
   "metadata": {},
   "outputs": [],
   "source": [
    "Config.LOG_DIR"
   ]
  },
  {
   "cell_type": "code",
   "execution_count": null,
   "id": "c171c1ab-a05f-4839-a65f-97f954f5efe5",
   "metadata": {},
   "outputs": [],
   "source": [
    "Config.RESOURCE_PATH"
   ]
  },
  {
   "cell_type": "code",
   "execution_count": null,
   "id": "95b9cac0-f811-4292-b103-dfe0eebe92bc",
   "metadata": {},
   "outputs": [],
   "source": [
    "resource_path = '/home/mohammadp/RenewableInsight/data/2024_05_ActualTotalLoad_6.1.A.csv'"
   ]
  },
  {
   "cell_type": "code",
   "execution_count": null,
   "id": "476ee83a-2586-4a3d-9e6e-a3d8431c78ee",
   "metadata": {},
   "outputs": [],
   "source": [
    "i = 0\n",
    "with open(resource_path, 'r') as f:\n",
    "            reader = csv.reader(f)\n",
    "            header = next(reader)         \n",
    "            for row in reader:\n",
    "                row = row[0].split('\\t')\n",
    "                print(row[0][0:11])\n",
    "                print(type(row[1]))\n",
    "                i = i + 1\n",
    "                if i > 3:\n",
    "                    break"
   ]
  },
  {
   "cell_type": "code",
   "execution_count": null,
   "id": "5e312a61-3beb-4eb9-a237-94aa1c49b5f0",
   "metadata": {},
   "outputs": [],
   "source": [
    "hash('222')"
   ]
  },
  {
   "cell_type": "code",
   "execution_count": null,
   "id": "92388fb5-95dc-4a7f-bb27-a02a1eadd1fb",
   "metadata": {},
   "outputs": [],
   "source": [
    "hash('222')"
   ]
  },
  {
   "cell_type": "code",
   "execution_count": null,
   "id": "b9ff3c08-22d5-4050-a538-418462f4a95b",
   "metadata": {},
   "outputs": [],
   "source": []
  }
 ],
 "metadata": {
  "kernelspec": {
   "display_name": "Python 3 (ipykernel)",
   "language": "python",
   "name": "python3"
  },
  "language_info": {
   "codemirror_mode": {
    "name": "ipython",
    "version": 3
   },
   "file_extension": ".py",
   "mimetype": "text/x-python",
   "name": "python",
   "nbconvert_exporter": "python",
   "pygments_lexer": "ipython3",
   "version": "3.12.4"
  }
 },
 "nbformat": 4,
 "nbformat_minor": 5
}
