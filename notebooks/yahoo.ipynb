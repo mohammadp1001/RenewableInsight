{
 "cells": [
  {
   "cell_type": "code",
   "execution_count": 10,
   "id": "9b3d1d1e-1d1c-4d38-9f92-aeb6d6ac5141",
   "metadata": {},
   "outputs": [
    {
     "ename": "OSError",
     "evalue": "Unexpected end of stream: Page was smaller (17) than expected (18)",
     "output_type": "error",
     "traceback": [
      "\u001b[0;31m---------------------------------------------------------------------------\u001b[0m",
      "\u001b[0;31mOSError\u001b[0m                                   Traceback (most recent call last)",
      "Cell \u001b[0;32mIn[10], line 2\u001b[0m\n\u001b[1;32m      1\u001b[0m \u001b[38;5;28;01mimport\u001b[39;00m \u001b[38;5;21;01mpandas\u001b[39;00m \u001b[38;5;28;01mas\u001b[39;00m \u001b[38;5;21;01mpd\u001b[39;00m\n\u001b[0;32m----> 2\u001b[0m df \u001b[38;5;241m=\u001b[39m pd\u001b[38;5;241m.\u001b[39mread_parquet(\u001b[38;5;124m\"\u001b[39m\u001b[38;5;124m/home/mohammad/RenewableInsight/data/ut4rl1wyx9.parquet\u001b[39m\u001b[38;5;124m\"\u001b[39m, engine\u001b[38;5;241m=\u001b[39m\u001b[38;5;124m'\u001b[39m\u001b[38;5;124mpyarrow\u001b[39m\u001b[38;5;124m'\u001b[39m)\n",
      "File \u001b[0;32m~/anaconda3/lib/python3.12/site-packages/pandas/io/parquet.py:667\u001b[0m, in \u001b[0;36mread_parquet\u001b[0;34m(path, engine, columns, storage_options, use_nullable_dtypes, dtype_backend, filesystem, filters, **kwargs)\u001b[0m\n\u001b[1;32m    664\u001b[0m     use_nullable_dtypes \u001b[38;5;241m=\u001b[39m \u001b[38;5;28;01mFalse\u001b[39;00m\n\u001b[1;32m    665\u001b[0m check_dtype_backend(dtype_backend)\n\u001b[0;32m--> 667\u001b[0m \u001b[38;5;28;01mreturn\u001b[39;00m impl\u001b[38;5;241m.\u001b[39mread(\n\u001b[1;32m    668\u001b[0m     path,\n\u001b[1;32m    669\u001b[0m     columns\u001b[38;5;241m=\u001b[39mcolumns,\n\u001b[1;32m    670\u001b[0m     filters\u001b[38;5;241m=\u001b[39mfilters,\n\u001b[1;32m    671\u001b[0m     storage_options\u001b[38;5;241m=\u001b[39mstorage_options,\n\u001b[1;32m    672\u001b[0m     use_nullable_dtypes\u001b[38;5;241m=\u001b[39muse_nullable_dtypes,\n\u001b[1;32m    673\u001b[0m     dtype_backend\u001b[38;5;241m=\u001b[39mdtype_backend,\n\u001b[1;32m    674\u001b[0m     filesystem\u001b[38;5;241m=\u001b[39mfilesystem,\n\u001b[1;32m    675\u001b[0m     \u001b[38;5;241m*\u001b[39m\u001b[38;5;241m*\u001b[39mkwargs,\n\u001b[1;32m    676\u001b[0m )\n",
      "File \u001b[0;32m~/anaconda3/lib/python3.12/site-packages/pandas/io/parquet.py:274\u001b[0m, in \u001b[0;36mPyArrowImpl.read\u001b[0;34m(self, path, columns, filters, use_nullable_dtypes, dtype_backend, storage_options, filesystem, **kwargs)\u001b[0m\n\u001b[1;32m    267\u001b[0m path_or_handle, handles, filesystem \u001b[38;5;241m=\u001b[39m _get_path_or_handle(\n\u001b[1;32m    268\u001b[0m     path,\n\u001b[1;32m    269\u001b[0m     filesystem,\n\u001b[1;32m    270\u001b[0m     storage_options\u001b[38;5;241m=\u001b[39mstorage_options,\n\u001b[1;32m    271\u001b[0m     mode\u001b[38;5;241m=\u001b[39m\u001b[38;5;124m\"\u001b[39m\u001b[38;5;124mrb\u001b[39m\u001b[38;5;124m\"\u001b[39m,\n\u001b[1;32m    272\u001b[0m )\n\u001b[1;32m    273\u001b[0m \u001b[38;5;28;01mtry\u001b[39;00m:\n\u001b[0;32m--> 274\u001b[0m     pa_table \u001b[38;5;241m=\u001b[39m \u001b[38;5;28mself\u001b[39m\u001b[38;5;241m.\u001b[39mapi\u001b[38;5;241m.\u001b[39mparquet\u001b[38;5;241m.\u001b[39mread_table(\n\u001b[1;32m    275\u001b[0m         path_or_handle,\n\u001b[1;32m    276\u001b[0m         columns\u001b[38;5;241m=\u001b[39mcolumns,\n\u001b[1;32m    277\u001b[0m         filesystem\u001b[38;5;241m=\u001b[39mfilesystem,\n\u001b[1;32m    278\u001b[0m         filters\u001b[38;5;241m=\u001b[39mfilters,\n\u001b[1;32m    279\u001b[0m         \u001b[38;5;241m*\u001b[39m\u001b[38;5;241m*\u001b[39mkwargs,\n\u001b[1;32m    280\u001b[0m     )\n\u001b[1;32m    281\u001b[0m     result \u001b[38;5;241m=\u001b[39m pa_table\u001b[38;5;241m.\u001b[39mto_pandas(\u001b[38;5;241m*\u001b[39m\u001b[38;5;241m*\u001b[39mto_pandas_kwargs)\n\u001b[1;32m    283\u001b[0m     \u001b[38;5;28;01mif\u001b[39;00m manager \u001b[38;5;241m==\u001b[39m \u001b[38;5;124m\"\u001b[39m\u001b[38;5;124marray\u001b[39m\u001b[38;5;124m\"\u001b[39m:\n",
      "File \u001b[0;32m~/anaconda3/lib/python3.12/site-packages/pyarrow/parquet/core.py:3003\u001b[0m, in \u001b[0;36mread_table\u001b[0;34m(source, columns, use_threads, metadata, schema, use_pandas_metadata, read_dictionary, memory_map, buffer_size, partitioning, filesystem, filters, use_legacy_dataset, ignore_prefixes, pre_buffer, coerce_int96_timestamp_unit, decryption_properties, thrift_string_size_limit, thrift_container_size_limit)\u001b[0m\n\u001b[1;32m   2992\u001b[0m         \u001b[38;5;66;03m# TODO test that source is not a directory or a list\u001b[39;00m\n\u001b[1;32m   2993\u001b[0m         dataset \u001b[38;5;241m=\u001b[39m ParquetFile(\n\u001b[1;32m   2994\u001b[0m             source, metadata\u001b[38;5;241m=\u001b[39mmetadata, read_dictionary\u001b[38;5;241m=\u001b[39mread_dictionary,\n\u001b[1;32m   2995\u001b[0m             memory_map\u001b[38;5;241m=\u001b[39mmemory_map, buffer_size\u001b[38;5;241m=\u001b[39mbuffer_size,\n\u001b[0;32m   (...)\u001b[0m\n\u001b[1;32m   3000\u001b[0m             thrift_container_size_limit\u001b[38;5;241m=\u001b[39mthrift_container_size_limit,\n\u001b[1;32m   3001\u001b[0m         )\n\u001b[0;32m-> 3003\u001b[0m     \u001b[38;5;28;01mreturn\u001b[39;00m dataset\u001b[38;5;241m.\u001b[39mread(columns\u001b[38;5;241m=\u001b[39mcolumns, use_threads\u001b[38;5;241m=\u001b[39muse_threads,\n\u001b[1;32m   3004\u001b[0m                         use_pandas_metadata\u001b[38;5;241m=\u001b[39muse_pandas_metadata)\n\u001b[1;32m   3006\u001b[0m warnings\u001b[38;5;241m.\u001b[39mwarn(\n\u001b[1;32m   3007\u001b[0m     \u001b[38;5;124m\"\u001b[39m\u001b[38;5;124mPassing \u001b[39m\u001b[38;5;124m'\u001b[39m\u001b[38;5;124muse_legacy_dataset=True\u001b[39m\u001b[38;5;124m'\u001b[39m\u001b[38;5;124m to get the legacy behaviour is \u001b[39m\u001b[38;5;124m\"\u001b[39m\n\u001b[1;32m   3008\u001b[0m     \u001b[38;5;124m\"\u001b[39m\u001b[38;5;124mdeprecated as of pyarrow 8.0.0, and the legacy implementation will \u001b[39m\u001b[38;5;124m\"\u001b[39m\n\u001b[1;32m   3009\u001b[0m     \u001b[38;5;124m\"\u001b[39m\u001b[38;5;124mbe removed in a future version.\u001b[39m\u001b[38;5;124m\"\u001b[39m,\n\u001b[1;32m   3010\u001b[0m     \u001b[38;5;167;01mFutureWarning\u001b[39;00m, stacklevel\u001b[38;5;241m=\u001b[39m\u001b[38;5;241m2\u001b[39m)\n\u001b[1;32m   3012\u001b[0m \u001b[38;5;28;01mif\u001b[39;00m ignore_prefixes \u001b[38;5;129;01mis\u001b[39;00m \u001b[38;5;129;01mnot\u001b[39;00m \u001b[38;5;28;01mNone\u001b[39;00m:\n",
      "File \u001b[0;32m~/anaconda3/lib/python3.12/site-packages/pyarrow/parquet/core.py:2631\u001b[0m, in \u001b[0;36m_ParquetDatasetV2.read\u001b[0;34m(self, columns, use_threads, use_pandas_metadata)\u001b[0m\n\u001b[1;32m   2623\u001b[0m         index_columns \u001b[38;5;241m=\u001b[39m [\n\u001b[1;32m   2624\u001b[0m             col \u001b[38;5;28;01mfor\u001b[39;00m col \u001b[38;5;129;01min\u001b[39;00m _get_pandas_index_columns(metadata)\n\u001b[1;32m   2625\u001b[0m             \u001b[38;5;28;01mif\u001b[39;00m \u001b[38;5;129;01mnot\u001b[39;00m \u001b[38;5;28misinstance\u001b[39m(col, \u001b[38;5;28mdict\u001b[39m)\n\u001b[1;32m   2626\u001b[0m         ]\n\u001b[1;32m   2627\u001b[0m         columns \u001b[38;5;241m=\u001b[39m (\n\u001b[1;32m   2628\u001b[0m             \u001b[38;5;28mlist\u001b[39m(columns) \u001b[38;5;241m+\u001b[39m \u001b[38;5;28mlist\u001b[39m(\u001b[38;5;28mset\u001b[39m(index_columns) \u001b[38;5;241m-\u001b[39m \u001b[38;5;28mset\u001b[39m(columns))\n\u001b[1;32m   2629\u001b[0m         )\n\u001b[0;32m-> 2631\u001b[0m table \u001b[38;5;241m=\u001b[39m \u001b[38;5;28mself\u001b[39m\u001b[38;5;241m.\u001b[39m_dataset\u001b[38;5;241m.\u001b[39mto_table(\n\u001b[1;32m   2632\u001b[0m     columns\u001b[38;5;241m=\u001b[39mcolumns, \u001b[38;5;28mfilter\u001b[39m\u001b[38;5;241m=\u001b[39m\u001b[38;5;28mself\u001b[39m\u001b[38;5;241m.\u001b[39m_filter_expression,\n\u001b[1;32m   2633\u001b[0m     use_threads\u001b[38;5;241m=\u001b[39muse_threads\n\u001b[1;32m   2634\u001b[0m )\n\u001b[1;32m   2636\u001b[0m \u001b[38;5;66;03m# if use_pandas_metadata, restore the pandas metadata (which gets\u001b[39;00m\n\u001b[1;32m   2637\u001b[0m \u001b[38;5;66;03m# lost if doing a specific `columns` selection in to_table)\u001b[39;00m\n\u001b[1;32m   2638\u001b[0m \u001b[38;5;28;01mif\u001b[39;00m use_pandas_metadata:\n",
      "File \u001b[0;32m~/anaconda3/lib/python3.12/site-packages/pyarrow/_dataset.pyx:556\u001b[0m, in \u001b[0;36mpyarrow._dataset.Dataset.to_table\u001b[0;34m()\u001b[0m\n",
      "File \u001b[0;32m~/anaconda3/lib/python3.12/site-packages/pyarrow/_dataset.pyx:3713\u001b[0m, in \u001b[0;36mpyarrow._dataset.Scanner.to_table\u001b[0;34m()\u001b[0m\n",
      "File \u001b[0;32m~/anaconda3/lib/python3.12/site-packages/pyarrow/error.pxi:154\u001b[0m, in \u001b[0;36mpyarrow.lib.pyarrow_internal_check_status\u001b[0;34m()\u001b[0m\n",
      "File \u001b[0;32m~/anaconda3/lib/python3.12/site-packages/pyarrow/error.pxi:91\u001b[0m, in \u001b[0;36mpyarrow.lib.check_status\u001b[0;34m()\u001b[0m\n",
      "\u001b[0;31mOSError\u001b[0m: Unexpected end of stream: Page was smaller (17) than expected (18)"
     ]
    }
   ],
   "source": [
    "import pandas as pd\n",
    "df = pd.read_parquet(\"/home/mohammad/RenewableInsight/data/ut4rl1wyx9.parquet\", engine='pyarrow')\n"
   ]
  },
  {
   "cell_type": "code",
   "execution_count": 1,
   "id": "98017830-6611-4244-bacd-9295272b03b5",
   "metadata": {},
   "outputs": [],
   "source": [
    "import csv\n",
    "import logging\n",
    "import datetime\n",
    "import os\n",
    "import sys\n",
    "import pytz\n",
    "import pandas as pd\n",
    "from time import sleep\n",
    "from typing import Dict\n",
    "import yfinance as yf\n",
    "from confluent_kafka import Consumer, KafkaError\n",
    "from urllib.parse import urlparse\n",
    "import json \n",
    "src_path = os.path.abspath('../')\n",
    "if src_path not in sys.path:\n",
    "    sys.path.append(src_path)\n",
    "from src.utilities.utils import create_s3_keys_gas, check_s3_key_exists, generate_random_string"
   ]
  },
  {
   "cell_type": "code",
   "execution_count": 3,
   "id": "eba94b65-c262-47e9-adce-7497070ee474",
   "metadata": {},
   "outputs": [
    {
     "name": "stdout",
     "output_type": "stream",
     "text": [
      "hour=0,day=23,month=8,year=2024\n",
      "hour=1,day=23,month=8,year=2024\n",
      "hour=2,day=23,month=8,year=2024\n",
      "hour=3,day=23,month=8,year=2024\n",
      "hour=4,day=23,month=8,year=2024\n",
      "hour=5,day=23,month=8,year=2024\n",
      "hour=6,day=23,month=8,year=2024\n",
      "hour=7,day=23,month=8,year=2024\n",
      "hour=8,day=23,month=8,year=2024\n",
      "hour=9,day=23,month=8,year=2024\n",
      "hour=10,day=23,month=8,year=2024\n",
      "hour=11,day=23,month=8,year=2024\n",
      "hour=12,day=23,month=8,year=2024\n",
      "hour=13,day=23,month=8,year=2024\n",
      "hour=14,day=23,month=8,year=2024\n",
      "hour=15,day=23,month=8,year=2024\n",
      "hour=16,day=23,month=8,year=2024\n",
      "hour=17,day=23,month=8,year=2024\n",
      "hour=18,day=23,month=8,year=2024\n",
      "hour=19,day=23,month=8,year=2024\n"
     ]
    }
   ],
   "source": [
    "for object_key, date in create_s3_keys_gas():\n",
    "    print(f\"hour={date.hour},day={date.day},month={date.month},year={date.year}\")\n",
    "    "
   ]
  },
  {
   "cell_type": "code",
   "execution_count": 4,
   "id": "d1b4cf06-741f-4e68-b67d-adc3c41581c8",
   "metadata": {},
   "outputs": [],
   "source": [
    "date_to_read = datetime.datetime.now(pytz.timezone('Europe/Berlin'))"
   ]
  },
  {
   "cell_type": "code",
   "execution_count": 5,
   "id": "87d191fd-b231-4776-bb90-007758b68088",
   "metadata": {},
   "outputs": [],
   "source": [
    "date_to_read = date_to_read - datetime.timedelta(days=1)"
   ]
  },
  {
   "cell_type": "code",
   "execution_count": 6,
   "id": "2a7a8b36-8036-4c10-8fce-efbead92e64d",
   "metadata": {},
   "outputs": [
    {
     "data": {
      "text/plain": [
       "datetime.datetime(2024, 8, 23, 20, 43, 12, 970511, tzinfo=<DstTzInfo 'Europe/Berlin' CEST+2:00:00 DST>)"
      ]
     },
     "execution_count": 6,
     "metadata": {},
     "output_type": "execute_result"
    }
   ],
   "source": [
    "date_to_read"
   ]
  },
  {
   "cell_type": "code",
   "execution_count": 7,
   "id": "1674c7bb-6830-4c09-bdf9-1a4c24a40c3e",
   "metadata": {},
   "outputs": [
    {
     "data": {
      "text/plain": [
       "datetime.datetime(2024, 8, 23, 23, 43, 12, 970511, tzinfo=<DstTzInfo 'Europe/Berlin' CEST+2:00:00 DST>)"
      ]
     },
     "execution_count": 7,
     "metadata": {},
     "output_type": "execute_result"
    }
   ],
   "source": [
    "date_to_read.replace(hour=23)"
   ]
  },
  {
   "cell_type": "code",
   "execution_count": 8,
   "id": "4fd319ac-6a46-48e2-a2f8-4c1f6260f8f7",
   "metadata": {},
   "outputs": [
    {
     "data": {
      "text/plain": [
       "20"
      ]
     },
     "execution_count": 8,
     "metadata": {},
     "output_type": "execute_result"
    }
   ],
   "source": [
    "date_to_read.hour"
   ]
  },
  {
   "cell_type": "code",
   "execution_count": 5,
   "id": "0e2f9458-eb14-40a5-8bf6-0f263e0e2e21",
   "metadata": {},
   "outputs": [],
   "source": [
    "from src.api.yahoo import YahooAPI"
   ]
  },
  {
   "cell_type": "code",
   "execution_count": 2,
   "id": "9d53de2f-1b5a-45e1-beec-a6fdacd5e650",
   "metadata": {},
   "outputs": [],
   "source": [
    "from src.config import Config"
   ]
  },
  {
   "cell_type": "code",
   "execution_count": 17,
   "id": "6fe47dea-40fa-4898-8d81-15ca3a304936",
   "metadata": {},
   "outputs": [],
   "source": [
    "yahoo_finance_api = YahooAPI(symbol='NG=F')"
   ]
  },
  {
   "cell_type": "code",
   "execution_count": 18,
   "id": "4ac39817-f1e8-4f8a-9e76-2eeb122ea78d",
   "metadata": {},
   "outputs": [],
   "source": [
    "yahoo_finance_api.fetch_data(period='5d',interval='5m')"
   ]
  },
  {
   "cell_type": "code",
   "execution_count": 16,
   "id": "9bf3f957-1869-4895-a01b-127658bd7878",
   "metadata": {},
   "outputs": [
    {
     "name": "stdout",
     "output_type": "stream",
     "text": [
      "                            Open   High    Low  Close  Volume  Dividends  \\\n",
      "Datetime                                                                   \n",
      "2024-07-10 00:00:00-04:00  2.347  2.347  2.340  2.341     154        0.0   \n",
      "2024-07-10 00:30:00-04:00  2.342  2.343  2.337  2.337     204        0.0   \n",
      "2024-07-10 01:00:00-04:00  2.338  2.342  2.338  2.341     268        0.0   \n",
      "2024-07-10 01:30:00-04:00  2.341  2.344  2.341  2.343     235        0.0   \n",
      "2024-07-10 02:00:00-04:00  2.343  2.344  2.340  2.343     283        0.0   \n",
      "...                          ...    ...    ...    ...     ...        ...   \n",
      "2024-07-22 10:00:00-04:00  2.221  2.235  2.205  2.232    7024        0.0   \n",
      "2024-07-22 10:30:00-04:00  2.231  2.242  2.215  2.239    9139        0.0   \n",
      "2024-07-22 11:00:00-04:00  2.238  2.240  2.225  2.229    6910        0.0   \n",
      "2024-07-22 11:30:00-04:00  2.229  2.244  2.229  2.242    6657        0.0   \n",
      "2024-07-22 12:00:00-04:00  2.242  2.252  2.241  2.248    2181        0.0   \n",
      "\n",
      "                           Stock Splits  \n",
      "Datetime                                 \n",
      "2024-07-10 00:00:00-04:00           0.0  \n",
      "2024-07-10 00:30:00-04:00           0.0  \n",
      "2024-07-10 01:00:00-04:00           0.0  \n",
      "2024-07-10 01:30:00-04:00           0.0  \n",
      "2024-07-10 02:00:00-04:00           0.0  \n",
      "...                                 ...  \n",
      "2024-07-22 10:00:00-04:00           0.0  \n",
      "2024-07-22 10:30:00-04:00           0.0  \n",
      "2024-07-22 11:00:00-04:00           0.0  \n",
      "2024-07-22 11:30:00-04:00           0.0  \n",
      "2024-07-22 12:00:00-04:00           0.0  \n",
      "\n",
      "[393 rows x 7 columns]\n",
      "{'maxAge': 86400, 'priceHint': 4, 'previousClose': 2.128, 'open': 2.104, 'dayLow': 2.09, 'dayHigh': 2.252, 'regularMarketPreviousClose': 2.128, 'regularMarketOpen': 2.104, 'regularMarketDayLow': 2.09, 'regularMarketDayHigh': 2.252, 'volume': 93413, 'regularMarketVolume': 93413, 'averageVolume': 157840, 'averageVolume10days': 156780, 'averageDailyVolume10Day': 156780, 'bid': 2.247, 'ask': 2.248, 'askSize': 800, 'expireDate': 1722211200, 'openInterest': 82773, 'fiftyTwoWeekLow': 1.481, 'fiftyTwoWeekHigh': 3.63, 'fiftyDayAverage': 2.55974, 'twoHundredDayAverage': 2.428415, 'currency': 'USD', 'exchange': 'NYM', 'quoteType': 'FUTURE', 'symbol': 'NGQ24.NYM', 'underlyingSymbol': 'NG=F', 'shortName': 'Natural Gas Aug 24', 'firstTradeDateEpochUtc': 967608000, 'timeZoneFullName': 'America/New_York', 'timeZoneShortName': 'EDT', 'uuid': '2a316c73-eccf-333d-b201-8205e14254ed', 'gmtOffSetMilliseconds': -14400000, 'trailingPegRatio': None}\n",
      "Series([], Freq: 30min, Name: Dividends, dtype: float64)\n",
      "Series([], Freq: 30min, Name: Stock Splits, dtype: float64)\n",
      "Empty DataFrame\n",
      "Columns: [Dividends, Stock Splits]\n",
      "Index: []\n"
     ]
    }
   ],
   "source": [
    "# Create an instance of YahooFinanceAPI for the ticker 'AAPL'\n",
    "yf_api = YahooFinanceAPI('NG=F')\n",
    "\n",
    "# Get historical market data\n",
    "historical_data = yf_api.get_historical_data(start='2024-07-10', end='2024-07-23',interval='30m')\n",
    "print(historical_data)\n",
    "\n",
    "\n",
    "# Get summary data\n",
    "summary = yf_api.get_summary()\n",
    "print(summary)\n",
    "\n",
    "# Get dividends data\n",
    "dividends = yf_api.get_dividends()\n",
    "print(dividends)\n",
    "\n",
    "# Get splits data\n",
    "splits = yf_api.get_splits()\n",
    "print(splits)\n",
    "\n",
    "# Get actions data\n",
    "actions = yf_api.get_actions()\n",
    "print(actions)\n"
   ]
  },
  {
   "cell_type": "code",
   "execution_count": 47,
   "id": "b174321a-267c-4407-bfcf-a6ccc30e288e",
   "metadata": {},
   "outputs": [
    {
     "name": "stdout",
     "output_type": "stream",
     "text": [
      "Date\n",
      "2024-07-22 00:00:00-04:00    2.238\n",
      "Name: Close, dtype: float64\n"
     ]
    }
   ],
   "source": [
    "ticker = yf.Ticker(\"NG=F\")\n",
    "live_price = ticker.history(period='1d')['Close']\n",
    "print(live_price)\n",
    "# Get the data for the last 72 hours\n",
    "data = ticker.history(period='1d', interval='5m')"
   ]
  },
  {
   "cell_type": "code",
   "execution_count": 48,
   "id": "5bd0bb2b-8d86-4983-aaa7-1f8bae253eb2",
   "metadata": {},
   "outputs": [
    {
     "data": {
      "text/html": [
       "<div>\n",
       "<style scoped>\n",
       "    .dataframe tbody tr th:only-of-type {\n",
       "        vertical-align: middle;\n",
       "    }\n",
       "\n",
       "    .dataframe tbody tr th {\n",
       "        vertical-align: top;\n",
       "    }\n",
       "\n",
       "    .dataframe thead th {\n",
       "        text-align: right;\n",
       "    }\n",
       "</style>\n",
       "<table border=\"1\" class=\"dataframe\">\n",
       "  <thead>\n",
       "    <tr style=\"text-align: right;\">\n",
       "      <th></th>\n",
       "      <th>Datetime</th>\n",
       "      <th>Open</th>\n",
       "      <th>High</th>\n",
       "      <th>Low</th>\n",
       "      <th>Close</th>\n",
       "      <th>Volume</th>\n",
       "      <th>Dividends</th>\n",
       "      <th>Stock Splits</th>\n",
       "    </tr>\n",
       "  </thead>\n",
       "  <tbody>\n",
       "    <tr>\n",
       "      <th>0</th>\n",
       "      <td>2024-07-22 00:00:00-04:00</td>\n",
       "      <td>2.170</td>\n",
       "      <td>2.170</td>\n",
       "      <td>2.168</td>\n",
       "      <td>2.168</td>\n",
       "      <td>15</td>\n",
       "      <td>0.0</td>\n",
       "      <td>0.0</td>\n",
       "    </tr>\n",
       "    <tr>\n",
       "      <th>1</th>\n",
       "      <td>2024-07-22 00:05:00-04:00</td>\n",
       "      <td>2.167</td>\n",
       "      <td>2.167</td>\n",
       "      <td>2.165</td>\n",
       "      <td>2.165</td>\n",
       "      <td>51</td>\n",
       "      <td>0.0</td>\n",
       "      <td>0.0</td>\n",
       "    </tr>\n",
       "    <tr>\n",
       "      <th>2</th>\n",
       "      <td>2024-07-22 00:10:00-04:00</td>\n",
       "      <td>2.166</td>\n",
       "      <td>2.168</td>\n",
       "      <td>2.166</td>\n",
       "      <td>2.168</td>\n",
       "      <td>18</td>\n",
       "      <td>0.0</td>\n",
       "      <td>0.0</td>\n",
       "    </tr>\n",
       "    <tr>\n",
       "      <th>3</th>\n",
       "      <td>2024-07-22 00:15:00-04:00</td>\n",
       "      <td>2.168</td>\n",
       "      <td>2.168</td>\n",
       "      <td>2.166</td>\n",
       "      <td>2.166</td>\n",
       "      <td>14</td>\n",
       "      <td>0.0</td>\n",
       "      <td>0.0</td>\n",
       "    </tr>\n",
       "    <tr>\n",
       "      <th>4</th>\n",
       "      <td>2024-07-22 00:20:00-04:00</td>\n",
       "      <td>2.167</td>\n",
       "      <td>2.167</td>\n",
       "      <td>2.166</td>\n",
       "      <td>2.167</td>\n",
       "      <td>11</td>\n",
       "      <td>0.0</td>\n",
       "      <td>0.0</td>\n",
       "    </tr>\n",
       "    <tr>\n",
       "      <th>...</th>\n",
       "      <td>...</td>\n",
       "      <td>...</td>\n",
       "      <td>...</td>\n",
       "      <td>...</td>\n",
       "      <td>...</td>\n",
       "      <td>...</td>\n",
       "      <td>...</td>\n",
       "      <td>...</td>\n",
       "    </tr>\n",
       "    <tr>\n",
       "      <th>162</th>\n",
       "      <td>2024-07-22 13:30:00-04:00</td>\n",
       "      <td>2.266</td>\n",
       "      <td>2.270</td>\n",
       "      <td>2.261</td>\n",
       "      <td>2.262</td>\n",
       "      <td>1021</td>\n",
       "      <td>0.0</td>\n",
       "      <td>0.0</td>\n",
       "    </tr>\n",
       "    <tr>\n",
       "      <th>163</th>\n",
       "      <td>2024-07-22 13:35:00-04:00</td>\n",
       "      <td>2.262</td>\n",
       "      <td>2.262</td>\n",
       "      <td>2.253</td>\n",
       "      <td>2.253</td>\n",
       "      <td>925</td>\n",
       "      <td>0.0</td>\n",
       "      <td>0.0</td>\n",
       "    </tr>\n",
       "    <tr>\n",
       "      <th>164</th>\n",
       "      <td>2024-07-22 13:40:00-04:00</td>\n",
       "      <td>2.253</td>\n",
       "      <td>2.254</td>\n",
       "      <td>2.243</td>\n",
       "      <td>2.244</td>\n",
       "      <td>1347</td>\n",
       "      <td>0.0</td>\n",
       "      <td>0.0</td>\n",
       "    </tr>\n",
       "    <tr>\n",
       "      <th>165</th>\n",
       "      <td>2024-07-22 13:45:00-04:00</td>\n",
       "      <td>2.244</td>\n",
       "      <td>2.249</td>\n",
       "      <td>2.242</td>\n",
       "      <td>2.245</td>\n",
       "      <td>523</td>\n",
       "      <td>0.0</td>\n",
       "      <td>0.0</td>\n",
       "    </tr>\n",
       "    <tr>\n",
       "      <th>166</th>\n",
       "      <td>2024-07-22 13:50:00-04:00</td>\n",
       "      <td>2.245</td>\n",
       "      <td>2.246</td>\n",
       "      <td>2.235</td>\n",
       "      <td>2.238</td>\n",
       "      <td>1078</td>\n",
       "      <td>0.0</td>\n",
       "      <td>0.0</td>\n",
       "    </tr>\n",
       "  </tbody>\n",
       "</table>\n",
       "<p>167 rows × 8 columns</p>\n",
       "</div>"
      ],
      "text/plain": [
       "                     Datetime   Open   High    Low  Close  Volume  Dividends  \\\n",
       "0   2024-07-22 00:00:00-04:00  2.170  2.170  2.168  2.168      15        0.0   \n",
       "1   2024-07-22 00:05:00-04:00  2.167  2.167  2.165  2.165      51        0.0   \n",
       "2   2024-07-22 00:10:00-04:00  2.166  2.168  2.166  2.168      18        0.0   \n",
       "3   2024-07-22 00:15:00-04:00  2.168  2.168  2.166  2.166      14        0.0   \n",
       "4   2024-07-22 00:20:00-04:00  2.167  2.167  2.166  2.167      11        0.0   \n",
       "..                        ...    ...    ...    ...    ...     ...        ...   \n",
       "162 2024-07-22 13:30:00-04:00  2.266  2.270  2.261  2.262    1021        0.0   \n",
       "163 2024-07-22 13:35:00-04:00  2.262  2.262  2.253  2.253     925        0.0   \n",
       "164 2024-07-22 13:40:00-04:00  2.253  2.254  2.243  2.244    1347        0.0   \n",
       "165 2024-07-22 13:45:00-04:00  2.244  2.249  2.242  2.245     523        0.0   \n",
       "166 2024-07-22 13:50:00-04:00  2.245  2.246  2.235  2.238    1078        0.0   \n",
       "\n",
       "     Stock Splits  \n",
       "0             0.0  \n",
       "1             0.0  \n",
       "2             0.0  \n",
       "3             0.0  \n",
       "4             0.0  \n",
       "..            ...  \n",
       "162           0.0  \n",
       "163           0.0  \n",
       "164           0.0  \n",
       "165           0.0  \n",
       "166           0.0  \n",
       "\n",
       "[167 rows x 8 columns]"
      ]
     },
     "execution_count": 48,
     "metadata": {},
     "output_type": "execute_result"
    }
   ],
   "source": [
    "data.reset_index(drop=False, inplace=True)\n",
    "data"
   ]
  },
  {
   "cell_type": "code",
   "execution_count": 23,
   "id": "00f7b038-653c-4366-a5b4-b5d958321e7a",
   "metadata": {},
   "outputs": [
    {
     "ename": "ValueError",
     "evalue": "unconverted data remains:  17:00",
     "output_type": "error",
     "traceback": [
      "\u001b[0;31m---------------------------------------------------------------------------\u001b[0m",
      "\u001b[0;31mValueError\u001b[0m                                Traceback (most recent call last)",
      "Cell \u001b[0;32mIn[23], line 5\u001b[0m\n\u001b[1;32m      2\u001b[0m start \u001b[38;5;241m=\u001b[39m (pd\u001b[38;5;241m.\u001b[39mTimestamp\u001b[38;5;241m.\u001b[39mnow() \u001b[38;5;241m-\u001b[39m pd\u001b[38;5;241m.\u001b[39mTimedelta(minutes\u001b[38;5;241m=\u001b[39m\u001b[38;5;241m5\u001b[39m))\u001b[38;5;241m.\u001b[39mstrftime(\u001b[38;5;124m'\u001b[39m\u001b[38;5;124m%\u001b[39m\u001b[38;5;124mY-\u001b[39m\u001b[38;5;124m%\u001b[39m\u001b[38;5;124mm-\u001b[39m\u001b[38;5;132;01m%d\u001b[39;00m\u001b[38;5;124m \u001b[39m\u001b[38;5;124m%\u001b[39m\u001b[38;5;124mH:\u001b[39m\u001b[38;5;124m%\u001b[39m\u001b[38;5;124mM\u001b[39m\u001b[38;5;124m'\u001b[39m)\n\u001b[1;32m      3\u001b[0m end \u001b[38;5;241m=\u001b[39m (pd\u001b[38;5;241m.\u001b[39mTimestamp\u001b[38;5;241m.\u001b[39mnow())\u001b[38;5;241m.\u001b[39mstrftime(\u001b[38;5;124m'\u001b[39m\u001b[38;5;124m%\u001b[39m\u001b[38;5;124mY-\u001b[39m\u001b[38;5;124m%\u001b[39m\u001b[38;5;124mm-\u001b[39m\u001b[38;5;132;01m%d\u001b[39;00m\u001b[38;5;124m \u001b[39m\u001b[38;5;124m%\u001b[39m\u001b[38;5;124mH:\u001b[39m\u001b[38;5;124m%\u001b[39m\u001b[38;5;124mM\u001b[39m\u001b[38;5;124m'\u001b[39m)\n\u001b[0;32m----> 5\u001b[0m data \u001b[38;5;241m=\u001b[39m yahoo_finance_api\u001b[38;5;241m.\u001b[39mget_historical_data(interval\u001b[38;5;241m=\u001b[39m\u001b[38;5;124m'\u001b[39m\u001b[38;5;124m5m\u001b[39m\u001b[38;5;124m'\u001b[39m, start\u001b[38;5;241m=\u001b[39mstart, end\u001b[38;5;241m=\u001b[39mend)\n\u001b[1;32m      6\u001b[0m start\n",
      "File \u001b[0;32m~/RenewableInsight/src/api/yahoo.py:23\u001b[0m, in \u001b[0;36mYahooFinanceAPI.get_historical_data\u001b[0;34m(self, start, end, interval)\u001b[0m\n\u001b[1;32m     14\u001b[0m \u001b[38;5;28;01mdef\u001b[39;00m \u001b[38;5;21mget_historical_data\u001b[39m(\u001b[38;5;28mself\u001b[39m, start\u001b[38;5;241m=\u001b[39m\u001b[38;5;28;01mNone\u001b[39;00m, end\u001b[38;5;241m=\u001b[39m\u001b[38;5;28;01mNone\u001b[39;00m, interval\u001b[38;5;241m=\u001b[39m\u001b[38;5;124m'\u001b[39m\u001b[38;5;124m1d\u001b[39m\u001b[38;5;124m'\u001b[39m):\n\u001b[1;32m     15\u001b[0m \u001b[38;5;250m    \u001b[39m\u001b[38;5;124;03m\"\"\"\u001b[39;00m\n\u001b[1;32m     16\u001b[0m \u001b[38;5;124;03m    Get historical market data for the specified ticker.\u001b[39;00m\n\u001b[1;32m     17\u001b[0m \n\u001b[0;32m   (...)\u001b[0m\n\u001b[1;32m     21\u001b[0m \u001b[38;5;124;03m    :return: A pandas DataFrame containing the historical market data.\u001b[39;00m\n\u001b[1;32m     22\u001b[0m \u001b[38;5;124;03m    \"\"\"\u001b[39;00m\n\u001b[0;32m---> 23\u001b[0m     historical_data \u001b[38;5;241m=\u001b[39m \u001b[38;5;28mself\u001b[39m\u001b[38;5;241m.\u001b[39mstock\u001b[38;5;241m.\u001b[39mhistory(start\u001b[38;5;241m=\u001b[39mstart, end\u001b[38;5;241m=\u001b[39mend, interval\u001b[38;5;241m=\u001b[39minterval)\n\u001b[1;32m     24\u001b[0m     \u001b[38;5;28;01mreturn\u001b[39;00m historical_data\n",
      "File \u001b[0;32m~/anaconda3/lib/python3.12/site-packages/yfinance/utils.py:104\u001b[0m, in \u001b[0;36mlog_indent_decorator.<locals>.wrapper\u001b[0;34m(*args, **kwargs)\u001b[0m\n\u001b[1;32m    101\u001b[0m logger\u001b[38;5;241m.\u001b[39mdebug(\u001b[38;5;124mf\u001b[39m\u001b[38;5;124m'\u001b[39m\u001b[38;5;124mEntering \u001b[39m\u001b[38;5;132;01m{\u001b[39;00mfunc\u001b[38;5;241m.\u001b[39m\u001b[38;5;18m__name__\u001b[39m\u001b[38;5;132;01m}\u001b[39;00m\u001b[38;5;124m()\u001b[39m\u001b[38;5;124m'\u001b[39m)\n\u001b[1;32m    103\u001b[0m \u001b[38;5;28;01mwith\u001b[39;00m IndentationContext():\n\u001b[0;32m--> 104\u001b[0m     result \u001b[38;5;241m=\u001b[39m func(\u001b[38;5;241m*\u001b[39margs, \u001b[38;5;241m*\u001b[39m\u001b[38;5;241m*\u001b[39mkwargs)\n\u001b[1;32m    106\u001b[0m logger\u001b[38;5;241m.\u001b[39mdebug(\u001b[38;5;124mf\u001b[39m\u001b[38;5;124m'\u001b[39m\u001b[38;5;124mExiting \u001b[39m\u001b[38;5;132;01m{\u001b[39;00mfunc\u001b[38;5;241m.\u001b[39m\u001b[38;5;18m__name__\u001b[39m\u001b[38;5;132;01m}\u001b[39;00m\u001b[38;5;124m()\u001b[39m\u001b[38;5;124m'\u001b[39m)\n\u001b[1;32m    107\u001b[0m \u001b[38;5;28;01mreturn\u001b[39;00m result\n",
      "File \u001b[0;32m~/anaconda3/lib/python3.12/site-packages/yfinance/base.py:78\u001b[0m, in \u001b[0;36mTickerBase.history\u001b[0;34m(self, *args, **kwargs)\u001b[0m\n\u001b[1;32m     76\u001b[0m \u001b[38;5;129m@utils\u001b[39m\u001b[38;5;241m.\u001b[39mlog_indent_decorator\n\u001b[1;32m     77\u001b[0m \u001b[38;5;28;01mdef\u001b[39;00m \u001b[38;5;21mhistory\u001b[39m(\u001b[38;5;28mself\u001b[39m, \u001b[38;5;241m*\u001b[39margs, \u001b[38;5;241m*\u001b[39m\u001b[38;5;241m*\u001b[39mkwargs) \u001b[38;5;241m-\u001b[39m\u001b[38;5;241m>\u001b[39m pd\u001b[38;5;241m.\u001b[39mDataFrame:\n\u001b[0;32m---> 78\u001b[0m     \u001b[38;5;28;01mreturn\u001b[39;00m \u001b[38;5;28mself\u001b[39m\u001b[38;5;241m.\u001b[39m_lazy_load_price_history()\u001b[38;5;241m.\u001b[39mhistory(\u001b[38;5;241m*\u001b[39margs, \u001b[38;5;241m*\u001b[39m\u001b[38;5;241m*\u001b[39mkwargs)\n",
      "File \u001b[0;32m~/anaconda3/lib/python3.12/site-packages/yfinance/utils.py:104\u001b[0m, in \u001b[0;36mlog_indent_decorator.<locals>.wrapper\u001b[0;34m(*args, **kwargs)\u001b[0m\n\u001b[1;32m    101\u001b[0m logger\u001b[38;5;241m.\u001b[39mdebug(\u001b[38;5;124mf\u001b[39m\u001b[38;5;124m'\u001b[39m\u001b[38;5;124mEntering \u001b[39m\u001b[38;5;132;01m{\u001b[39;00mfunc\u001b[38;5;241m.\u001b[39m\u001b[38;5;18m__name__\u001b[39m\u001b[38;5;132;01m}\u001b[39;00m\u001b[38;5;124m()\u001b[39m\u001b[38;5;124m'\u001b[39m)\n\u001b[1;32m    103\u001b[0m \u001b[38;5;28;01mwith\u001b[39;00m IndentationContext():\n\u001b[0;32m--> 104\u001b[0m     result \u001b[38;5;241m=\u001b[39m func(\u001b[38;5;241m*\u001b[39margs, \u001b[38;5;241m*\u001b[39m\u001b[38;5;241m*\u001b[39mkwargs)\n\u001b[1;32m    106\u001b[0m logger\u001b[38;5;241m.\u001b[39mdebug(\u001b[38;5;124mf\u001b[39m\u001b[38;5;124m'\u001b[39m\u001b[38;5;124mExiting \u001b[39m\u001b[38;5;132;01m{\u001b[39;00mfunc\u001b[38;5;241m.\u001b[39m\u001b[38;5;18m__name__\u001b[39m\u001b[38;5;132;01m}\u001b[39;00m\u001b[38;5;124m()\u001b[39m\u001b[38;5;124m'\u001b[39m)\n\u001b[1;32m    107\u001b[0m \u001b[38;5;28;01mreturn\u001b[39;00m result\n",
      "File \u001b[0;32m~/anaconda3/lib/python3.12/site-packages/yfinance/scrapers/history.py:97\u001b[0m, in \u001b[0;36mPriceHistory.history\u001b[0;34m(self, period, interval, start, end, prepost, actions, auto_adjust, back_adjust, repair, keepna, proxy, rounding, timeout, raise_errors)\u001b[0m\n\u001b[1;32m     95\u001b[0m     end \u001b[38;5;241m=\u001b[39m \u001b[38;5;28mint\u001b[39m(_time\u001b[38;5;241m.\u001b[39mtime())\n\u001b[1;32m     96\u001b[0m \u001b[38;5;28;01melse\u001b[39;00m:\n\u001b[0;32m---> 97\u001b[0m     end \u001b[38;5;241m=\u001b[39m utils\u001b[38;5;241m.\u001b[39m_parse_user_dt(end, tz)\n\u001b[1;32m     98\u001b[0m \u001b[38;5;28;01mif\u001b[39;00m start \u001b[38;5;129;01mis\u001b[39;00m \u001b[38;5;28;01mNone\u001b[39;00m:\n\u001b[1;32m     99\u001b[0m     \u001b[38;5;28;01mif\u001b[39;00m interval \u001b[38;5;241m==\u001b[39m \u001b[38;5;124m\"\u001b[39m\u001b[38;5;124m1m\u001b[39m\u001b[38;5;124m\"\u001b[39m:\n",
      "File \u001b[0;32m~/anaconda3/lib/python3.12/site-packages/yfinance/utils.py:413\u001b[0m, in \u001b[0;36m_parse_user_dt\u001b[0;34m(dt, exchange_tz)\u001b[0m\n\u001b[1;32m    410\u001b[0m \u001b[38;5;28;01melse\u001b[39;00m:\n\u001b[1;32m    411\u001b[0m     \u001b[38;5;66;03m# Convert str/date -> datetime, set tzinfo=exchange, get timestamp:\u001b[39;00m\n\u001b[1;32m    412\u001b[0m     \u001b[38;5;28;01mif\u001b[39;00m \u001b[38;5;28misinstance\u001b[39m(dt, \u001b[38;5;28mstr\u001b[39m):\n\u001b[0;32m--> 413\u001b[0m         dt \u001b[38;5;241m=\u001b[39m _datetime\u001b[38;5;241m.\u001b[39mdatetime\u001b[38;5;241m.\u001b[39mstrptime(\u001b[38;5;28mstr\u001b[39m(dt), \u001b[38;5;124m'\u001b[39m\u001b[38;5;124m%\u001b[39m\u001b[38;5;124mY-\u001b[39m\u001b[38;5;124m%\u001b[39m\u001b[38;5;124mm-\u001b[39m\u001b[38;5;132;01m%d\u001b[39;00m\u001b[38;5;124m'\u001b[39m)\n\u001b[1;32m    414\u001b[0m     \u001b[38;5;28;01mif\u001b[39;00m \u001b[38;5;28misinstance\u001b[39m(dt, _datetime\u001b[38;5;241m.\u001b[39mdate) \u001b[38;5;129;01mand\u001b[39;00m \u001b[38;5;129;01mnot\u001b[39;00m \u001b[38;5;28misinstance\u001b[39m(dt, _datetime\u001b[38;5;241m.\u001b[39mdatetime):\n\u001b[1;32m    415\u001b[0m         dt \u001b[38;5;241m=\u001b[39m _datetime\u001b[38;5;241m.\u001b[39mdatetime\u001b[38;5;241m.\u001b[39mcombine(dt, _datetime\u001b[38;5;241m.\u001b[39mtime(\u001b[38;5;241m0\u001b[39m))\n",
      "File \u001b[0;32m~/anaconda3/lib/python3.12/_strptime.py:554\u001b[0m, in \u001b[0;36m_strptime_datetime\u001b[0;34m(cls, data_string, format)\u001b[0m\n\u001b[1;32m    551\u001b[0m \u001b[38;5;28;01mdef\u001b[39;00m \u001b[38;5;21m_strptime_datetime\u001b[39m(\u001b[38;5;28mcls\u001b[39m, data_string, \u001b[38;5;28mformat\u001b[39m\u001b[38;5;241m=\u001b[39m\u001b[38;5;124m\"\u001b[39m\u001b[38;5;132;01m%a\u001b[39;00m\u001b[38;5;124m \u001b[39m\u001b[38;5;124m%\u001b[39m\u001b[38;5;124mb \u001b[39m\u001b[38;5;132;01m%d\u001b[39;00m\u001b[38;5;124m \u001b[39m\u001b[38;5;124m%\u001b[39m\u001b[38;5;124mH:\u001b[39m\u001b[38;5;124m%\u001b[39m\u001b[38;5;124mM:\u001b[39m\u001b[38;5;124m%\u001b[39m\u001b[38;5;124mS \u001b[39m\u001b[38;5;124m%\u001b[39m\u001b[38;5;124mY\u001b[39m\u001b[38;5;124m\"\u001b[39m):\n\u001b[1;32m    552\u001b[0m \u001b[38;5;250m    \u001b[39m\u001b[38;5;124;03m\"\"\"Return a class cls instance based on the input string and the\u001b[39;00m\n\u001b[1;32m    553\u001b[0m \u001b[38;5;124;03m    format string.\"\"\"\u001b[39;00m\n\u001b[0;32m--> 554\u001b[0m     tt, fraction, gmtoff_fraction \u001b[38;5;241m=\u001b[39m _strptime(data_string, \u001b[38;5;28mformat\u001b[39m)\n\u001b[1;32m    555\u001b[0m     tzname, gmtoff \u001b[38;5;241m=\u001b[39m tt[\u001b[38;5;241m-\u001b[39m\u001b[38;5;241m2\u001b[39m:]\n\u001b[1;32m    556\u001b[0m     args \u001b[38;5;241m=\u001b[39m tt[:\u001b[38;5;241m6\u001b[39m] \u001b[38;5;241m+\u001b[39m (fraction,)\n",
      "File \u001b[0;32m~/anaconda3/lib/python3.12/_strptime.py:336\u001b[0m, in \u001b[0;36m_strptime\u001b[0;34m(data_string, format)\u001b[0m\n\u001b[1;32m    333\u001b[0m     \u001b[38;5;28;01mraise\u001b[39;00m \u001b[38;5;167;01mValueError\u001b[39;00m(\u001b[38;5;124m\"\u001b[39m\u001b[38;5;124mtime data \u001b[39m\u001b[38;5;132;01m%r\u001b[39;00m\u001b[38;5;124m does not match format \u001b[39m\u001b[38;5;132;01m%r\u001b[39;00m\u001b[38;5;124m\"\u001b[39m \u001b[38;5;241m%\u001b[39m\n\u001b[1;32m    334\u001b[0m                      (data_string, \u001b[38;5;28mformat\u001b[39m))\n\u001b[1;32m    335\u001b[0m \u001b[38;5;28;01mif\u001b[39;00m \u001b[38;5;28mlen\u001b[39m(data_string) \u001b[38;5;241m!=\u001b[39m found\u001b[38;5;241m.\u001b[39mend():\n\u001b[0;32m--> 336\u001b[0m     \u001b[38;5;28;01mraise\u001b[39;00m \u001b[38;5;167;01mValueError\u001b[39;00m(\u001b[38;5;124m\"\u001b[39m\u001b[38;5;124munconverted data remains: \u001b[39m\u001b[38;5;132;01m%s\u001b[39;00m\u001b[38;5;124m\"\u001b[39m \u001b[38;5;241m%\u001b[39m\n\u001b[1;32m    337\u001b[0m                       data_string[found\u001b[38;5;241m.\u001b[39mend():])\n\u001b[1;32m    339\u001b[0m iso_year \u001b[38;5;241m=\u001b[39m year \u001b[38;5;241m=\u001b[39m \u001b[38;5;28;01mNone\u001b[39;00m\n\u001b[1;32m    340\u001b[0m month \u001b[38;5;241m=\u001b[39m day \u001b[38;5;241m=\u001b[39m \u001b[38;5;241m1\u001b[39m\n",
      "\u001b[0;31mValueError\u001b[0m: unconverted data remains:  17:00"
     ]
    }
   ],
   "source": [
    "yahoo_finance_api = YahooFinanceAPI(ticker=\"NG=F\")\n",
    "start = (pd.Timestamp.now() - pd.Timedelta(minutes=5)).strftime('%Y-%m-%d %H:%M')\n",
    "end = (pd.Timestamp.now()).strftime('%Y-%m-%d %H:%M')\n",
    "\n",
    "# data = yahoo_finance_api.get_historical_data(interval='5m', start=start, end=end)\n",
    "start"
   ]
  },
  {
   "cell_type": "code",
   "execution_count": 19,
   "id": "a861bf1f-f851-4b1d-b95a-d6e86c416edb",
   "metadata": {},
   "outputs": [
    {
     "data": {
      "text/plain": [
       "Timestamp('2024-07-22 16:56:41.112684')"
      ]
     },
     "execution_count": 19,
     "metadata": {},
     "output_type": "execute_result"
    }
   ],
   "source": [
    "pd.Timestamp.now()"
   ]
  },
  {
   "cell_type": "code",
   "execution_count": 3,
   "id": "ee48d517-4fb8-48ef-9df3-534cf21962db",
   "metadata": {},
   "outputs": [],
   "source": [
    "def consume_data():\n",
    "\n",
    "    consumer_config = {\n",
    "        'bootstrap.servers': Config.BOOTSTRAP_SERVERS_CONS,\n",
    "        'group.id': Config.GROUP_ID_GAS,\n",
    "        'auto.offset.reset': 'earliest'\n",
    "    }\n",
    "\n",
    "    consumer = Consumer(consumer_config)\n",
    "    consumer.subscribe([Config.PRODUCE_TOPIC_GAS_PRICE])\n",
    "    \n",
    "    messages = []\n",
    "    start_time = datetime.datetime.now()\n",
    "\n",
    "    try:\n",
    "       \n",
    "        while datetime.datetime.now() - start_time < datetime.timedelta(seconds=60):\n",
    "            \n",
    "            msg = consumer.poll(timeout=1.0)\n",
    "            if msg is None:\n",
    "                continue\n",
    "            if msg.error():\n",
    "                if msg.error().code() == KafkaError._PARTITION_EOF:\n",
    "                    continue\n",
    "                else:\n",
    "                    logger.info(f\"Consumer error: {msg.error()}\")\n",
    "                    break\n",
    "            \n",
    "            message_value = msg.value().decode('utf-8')\n",
    "            message_dict = json.loads(message_value)\n",
    "            messages.append(message_dict)\n",
    "\n",
    "    except KeyboardInterrupt:\n",
    "        print(\"Consumer interrupted.\")\n",
    "    finally:\n",
    "        consumer.close()\n",
    "    data = pd.DataFrame(messages,columns=['date','open_price','close_price','key_id'])\n",
    "    return data"
   ]
  },
  {
   "cell_type": "code",
   "execution_count": 4,
   "id": "7c5fe127-d9b9-4641-85b3-a149eb2a61a8",
   "metadata": {},
   "outputs": [],
   "source": [
    "def transform(data):\n",
    "\n",
    "    data['date'] = pd.to_datetime(data['date'])\n",
    "    data['open_price'] = data['open_price'].astype('float32')\n",
    "    data['close_price'] = data['close_price'].astype('float32')\n",
    "    data = data.drop(columns=['key_id']) \n",
    "\n",
    "\n",
    "    data['day'] = data['date'].dt.day\n",
    "    data['month'] = data['date'].dt.month\n",
    "    data['year'] = data['date'].dt.year\n",
    "    data['hour'] = data['date'].dt.hour\n",
    "    data['minute'] = data['date'].dt.minute\n",
    "    data['month'] = data['month'].astype('int8')\n",
    "    data['year'] = data['year'].astype('int16')\n",
    "    data['hour'] = data['hour'].astype('int8')\n",
    "    data['minute'] = data['minute'].astype('int8')\n",
    "    data['day'] = data['day'].astype('int8')\n",
    "\n",
    "    return data\n"
   ]
  },
  {
   "cell_type": "code",
   "execution_count": 5,
   "id": "baf357ff-c2ed-4305-9fe3-9b32622cdee5",
   "metadata": {},
   "outputs": [],
   "source": [
    "data = consume_data()\n",
    "transformed_data = transform(data)"
   ]
  },
  {
   "cell_type": "code",
   "execution_count": 6,
   "id": "3b1d29da-b7f5-46b0-b5f4-c3d448bea04d",
   "metadata": {},
   "outputs": [
    {
     "data": {
      "text/html": [
       "<div>\n",
       "<style scoped>\n",
       "    .dataframe tbody tr th:only-of-type {\n",
       "        vertical-align: middle;\n",
       "    }\n",
       "\n",
       "    .dataframe tbody tr th {\n",
       "        vertical-align: top;\n",
       "    }\n",
       "\n",
       "    .dataframe thead th {\n",
       "        text-align: right;\n",
       "    }\n",
       "</style>\n",
       "<table border=\"1\" class=\"dataframe\">\n",
       "  <thead>\n",
       "    <tr style=\"text-align: right;\">\n",
       "      <th></th>\n",
       "      <th>date</th>\n",
       "      <th>open_price</th>\n",
       "      <th>close_price</th>\n",
       "      <th>day</th>\n",
       "      <th>month</th>\n",
       "      <th>year</th>\n",
       "      <th>hour</th>\n",
       "      <th>minute</th>\n",
       "    </tr>\n",
       "  </thead>\n",
       "  <tbody>\n",
       "    <tr>\n",
       "      <th>0</th>\n",
       "      <td>2024-08-14 06:00:00+02:00</td>\n",
       "      <td>2.166</td>\n",
       "      <td>2.166</td>\n",
       "      <td>14</td>\n",
       "      <td>8</td>\n",
       "      <td>2024</td>\n",
       "      <td>6</td>\n",
       "      <td>0</td>\n",
       "    </tr>\n",
       "    <tr>\n",
       "      <th>1</th>\n",
       "      <td>2024-08-14 06:05:00+02:00</td>\n",
       "      <td>2.166</td>\n",
       "      <td>2.164</td>\n",
       "      <td>14</td>\n",
       "      <td>8</td>\n",
       "      <td>2024</td>\n",
       "      <td>6</td>\n",
       "      <td>5</td>\n",
       "    </tr>\n",
       "    <tr>\n",
       "      <th>2</th>\n",
       "      <td>2024-08-14 06:10:00+02:00</td>\n",
       "      <td>2.163</td>\n",
       "      <td>2.164</td>\n",
       "      <td>14</td>\n",
       "      <td>8</td>\n",
       "      <td>2024</td>\n",
       "      <td>6</td>\n",
       "      <td>10</td>\n",
       "    </tr>\n",
       "    <tr>\n",
       "      <th>3</th>\n",
       "      <td>2024-08-14 06:15:00+02:00</td>\n",
       "      <td>2.164</td>\n",
       "      <td>2.163</td>\n",
       "      <td>14</td>\n",
       "      <td>8</td>\n",
       "      <td>2024</td>\n",
       "      <td>6</td>\n",
       "      <td>15</td>\n",
       "    </tr>\n",
       "    <tr>\n",
       "      <th>4</th>\n",
       "      <td>2024-08-14 06:20:00+02:00</td>\n",
       "      <td>2.164</td>\n",
       "      <td>2.164</td>\n",
       "      <td>14</td>\n",
       "      <td>8</td>\n",
       "      <td>2024</td>\n",
       "      <td>6</td>\n",
       "      <td>20</td>\n",
       "    </tr>\n",
       "    <tr>\n",
       "      <th>...</th>\n",
       "      <td>...</td>\n",
       "      <td>...</td>\n",
       "      <td>...</td>\n",
       "      <td>...</td>\n",
       "      <td>...</td>\n",
       "      <td>...</td>\n",
       "      <td>...</td>\n",
       "      <td>...</td>\n",
       "    </tr>\n",
       "    <tr>\n",
       "      <th>1642</th>\n",
       "      <td>2024-08-21 01:20:00+02:00</td>\n",
       "      <td>2.195</td>\n",
       "      <td>2.195</td>\n",
       "      <td>21</td>\n",
       "      <td>8</td>\n",
       "      <td>2024</td>\n",
       "      <td>1</td>\n",
       "      <td>20</td>\n",
       "    </tr>\n",
       "    <tr>\n",
       "      <th>1643</th>\n",
       "      <td>2024-08-21 01:25:00+02:00</td>\n",
       "      <td>2.194</td>\n",
       "      <td>2.193</td>\n",
       "      <td>21</td>\n",
       "      <td>8</td>\n",
       "      <td>2024</td>\n",
       "      <td>1</td>\n",
       "      <td>25</td>\n",
       "    </tr>\n",
       "    <tr>\n",
       "      <th>1644</th>\n",
       "      <td>2024-08-21 01:30:00+02:00</td>\n",
       "      <td>2.193</td>\n",
       "      <td>2.194</td>\n",
       "      <td>21</td>\n",
       "      <td>8</td>\n",
       "      <td>2024</td>\n",
       "      <td>1</td>\n",
       "      <td>30</td>\n",
       "    </tr>\n",
       "    <tr>\n",
       "      <th>1645</th>\n",
       "      <td>2024-08-21 01:35:00+02:00</td>\n",
       "      <td>2.193</td>\n",
       "      <td>2.193</td>\n",
       "      <td>21</td>\n",
       "      <td>8</td>\n",
       "      <td>2024</td>\n",
       "      <td>1</td>\n",
       "      <td>35</td>\n",
       "    </tr>\n",
       "    <tr>\n",
       "      <th>1646</th>\n",
       "      <td>2024-08-21 01:40:00+02:00</td>\n",
       "      <td>2.192</td>\n",
       "      <td>2.194</td>\n",
       "      <td>21</td>\n",
       "      <td>8</td>\n",
       "      <td>2024</td>\n",
       "      <td>1</td>\n",
       "      <td>40</td>\n",
       "    </tr>\n",
       "  </tbody>\n",
       "</table>\n",
       "<p>1647 rows × 8 columns</p>\n",
       "</div>"
      ],
      "text/plain": [
       "                          date  open_price  close_price  day  month  year  \\\n",
       "0    2024-08-14 06:00:00+02:00       2.166        2.166   14      8  2024   \n",
       "1    2024-08-14 06:05:00+02:00       2.166        2.164   14      8  2024   \n",
       "2    2024-08-14 06:10:00+02:00       2.163        2.164   14      8  2024   \n",
       "3    2024-08-14 06:15:00+02:00       2.164        2.163   14      8  2024   \n",
       "4    2024-08-14 06:20:00+02:00       2.164        2.164   14      8  2024   \n",
       "...                        ...         ...          ...  ...    ...   ...   \n",
       "1642 2024-08-21 01:20:00+02:00       2.195        2.195   21      8  2024   \n",
       "1643 2024-08-21 01:25:00+02:00       2.194        2.193   21      8  2024   \n",
       "1644 2024-08-21 01:30:00+02:00       2.193        2.194   21      8  2024   \n",
       "1645 2024-08-21 01:35:00+02:00       2.193        2.193   21      8  2024   \n",
       "1646 2024-08-21 01:40:00+02:00       2.192        2.194   21      8  2024   \n",
       "\n",
       "      hour  minute  \n",
       "0        6       0  \n",
       "1        6       5  \n",
       "2        6      10  \n",
       "3        6      15  \n",
       "4        6      20  \n",
       "...    ...     ...  \n",
       "1642     1      20  \n",
       "1643     1      25  \n",
       "1644     1      30  \n",
       "1645     1      35  \n",
       "1646     1      40  \n",
       "\n",
       "[1647 rows x 8 columns]"
      ]
     },
     "execution_count": 6,
     "metadata": {},
     "output_type": "execute_result"
    }
   ],
   "source": [
    "transformed_data"
   ]
  },
  {
   "cell_type": "code",
   "execution_count": 13,
   "id": "da78d9d7-cb92-4a11-be81-fdf7f5163bbc",
   "metadata": {},
   "outputs": [],
   "source": [
    "for object_key, date in create_s3_keys_gas():\n",
    "        data_ = transformed_data[(transformed_data.hour == date.hour) & (transformed_data.month == date.month) & (transformed_data.year == date.year)]\n",
    "        if data_.empty:\n",
    "            print(\"The dataframe is empty possibly due to lack of messages.\")\n",
    "            continue"
   ]
  },
  {
   "cell_type": "code",
   "execution_count": null,
   "id": "8e41527d-02f0-49ab-801a-6190b0e1a0f9",
   "metadata": {},
   "outputs": [],
   "source": []
  },
  {
   "cell_type": "code",
   "execution_count": null,
   "id": "05b6e977-9cd7-460a-9de0-3207970c721b",
   "metadata": {},
   "outputs": [],
   "source": []
  }
 ],
 "metadata": {
  "kernelspec": {
   "display_name": "Python 3 (ipykernel)",
   "language": "python",
   "name": "python3"
  },
  "language_info": {
   "codemirror_mode": {
    "name": "ipython",
    "version": 3
   },
   "file_extension": ".py",
   "mimetype": "text/x-python",
   "name": "python",
   "nbconvert_exporter": "python",
   "pygments_lexer": "ipython3",
   "version": "3.12.4"
  }
 },
 "nbformat": 4,
 "nbformat_minor": 5
}
