{
 "cells": [
  {
   "cell_type": "code",
   "execution_count": 1,
   "id": "98017830-6611-4244-bacd-9295272b03b5",
   "metadata": {},
   "outputs": [],
   "source": [
    "import csv\n",
    "import logging\n",
    "import datetime\n",
    "import os\n",
    "import sys\n",
    "import pytz\n",
    "import pandas as pd\n",
    "from time import sleep\n",
    "from typing import Dict\n",
    "import yfinance as yf\n",
    "from confluent_kafka import Consumer, KafkaError\n",
    "from urllib.parse import urlparse\n",
    "import json \n",
    "src_path = os.path.abspath('../')\n",
    "if src_path not in sys.path:\n",
    "    sys.path.append(src_path)\n",
    "from src.utilities.utils import create_s3_keys_gas, check_s3_key_exists, generate_random_string"
   ]
  },
  {
   "cell_type": "code",
   "execution_count": 3,
   "id": "ee48d517-4fb8-48ef-9df3-534cf21962db",
   "metadata": {},
   "outputs": [],
   "source": [
    "def consume_data():\n",
    "\n",
    "    consumer_config = {\n",
    "        'bootstrap.servers': Config.BOOTSTRAP_SERVERS_CONS,\n",
    "        'group.id': Config.GROUP_ID_GAS,\n",
    "        'auto.offset.reset': 'earliest'\n",
    "    }\n",
    "\n",
    "    consumer = Consumer(consumer_config)\n",
    "    consumer.subscribe([Config.PRODUCE_TOPIC_GAS_PRICE])\n",
    "    \n",
    "    messages = []\n",
    "    start_time = datetime.datetime.now()\n",
    "\n",
    "    try:\n",
    "       \n",
    "        while datetime.datetime.now() - start_time < datetime.timedelta(seconds=60):\n",
    "            \n",
    "            msg = consumer.poll(timeout=1.0)\n",
    "            if msg is None:\n",
    "                continue\n",
    "            if msg.error():\n",
    "                if msg.error().code() == KafkaError._PARTITION_EOF:\n",
    "                    continue\n",
    "                else:\n",
    "                    logger.info(f\"Consumer error: {msg.error()}\")\n",
    "                    break\n",
    "            \n",
    "            message_value = msg.value().decode('utf-8')\n",
    "            message_dict = json.loads(message_value)\n",
    "            messages.append(message_dict)\n",
    "\n",
    "    except KeyboardInterrupt:\n",
    "        print(\"Consumer interrupted.\")\n",
    "    finally:\n",
    "        consumer.close()\n",
    "    data = pd.DataFrame(messages,columns=['date','open_price','close_price','key_id'])\n",
    "    return data"
   ]
  },
  {
   "cell_type": "code",
   "execution_count": 4,
   "id": "7c5fe127-d9b9-4641-85b3-a149eb2a61a8",
   "metadata": {},
   "outputs": [],
   "source": [
    "def transform(data):\n",
    "\n",
    "    data['date'] = pd.to_datetime(data['date'])\n",
    "    data['open_price'] = data['open_price'].astype('float32')\n",
    "    data['close_price'] = data['close_price'].astype('float32')\n",
    "    data = data.drop(columns=['key_id']) \n",
    "\n",
    "\n",
    "    data['day'] = data['date'].dt.day\n",
    "    data['month'] = data['date'].dt.month\n",
    "    data['year'] = data['date'].dt.year\n",
    "    data['hour'] = data['date'].dt.hour\n",
    "    data['minute'] = data['date'].dt.minute\n",
    "    data['month'] = data['month'].astype('int8')\n",
    "    data['year'] = data['year'].astype('int16')\n",
    "    data['hour'] = data['hour'].astype('int8')\n",
    "    data['minute'] = data['minute'].astype('int8')\n",
    "    data['day'] = data['day'].astype('int8')\n",
    "\n",
    "    return data\n"
   ]
  },
  {
   "cell_type": "code",
   "execution_count": 5,
   "id": "baf357ff-c2ed-4305-9fe3-9b32622cdee5",
   "metadata": {},
   "outputs": [],
   "source": [
    "data = consume_data()\n",
    "transformed_data = transform(data)"
   ]
  }
 ],
 "metadata": {
  "kernelspec": {
   "display_name": "Python 3 (ipykernel)",
   "language": "python",
   "name": "python3"
  },
  "language_info": {
   "codemirror_mode": {
    "name": "ipython",
    "version": 3
   },
   "file_extension": ".py",
   "mimetype": "text/x-python",
   "name": "python",
   "nbconvert_exporter": "python",
   "pygments_lexer": "ipython3",
   "version": "3.12.4"
  }
 },
 "nbformat": 4,
 "nbformat_minor": 5
}
