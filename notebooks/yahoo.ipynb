{
 "cells": [
  {
   "cell_type": "code",
   "execution_count": 1,
   "id": "53780921-b516-4d03-aaa8-51105c1973dd",
   "metadata": {},
   "outputs": [
    {
     "data": {
      "text/plain": [
       "'2024-08-04'"
      ]
     },
     "execution_count": 1,
     "metadata": {},
     "output_type": "execute_result"
    }
   ],
   "source": [
    "import datetime\n",
    "datetime.datetime.now().strftime('%Y-%m-%d')\n"
   ]
  },
  {
   "cell_type": "code",
   "execution_count": 1,
   "id": "98017830-6611-4244-bacd-9295272b03b5",
   "metadata": {},
   "outputs": [],
   "source": [
    "import csv\n",
    "import logging\n",
    "import os\n",
    "import sys\n",
    "import pandas as pd\n",
    "from time import sleep\n",
    "from typing import Dict\n",
    "import yfinance as yf\n",
    "from urllib.parse import urlparse\n",
    "import json "
   ]
  },
  {
   "cell_type": "code",
   "execution_count": 4,
   "id": "7ee1d53a-a3c7-45be-aae5-e3f731649ad8",
   "metadata": {},
   "outputs": [
    {
     "data": {
      "text/plain": [
       "['/home/mohammad/RenewableInsight/notebooks',\n",
       " '/home/mohammad/anaconda3/lib/python312.zip',\n",
       " '/home/mohammad/anaconda3/lib/python3.12',\n",
       " '/home/mohammad/anaconda3/lib/python3.12/lib-dynload',\n",
       " '',\n",
       " '/home/mohammad/anaconda3/lib/python3.12/site-packages',\n",
       " '/home/mohammad/RenewableInsight']"
      ]
     },
     "execution_count": 4,
     "metadata": {},
     "output_type": "execute_result"
    }
   ],
   "source": [
    "sys.path"
   ]
  },
  {
   "cell_type": "code",
   "execution_count": 3,
   "id": "18b1a137-3147-4231-8926-e3a1971b7521",
   "metadata": {},
   "outputs": [],
   "source": [
    "from datetime import datetime\n",
    "src_path = os.path.abspath('../')\n",
    "if src_path not in sys.path:\n",
    "    sys.path.append(src_path)"
   ]
  },
  {
   "cell_type": "code",
   "execution_count": 5,
   "id": "0e2f9458-eb14-40a5-8bf6-0f263e0e2e21",
   "metadata": {},
   "outputs": [],
   "source": [
    "from src.api.yahoo import YahooAPI"
   ]
  },
  {
   "cell_type": "code",
   "execution_count": 6,
   "id": "9d53de2f-1b5a-45e1-beec-a6fdacd5e650",
   "metadata": {},
   "outputs": [],
   "source": [
    "from src.config import Config"
   ]
  },
  {
   "cell_type": "code",
   "execution_count": 9,
   "id": "773b858d-9529-4263-a565-6aa13f76b825",
   "metadata": {},
   "outputs": [
    {
     "data": {
      "text/plain": [
       "'NG=F'"
      ]
     },
     "execution_count": 9,
     "metadata": {},
     "output_type": "execute_result"
    }
   ],
   "source": [
    "Config.TICKER_LABEL"
   ]
  },
  {
   "cell_type": "code",
   "execution_count": 17,
   "id": "6fe47dea-40fa-4898-8d81-15ca3a304936",
   "metadata": {},
   "outputs": [],
   "source": [
    "yahoo_finance_api = YahooAPI(symbol='NG=F')"
   ]
  },
  {
   "cell_type": "code",
   "execution_count": 18,
   "id": "4ac39817-f1e8-4f8a-9e76-2eeb122ea78d",
   "metadata": {},
   "outputs": [],
   "source": [
    "yahoo_finance_api.fetch_data(period='5d',interval='5m')"
   ]
  },
  {
   "cell_type": "code",
   "execution_count": null,
   "id": "d04f542b-b186-4b3b-b3ab-7843cee1bcea",
   "metadata": {},
   "outputs": [],
   "source": []
  },
  {
   "cell_type": "code",
   "execution_count": 16,
   "id": "9bf3f957-1869-4895-a01b-127658bd7878",
   "metadata": {},
   "outputs": [
    {
     "name": "stdout",
     "output_type": "stream",
     "text": [
      "                            Open   High    Low  Close  Volume  Dividends  \\\n",
      "Datetime                                                                   \n",
      "2024-07-10 00:00:00-04:00  2.347  2.347  2.340  2.341     154        0.0   \n",
      "2024-07-10 00:30:00-04:00  2.342  2.343  2.337  2.337     204        0.0   \n",
      "2024-07-10 01:00:00-04:00  2.338  2.342  2.338  2.341     268        0.0   \n",
      "2024-07-10 01:30:00-04:00  2.341  2.344  2.341  2.343     235        0.0   \n",
      "2024-07-10 02:00:00-04:00  2.343  2.344  2.340  2.343     283        0.0   \n",
      "...                          ...    ...    ...    ...     ...        ...   \n",
      "2024-07-22 10:00:00-04:00  2.221  2.235  2.205  2.232    7024        0.0   \n",
      "2024-07-22 10:30:00-04:00  2.231  2.242  2.215  2.239    9139        0.0   \n",
      "2024-07-22 11:00:00-04:00  2.238  2.240  2.225  2.229    6910        0.0   \n",
      "2024-07-22 11:30:00-04:00  2.229  2.244  2.229  2.242    6657        0.0   \n",
      "2024-07-22 12:00:00-04:00  2.242  2.252  2.241  2.248    2181        0.0   \n",
      "\n",
      "                           Stock Splits  \n",
      "Datetime                                 \n",
      "2024-07-10 00:00:00-04:00           0.0  \n",
      "2024-07-10 00:30:00-04:00           0.0  \n",
      "2024-07-10 01:00:00-04:00           0.0  \n",
      "2024-07-10 01:30:00-04:00           0.0  \n",
      "2024-07-10 02:00:00-04:00           0.0  \n",
      "...                                 ...  \n",
      "2024-07-22 10:00:00-04:00           0.0  \n",
      "2024-07-22 10:30:00-04:00           0.0  \n",
      "2024-07-22 11:00:00-04:00           0.0  \n",
      "2024-07-22 11:30:00-04:00           0.0  \n",
      "2024-07-22 12:00:00-04:00           0.0  \n",
      "\n",
      "[393 rows x 7 columns]\n",
      "{'maxAge': 86400, 'priceHint': 4, 'previousClose': 2.128, 'open': 2.104, 'dayLow': 2.09, 'dayHigh': 2.252, 'regularMarketPreviousClose': 2.128, 'regularMarketOpen': 2.104, 'regularMarketDayLow': 2.09, 'regularMarketDayHigh': 2.252, 'volume': 93413, 'regularMarketVolume': 93413, 'averageVolume': 157840, 'averageVolume10days': 156780, 'averageDailyVolume10Day': 156780, 'bid': 2.247, 'ask': 2.248, 'askSize': 800, 'expireDate': 1722211200, 'openInterest': 82773, 'fiftyTwoWeekLow': 1.481, 'fiftyTwoWeekHigh': 3.63, 'fiftyDayAverage': 2.55974, 'twoHundredDayAverage': 2.428415, 'currency': 'USD', 'exchange': 'NYM', 'quoteType': 'FUTURE', 'symbol': 'NGQ24.NYM', 'underlyingSymbol': 'NG=F', 'shortName': 'Natural Gas Aug 24', 'firstTradeDateEpochUtc': 967608000, 'timeZoneFullName': 'America/New_York', 'timeZoneShortName': 'EDT', 'uuid': '2a316c73-eccf-333d-b201-8205e14254ed', 'gmtOffSetMilliseconds': -14400000, 'trailingPegRatio': None}\n",
      "Series([], Freq: 30min, Name: Dividends, dtype: float64)\n",
      "Series([], Freq: 30min, Name: Stock Splits, dtype: float64)\n",
      "Empty DataFrame\n",
      "Columns: [Dividends, Stock Splits]\n",
      "Index: []\n"
     ]
    }
   ],
   "source": [
    "# Create an instance of YahooFinanceAPI for the ticker 'AAPL'\n",
    "yf_api = YahooFinanceAPI('NG=F')\n",
    "\n",
    "# Get historical market data\n",
    "historical_data = yf_api.get_historical_data(start='2024-07-10', end='2024-07-23',interval='30m')\n",
    "print(historical_data)\n",
    "\n",
    "\n",
    "# Get summary data\n",
    "summary = yf_api.get_summary()\n",
    "print(summary)\n",
    "\n",
    "# Get dividends data\n",
    "dividends = yf_api.get_dividends()\n",
    "print(dividends)\n",
    "\n",
    "# Get splits data\n",
    "splits = yf_api.get_splits()\n",
    "print(splits)\n",
    "\n",
    "# Get actions data\n",
    "actions = yf_api.get_actions()\n",
    "print(actions)\n"
   ]
  },
  {
   "cell_type": "code",
   "execution_count": 47,
   "id": "b174321a-267c-4407-bfcf-a6ccc30e288e",
   "metadata": {},
   "outputs": [
    {
     "name": "stdout",
     "output_type": "stream",
     "text": [
      "Date\n",
      "2024-07-22 00:00:00-04:00    2.238\n",
      "Name: Close, dtype: float64\n"
     ]
    }
   ],
   "source": [
    "ticker = yf.Ticker(\"NG=F\")\n",
    "live_price = ticker.history(period='1d')['Close']\n",
    "print(live_price)\n",
    "# Get the data for the last 72 hours\n",
    "data = ticker.history(period='1d', interval='5m')"
   ]
  },
  {
   "cell_type": "code",
   "execution_count": 48,
   "id": "5bd0bb2b-8d86-4983-aaa7-1f8bae253eb2",
   "metadata": {},
   "outputs": [
    {
     "data": {
      "text/html": [
       "<div>\n",
       "<style scoped>\n",
       "    .dataframe tbody tr th:only-of-type {\n",
       "        vertical-align: middle;\n",
       "    }\n",
       "\n",
       "    .dataframe tbody tr th {\n",
       "        vertical-align: top;\n",
       "    }\n",
       "\n",
       "    .dataframe thead th {\n",
       "        text-align: right;\n",
       "    }\n",
       "</style>\n",
       "<table border=\"1\" class=\"dataframe\">\n",
       "  <thead>\n",
       "    <tr style=\"text-align: right;\">\n",
       "      <th></th>\n",
       "      <th>Datetime</th>\n",
       "      <th>Open</th>\n",
       "      <th>High</th>\n",
       "      <th>Low</th>\n",
       "      <th>Close</th>\n",
       "      <th>Volume</th>\n",
       "      <th>Dividends</th>\n",
       "      <th>Stock Splits</th>\n",
       "    </tr>\n",
       "  </thead>\n",
       "  <tbody>\n",
       "    <tr>\n",
       "      <th>0</th>\n",
       "      <td>2024-07-22 00:00:00-04:00</td>\n",
       "      <td>2.170</td>\n",
       "      <td>2.170</td>\n",
       "      <td>2.168</td>\n",
       "      <td>2.168</td>\n",
       "      <td>15</td>\n",
       "      <td>0.0</td>\n",
       "      <td>0.0</td>\n",
       "    </tr>\n",
       "    <tr>\n",
       "      <th>1</th>\n",
       "      <td>2024-07-22 00:05:00-04:00</td>\n",
       "      <td>2.167</td>\n",
       "      <td>2.167</td>\n",
       "      <td>2.165</td>\n",
       "      <td>2.165</td>\n",
       "      <td>51</td>\n",
       "      <td>0.0</td>\n",
       "      <td>0.0</td>\n",
       "    </tr>\n",
       "    <tr>\n",
       "      <th>2</th>\n",
       "      <td>2024-07-22 00:10:00-04:00</td>\n",
       "      <td>2.166</td>\n",
       "      <td>2.168</td>\n",
       "      <td>2.166</td>\n",
       "      <td>2.168</td>\n",
       "      <td>18</td>\n",
       "      <td>0.0</td>\n",
       "      <td>0.0</td>\n",
       "    </tr>\n",
       "    <tr>\n",
       "      <th>3</th>\n",
       "      <td>2024-07-22 00:15:00-04:00</td>\n",
       "      <td>2.168</td>\n",
       "      <td>2.168</td>\n",
       "      <td>2.166</td>\n",
       "      <td>2.166</td>\n",
       "      <td>14</td>\n",
       "      <td>0.0</td>\n",
       "      <td>0.0</td>\n",
       "    </tr>\n",
       "    <tr>\n",
       "      <th>4</th>\n",
       "      <td>2024-07-22 00:20:00-04:00</td>\n",
       "      <td>2.167</td>\n",
       "      <td>2.167</td>\n",
       "      <td>2.166</td>\n",
       "      <td>2.167</td>\n",
       "      <td>11</td>\n",
       "      <td>0.0</td>\n",
       "      <td>0.0</td>\n",
       "    </tr>\n",
       "    <tr>\n",
       "      <th>...</th>\n",
       "      <td>...</td>\n",
       "      <td>...</td>\n",
       "      <td>...</td>\n",
       "      <td>...</td>\n",
       "      <td>...</td>\n",
       "      <td>...</td>\n",
       "      <td>...</td>\n",
       "      <td>...</td>\n",
       "    </tr>\n",
       "    <tr>\n",
       "      <th>162</th>\n",
       "      <td>2024-07-22 13:30:00-04:00</td>\n",
       "      <td>2.266</td>\n",
       "      <td>2.270</td>\n",
       "      <td>2.261</td>\n",
       "      <td>2.262</td>\n",
       "      <td>1021</td>\n",
       "      <td>0.0</td>\n",
       "      <td>0.0</td>\n",
       "    </tr>\n",
       "    <tr>\n",
       "      <th>163</th>\n",
       "      <td>2024-07-22 13:35:00-04:00</td>\n",
       "      <td>2.262</td>\n",
       "      <td>2.262</td>\n",
       "      <td>2.253</td>\n",
       "      <td>2.253</td>\n",
       "      <td>925</td>\n",
       "      <td>0.0</td>\n",
       "      <td>0.0</td>\n",
       "    </tr>\n",
       "    <tr>\n",
       "      <th>164</th>\n",
       "      <td>2024-07-22 13:40:00-04:00</td>\n",
       "      <td>2.253</td>\n",
       "      <td>2.254</td>\n",
       "      <td>2.243</td>\n",
       "      <td>2.244</td>\n",
       "      <td>1347</td>\n",
       "      <td>0.0</td>\n",
       "      <td>0.0</td>\n",
       "    </tr>\n",
       "    <tr>\n",
       "      <th>165</th>\n",
       "      <td>2024-07-22 13:45:00-04:00</td>\n",
       "      <td>2.244</td>\n",
       "      <td>2.249</td>\n",
       "      <td>2.242</td>\n",
       "      <td>2.245</td>\n",
       "      <td>523</td>\n",
       "      <td>0.0</td>\n",
       "      <td>0.0</td>\n",
       "    </tr>\n",
       "    <tr>\n",
       "      <th>166</th>\n",
       "      <td>2024-07-22 13:50:00-04:00</td>\n",
       "      <td>2.245</td>\n",
       "      <td>2.246</td>\n",
       "      <td>2.235</td>\n",
       "      <td>2.238</td>\n",
       "      <td>1078</td>\n",
       "      <td>0.0</td>\n",
       "      <td>0.0</td>\n",
       "    </tr>\n",
       "  </tbody>\n",
       "</table>\n",
       "<p>167 rows × 8 columns</p>\n",
       "</div>"
      ],
      "text/plain": [
       "                     Datetime   Open   High    Low  Close  Volume  Dividends  \\\n",
       "0   2024-07-22 00:00:00-04:00  2.170  2.170  2.168  2.168      15        0.0   \n",
       "1   2024-07-22 00:05:00-04:00  2.167  2.167  2.165  2.165      51        0.0   \n",
       "2   2024-07-22 00:10:00-04:00  2.166  2.168  2.166  2.168      18        0.0   \n",
       "3   2024-07-22 00:15:00-04:00  2.168  2.168  2.166  2.166      14        0.0   \n",
       "4   2024-07-22 00:20:00-04:00  2.167  2.167  2.166  2.167      11        0.0   \n",
       "..                        ...    ...    ...    ...    ...     ...        ...   \n",
       "162 2024-07-22 13:30:00-04:00  2.266  2.270  2.261  2.262    1021        0.0   \n",
       "163 2024-07-22 13:35:00-04:00  2.262  2.262  2.253  2.253     925        0.0   \n",
       "164 2024-07-22 13:40:00-04:00  2.253  2.254  2.243  2.244    1347        0.0   \n",
       "165 2024-07-22 13:45:00-04:00  2.244  2.249  2.242  2.245     523        0.0   \n",
       "166 2024-07-22 13:50:00-04:00  2.245  2.246  2.235  2.238    1078        0.0   \n",
       "\n",
       "     Stock Splits  \n",
       "0             0.0  \n",
       "1             0.0  \n",
       "2             0.0  \n",
       "3             0.0  \n",
       "4             0.0  \n",
       "..            ...  \n",
       "162           0.0  \n",
       "163           0.0  \n",
       "164           0.0  \n",
       "165           0.0  \n",
       "166           0.0  \n",
       "\n",
       "[167 rows x 8 columns]"
      ]
     },
     "execution_count": 48,
     "metadata": {},
     "output_type": "execute_result"
    }
   ],
   "source": [
    "data.reset_index(drop=False, inplace=True)\n",
    "data"
   ]
  },
  {
   "cell_type": "code",
   "execution_count": 23,
   "id": "00f7b038-653c-4366-a5b4-b5d958321e7a",
   "metadata": {},
   "outputs": [
    {
     "ename": "ValueError",
     "evalue": "unconverted data remains:  17:00",
     "output_type": "error",
     "traceback": [
      "\u001b[0;31m---------------------------------------------------------------------------\u001b[0m",
      "\u001b[0;31mValueError\u001b[0m                                Traceback (most recent call last)",
      "Cell \u001b[0;32mIn[23], line 5\u001b[0m\n\u001b[1;32m      2\u001b[0m start \u001b[38;5;241m=\u001b[39m (pd\u001b[38;5;241m.\u001b[39mTimestamp\u001b[38;5;241m.\u001b[39mnow() \u001b[38;5;241m-\u001b[39m pd\u001b[38;5;241m.\u001b[39mTimedelta(minutes\u001b[38;5;241m=\u001b[39m\u001b[38;5;241m5\u001b[39m))\u001b[38;5;241m.\u001b[39mstrftime(\u001b[38;5;124m'\u001b[39m\u001b[38;5;124m%\u001b[39m\u001b[38;5;124mY-\u001b[39m\u001b[38;5;124m%\u001b[39m\u001b[38;5;124mm-\u001b[39m\u001b[38;5;132;01m%d\u001b[39;00m\u001b[38;5;124m \u001b[39m\u001b[38;5;124m%\u001b[39m\u001b[38;5;124mH:\u001b[39m\u001b[38;5;124m%\u001b[39m\u001b[38;5;124mM\u001b[39m\u001b[38;5;124m'\u001b[39m)\n\u001b[1;32m      3\u001b[0m end \u001b[38;5;241m=\u001b[39m (pd\u001b[38;5;241m.\u001b[39mTimestamp\u001b[38;5;241m.\u001b[39mnow())\u001b[38;5;241m.\u001b[39mstrftime(\u001b[38;5;124m'\u001b[39m\u001b[38;5;124m%\u001b[39m\u001b[38;5;124mY-\u001b[39m\u001b[38;5;124m%\u001b[39m\u001b[38;5;124mm-\u001b[39m\u001b[38;5;132;01m%d\u001b[39;00m\u001b[38;5;124m \u001b[39m\u001b[38;5;124m%\u001b[39m\u001b[38;5;124mH:\u001b[39m\u001b[38;5;124m%\u001b[39m\u001b[38;5;124mM\u001b[39m\u001b[38;5;124m'\u001b[39m)\n\u001b[0;32m----> 5\u001b[0m data \u001b[38;5;241m=\u001b[39m yahoo_finance_api\u001b[38;5;241m.\u001b[39mget_historical_data(interval\u001b[38;5;241m=\u001b[39m\u001b[38;5;124m'\u001b[39m\u001b[38;5;124m5m\u001b[39m\u001b[38;5;124m'\u001b[39m, start\u001b[38;5;241m=\u001b[39mstart, end\u001b[38;5;241m=\u001b[39mend)\n\u001b[1;32m      6\u001b[0m start\n",
      "File \u001b[0;32m~/RenewableInsight/src/api/yahoo.py:23\u001b[0m, in \u001b[0;36mYahooFinanceAPI.get_historical_data\u001b[0;34m(self, start, end, interval)\u001b[0m\n\u001b[1;32m     14\u001b[0m \u001b[38;5;28;01mdef\u001b[39;00m \u001b[38;5;21mget_historical_data\u001b[39m(\u001b[38;5;28mself\u001b[39m, start\u001b[38;5;241m=\u001b[39m\u001b[38;5;28;01mNone\u001b[39;00m, end\u001b[38;5;241m=\u001b[39m\u001b[38;5;28;01mNone\u001b[39;00m, interval\u001b[38;5;241m=\u001b[39m\u001b[38;5;124m'\u001b[39m\u001b[38;5;124m1d\u001b[39m\u001b[38;5;124m'\u001b[39m):\n\u001b[1;32m     15\u001b[0m \u001b[38;5;250m    \u001b[39m\u001b[38;5;124;03m\"\"\"\u001b[39;00m\n\u001b[1;32m     16\u001b[0m \u001b[38;5;124;03m    Get historical market data for the specified ticker.\u001b[39;00m\n\u001b[1;32m     17\u001b[0m \n\u001b[0;32m   (...)\u001b[0m\n\u001b[1;32m     21\u001b[0m \u001b[38;5;124;03m    :return: A pandas DataFrame containing the historical market data.\u001b[39;00m\n\u001b[1;32m     22\u001b[0m \u001b[38;5;124;03m    \"\"\"\u001b[39;00m\n\u001b[0;32m---> 23\u001b[0m     historical_data \u001b[38;5;241m=\u001b[39m \u001b[38;5;28mself\u001b[39m\u001b[38;5;241m.\u001b[39mstock\u001b[38;5;241m.\u001b[39mhistory(start\u001b[38;5;241m=\u001b[39mstart, end\u001b[38;5;241m=\u001b[39mend, interval\u001b[38;5;241m=\u001b[39minterval)\n\u001b[1;32m     24\u001b[0m     \u001b[38;5;28;01mreturn\u001b[39;00m historical_data\n",
      "File \u001b[0;32m~/anaconda3/lib/python3.12/site-packages/yfinance/utils.py:104\u001b[0m, in \u001b[0;36mlog_indent_decorator.<locals>.wrapper\u001b[0;34m(*args, **kwargs)\u001b[0m\n\u001b[1;32m    101\u001b[0m logger\u001b[38;5;241m.\u001b[39mdebug(\u001b[38;5;124mf\u001b[39m\u001b[38;5;124m'\u001b[39m\u001b[38;5;124mEntering \u001b[39m\u001b[38;5;132;01m{\u001b[39;00mfunc\u001b[38;5;241m.\u001b[39m\u001b[38;5;18m__name__\u001b[39m\u001b[38;5;132;01m}\u001b[39;00m\u001b[38;5;124m()\u001b[39m\u001b[38;5;124m'\u001b[39m)\n\u001b[1;32m    103\u001b[0m \u001b[38;5;28;01mwith\u001b[39;00m IndentationContext():\n\u001b[0;32m--> 104\u001b[0m     result \u001b[38;5;241m=\u001b[39m func(\u001b[38;5;241m*\u001b[39margs, \u001b[38;5;241m*\u001b[39m\u001b[38;5;241m*\u001b[39mkwargs)\n\u001b[1;32m    106\u001b[0m logger\u001b[38;5;241m.\u001b[39mdebug(\u001b[38;5;124mf\u001b[39m\u001b[38;5;124m'\u001b[39m\u001b[38;5;124mExiting \u001b[39m\u001b[38;5;132;01m{\u001b[39;00mfunc\u001b[38;5;241m.\u001b[39m\u001b[38;5;18m__name__\u001b[39m\u001b[38;5;132;01m}\u001b[39;00m\u001b[38;5;124m()\u001b[39m\u001b[38;5;124m'\u001b[39m)\n\u001b[1;32m    107\u001b[0m \u001b[38;5;28;01mreturn\u001b[39;00m result\n",
      "File \u001b[0;32m~/anaconda3/lib/python3.12/site-packages/yfinance/base.py:78\u001b[0m, in \u001b[0;36mTickerBase.history\u001b[0;34m(self, *args, **kwargs)\u001b[0m\n\u001b[1;32m     76\u001b[0m \u001b[38;5;129m@utils\u001b[39m\u001b[38;5;241m.\u001b[39mlog_indent_decorator\n\u001b[1;32m     77\u001b[0m \u001b[38;5;28;01mdef\u001b[39;00m \u001b[38;5;21mhistory\u001b[39m(\u001b[38;5;28mself\u001b[39m, \u001b[38;5;241m*\u001b[39margs, \u001b[38;5;241m*\u001b[39m\u001b[38;5;241m*\u001b[39mkwargs) \u001b[38;5;241m-\u001b[39m\u001b[38;5;241m>\u001b[39m pd\u001b[38;5;241m.\u001b[39mDataFrame:\n\u001b[0;32m---> 78\u001b[0m     \u001b[38;5;28;01mreturn\u001b[39;00m \u001b[38;5;28mself\u001b[39m\u001b[38;5;241m.\u001b[39m_lazy_load_price_history()\u001b[38;5;241m.\u001b[39mhistory(\u001b[38;5;241m*\u001b[39margs, \u001b[38;5;241m*\u001b[39m\u001b[38;5;241m*\u001b[39mkwargs)\n",
      "File \u001b[0;32m~/anaconda3/lib/python3.12/site-packages/yfinance/utils.py:104\u001b[0m, in \u001b[0;36mlog_indent_decorator.<locals>.wrapper\u001b[0;34m(*args, **kwargs)\u001b[0m\n\u001b[1;32m    101\u001b[0m logger\u001b[38;5;241m.\u001b[39mdebug(\u001b[38;5;124mf\u001b[39m\u001b[38;5;124m'\u001b[39m\u001b[38;5;124mEntering \u001b[39m\u001b[38;5;132;01m{\u001b[39;00mfunc\u001b[38;5;241m.\u001b[39m\u001b[38;5;18m__name__\u001b[39m\u001b[38;5;132;01m}\u001b[39;00m\u001b[38;5;124m()\u001b[39m\u001b[38;5;124m'\u001b[39m)\n\u001b[1;32m    103\u001b[0m \u001b[38;5;28;01mwith\u001b[39;00m IndentationContext():\n\u001b[0;32m--> 104\u001b[0m     result \u001b[38;5;241m=\u001b[39m func(\u001b[38;5;241m*\u001b[39margs, \u001b[38;5;241m*\u001b[39m\u001b[38;5;241m*\u001b[39mkwargs)\n\u001b[1;32m    106\u001b[0m logger\u001b[38;5;241m.\u001b[39mdebug(\u001b[38;5;124mf\u001b[39m\u001b[38;5;124m'\u001b[39m\u001b[38;5;124mExiting \u001b[39m\u001b[38;5;132;01m{\u001b[39;00mfunc\u001b[38;5;241m.\u001b[39m\u001b[38;5;18m__name__\u001b[39m\u001b[38;5;132;01m}\u001b[39;00m\u001b[38;5;124m()\u001b[39m\u001b[38;5;124m'\u001b[39m)\n\u001b[1;32m    107\u001b[0m \u001b[38;5;28;01mreturn\u001b[39;00m result\n",
      "File \u001b[0;32m~/anaconda3/lib/python3.12/site-packages/yfinance/scrapers/history.py:97\u001b[0m, in \u001b[0;36mPriceHistory.history\u001b[0;34m(self, period, interval, start, end, prepost, actions, auto_adjust, back_adjust, repair, keepna, proxy, rounding, timeout, raise_errors)\u001b[0m\n\u001b[1;32m     95\u001b[0m     end \u001b[38;5;241m=\u001b[39m \u001b[38;5;28mint\u001b[39m(_time\u001b[38;5;241m.\u001b[39mtime())\n\u001b[1;32m     96\u001b[0m \u001b[38;5;28;01melse\u001b[39;00m:\n\u001b[0;32m---> 97\u001b[0m     end \u001b[38;5;241m=\u001b[39m utils\u001b[38;5;241m.\u001b[39m_parse_user_dt(end, tz)\n\u001b[1;32m     98\u001b[0m \u001b[38;5;28;01mif\u001b[39;00m start \u001b[38;5;129;01mis\u001b[39;00m \u001b[38;5;28;01mNone\u001b[39;00m:\n\u001b[1;32m     99\u001b[0m     \u001b[38;5;28;01mif\u001b[39;00m interval \u001b[38;5;241m==\u001b[39m \u001b[38;5;124m\"\u001b[39m\u001b[38;5;124m1m\u001b[39m\u001b[38;5;124m\"\u001b[39m:\n",
      "File \u001b[0;32m~/anaconda3/lib/python3.12/site-packages/yfinance/utils.py:413\u001b[0m, in \u001b[0;36m_parse_user_dt\u001b[0;34m(dt, exchange_tz)\u001b[0m\n\u001b[1;32m    410\u001b[0m \u001b[38;5;28;01melse\u001b[39;00m:\n\u001b[1;32m    411\u001b[0m     \u001b[38;5;66;03m# Convert str/date -> datetime, set tzinfo=exchange, get timestamp:\u001b[39;00m\n\u001b[1;32m    412\u001b[0m     \u001b[38;5;28;01mif\u001b[39;00m \u001b[38;5;28misinstance\u001b[39m(dt, \u001b[38;5;28mstr\u001b[39m):\n\u001b[0;32m--> 413\u001b[0m         dt \u001b[38;5;241m=\u001b[39m _datetime\u001b[38;5;241m.\u001b[39mdatetime\u001b[38;5;241m.\u001b[39mstrptime(\u001b[38;5;28mstr\u001b[39m(dt), \u001b[38;5;124m'\u001b[39m\u001b[38;5;124m%\u001b[39m\u001b[38;5;124mY-\u001b[39m\u001b[38;5;124m%\u001b[39m\u001b[38;5;124mm-\u001b[39m\u001b[38;5;132;01m%d\u001b[39;00m\u001b[38;5;124m'\u001b[39m)\n\u001b[1;32m    414\u001b[0m     \u001b[38;5;28;01mif\u001b[39;00m \u001b[38;5;28misinstance\u001b[39m(dt, _datetime\u001b[38;5;241m.\u001b[39mdate) \u001b[38;5;129;01mand\u001b[39;00m \u001b[38;5;129;01mnot\u001b[39;00m \u001b[38;5;28misinstance\u001b[39m(dt, _datetime\u001b[38;5;241m.\u001b[39mdatetime):\n\u001b[1;32m    415\u001b[0m         dt \u001b[38;5;241m=\u001b[39m _datetime\u001b[38;5;241m.\u001b[39mdatetime\u001b[38;5;241m.\u001b[39mcombine(dt, _datetime\u001b[38;5;241m.\u001b[39mtime(\u001b[38;5;241m0\u001b[39m))\n",
      "File \u001b[0;32m~/anaconda3/lib/python3.12/_strptime.py:554\u001b[0m, in \u001b[0;36m_strptime_datetime\u001b[0;34m(cls, data_string, format)\u001b[0m\n\u001b[1;32m    551\u001b[0m \u001b[38;5;28;01mdef\u001b[39;00m \u001b[38;5;21m_strptime_datetime\u001b[39m(\u001b[38;5;28mcls\u001b[39m, data_string, \u001b[38;5;28mformat\u001b[39m\u001b[38;5;241m=\u001b[39m\u001b[38;5;124m\"\u001b[39m\u001b[38;5;132;01m%a\u001b[39;00m\u001b[38;5;124m \u001b[39m\u001b[38;5;124m%\u001b[39m\u001b[38;5;124mb \u001b[39m\u001b[38;5;132;01m%d\u001b[39;00m\u001b[38;5;124m \u001b[39m\u001b[38;5;124m%\u001b[39m\u001b[38;5;124mH:\u001b[39m\u001b[38;5;124m%\u001b[39m\u001b[38;5;124mM:\u001b[39m\u001b[38;5;124m%\u001b[39m\u001b[38;5;124mS \u001b[39m\u001b[38;5;124m%\u001b[39m\u001b[38;5;124mY\u001b[39m\u001b[38;5;124m\"\u001b[39m):\n\u001b[1;32m    552\u001b[0m \u001b[38;5;250m    \u001b[39m\u001b[38;5;124;03m\"\"\"Return a class cls instance based on the input string and the\u001b[39;00m\n\u001b[1;32m    553\u001b[0m \u001b[38;5;124;03m    format string.\"\"\"\u001b[39;00m\n\u001b[0;32m--> 554\u001b[0m     tt, fraction, gmtoff_fraction \u001b[38;5;241m=\u001b[39m _strptime(data_string, \u001b[38;5;28mformat\u001b[39m)\n\u001b[1;32m    555\u001b[0m     tzname, gmtoff \u001b[38;5;241m=\u001b[39m tt[\u001b[38;5;241m-\u001b[39m\u001b[38;5;241m2\u001b[39m:]\n\u001b[1;32m    556\u001b[0m     args \u001b[38;5;241m=\u001b[39m tt[:\u001b[38;5;241m6\u001b[39m] \u001b[38;5;241m+\u001b[39m (fraction,)\n",
      "File \u001b[0;32m~/anaconda3/lib/python3.12/_strptime.py:336\u001b[0m, in \u001b[0;36m_strptime\u001b[0;34m(data_string, format)\u001b[0m\n\u001b[1;32m    333\u001b[0m     \u001b[38;5;28;01mraise\u001b[39;00m \u001b[38;5;167;01mValueError\u001b[39;00m(\u001b[38;5;124m\"\u001b[39m\u001b[38;5;124mtime data \u001b[39m\u001b[38;5;132;01m%r\u001b[39;00m\u001b[38;5;124m does not match format \u001b[39m\u001b[38;5;132;01m%r\u001b[39;00m\u001b[38;5;124m\"\u001b[39m \u001b[38;5;241m%\u001b[39m\n\u001b[1;32m    334\u001b[0m                      (data_string, \u001b[38;5;28mformat\u001b[39m))\n\u001b[1;32m    335\u001b[0m \u001b[38;5;28;01mif\u001b[39;00m \u001b[38;5;28mlen\u001b[39m(data_string) \u001b[38;5;241m!=\u001b[39m found\u001b[38;5;241m.\u001b[39mend():\n\u001b[0;32m--> 336\u001b[0m     \u001b[38;5;28;01mraise\u001b[39;00m \u001b[38;5;167;01mValueError\u001b[39;00m(\u001b[38;5;124m\"\u001b[39m\u001b[38;5;124munconverted data remains: \u001b[39m\u001b[38;5;132;01m%s\u001b[39;00m\u001b[38;5;124m\"\u001b[39m \u001b[38;5;241m%\u001b[39m\n\u001b[1;32m    337\u001b[0m                       data_string[found\u001b[38;5;241m.\u001b[39mend():])\n\u001b[1;32m    339\u001b[0m iso_year \u001b[38;5;241m=\u001b[39m year \u001b[38;5;241m=\u001b[39m \u001b[38;5;28;01mNone\u001b[39;00m\n\u001b[1;32m    340\u001b[0m month \u001b[38;5;241m=\u001b[39m day \u001b[38;5;241m=\u001b[39m \u001b[38;5;241m1\u001b[39m\n",
      "\u001b[0;31mValueError\u001b[0m: unconverted data remains:  17:00"
     ]
    }
   ],
   "source": [
    "yahoo_finance_api = YahooFinanceAPI(ticker=\"NG=F\")\n",
    "start = (pd.Timestamp.now() - pd.Timedelta(minutes=5)).strftime('%Y-%m-%d %H:%M')\n",
    "end = (pd.Timestamp.now()).strftime('%Y-%m-%d %H:%M')\n",
    "\n",
    "# data = yahoo_finance_api.get_historical_data(interval='5m', start=start, end=end)\n",
    "start"
   ]
  },
  {
   "cell_type": "code",
   "execution_count": 19,
   "id": "a861bf1f-f851-4b1d-b95a-d6e86c416edb",
   "metadata": {},
   "outputs": [
    {
     "data": {
      "text/plain": [
       "Timestamp('2024-07-22 16:56:41.112684')"
      ]
     },
     "execution_count": 19,
     "metadata": {},
     "output_type": "execute_result"
    }
   ],
   "source": [
    "pd.Timestamp.now()"
   ]
  },
  {
   "cell_type": "code",
   "execution_count": null,
   "id": "ee48d517-4fb8-48ef-9df3-534cf21962db",
   "metadata": {},
   "outputs": [],
   "source": []
  }
 ],
 "metadata": {
  "kernelspec": {
   "display_name": "Python 3 (ipykernel)",
   "language": "python",
   "name": "python3"
  },
  "language_info": {
   "codemirror_mode": {
    "name": "ipython",
    "version": 3
   },
   "file_extension": ".py",
   "mimetype": "text/x-python",
   "name": "python",
   "nbconvert_exporter": "python",
   "pygments_lexer": "ipython3",
   "version": "3.12.4"
  }
 },
 "nbformat": 4,
 "nbformat_minor": 5
}
