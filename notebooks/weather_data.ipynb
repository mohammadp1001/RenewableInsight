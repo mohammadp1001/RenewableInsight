{
 "cells": [
  {
   "cell_type": "code",
   "execution_count": 1,
   "id": "2261ca6f-5c83-44ac-9be2-7090eb7785e2",
   "metadata": {},
   "outputs": [],
   "source": [
    "import pandas as pd\n",
    "pd.options.mode.copy_on_write = True\n",
    "from datetime import datetime, timedelta\n",
    "import secrets\n",
    "import string\n",
    "import re  # Import the regular expression module\n",
    "import pandas as pd\n",
    "import requests\n",
    "import zipfile\n",
    "from io import BytesIO"
   ]
  },
  {
   "cell_type": "code",
   "execution_count": 1,
   "id": "62cce172-89c8-406f-90fb-d3601b807790",
   "metadata": {},
   "outputs": [],
   "source": [
    "import pandas as pd"
   ]
  },
  {
   "cell_type": "code",
   "execution_count": 7,
   "id": "ad3d3bac-89bc-419a-a2c4-a8405f0e0d48",
   "metadata": {},
   "outputs": [],
   "source": [
    "df = pd.read_csv(\"/home/mohammadp/RenewableInsight/data/produkt_tu_stunde_20221013_20240414_00044.txt\",delimiter=\";\")"
   ]
  },
  {
   "cell_type": "code",
   "execution_count": 8,
   "id": "f9db7e55-efe1-4aec-af40-da25e570bc4f",
   "metadata": {},
   "outputs": [
    {
     "data": {
      "text/html": [
       "<div>\n",
       "<style scoped>\n",
       "    .dataframe tbody tr th:only-of-type {\n",
       "        vertical-align: middle;\n",
       "    }\n",
       "\n",
       "    .dataframe tbody tr th {\n",
       "        vertical-align: top;\n",
       "    }\n",
       "\n",
       "    .dataframe thead th {\n",
       "        text-align: right;\n",
       "    }\n",
       "</style>\n",
       "<table border=\"1\" class=\"dataframe\">\n",
       "  <thead>\n",
       "    <tr style=\"text-align: right;\">\n",
       "      <th></th>\n",
       "      <th>STATIONS_ID</th>\n",
       "      <th>MESS_DATUM</th>\n",
       "      <th>QN_9</th>\n",
       "      <th>TT_TU</th>\n",
       "      <th>RF_TU</th>\n",
       "      <th>eor</th>\n",
       "    </tr>\n",
       "  </thead>\n",
       "  <tbody>\n",
       "    <tr>\n",
       "      <th>0</th>\n",
       "      <td>44</td>\n",
       "      <td>2022101300</td>\n",
       "      <td>3</td>\n",
       "      <td>6.9</td>\n",
       "      <td>94.0</td>\n",
       "      <td>eor</td>\n",
       "    </tr>\n",
       "    <tr>\n",
       "      <th>1</th>\n",
       "      <td>44</td>\n",
       "      <td>2022101301</td>\n",
       "      <td>3</td>\n",
       "      <td>7.3</td>\n",
       "      <td>93.0</td>\n",
       "      <td>eor</td>\n",
       "    </tr>\n",
       "    <tr>\n",
       "      <th>2</th>\n",
       "      <td>44</td>\n",
       "      <td>2022101302</td>\n",
       "      <td>3</td>\n",
       "      <td>6.6</td>\n",
       "      <td>93.0</td>\n",
       "      <td>eor</td>\n",
       "    </tr>\n",
       "    <tr>\n",
       "      <th>3</th>\n",
       "      <td>44</td>\n",
       "      <td>2022101303</td>\n",
       "      <td>3</td>\n",
       "      <td>7.8</td>\n",
       "      <td>91.0</td>\n",
       "      <td>eor</td>\n",
       "    </tr>\n",
       "    <tr>\n",
       "      <th>4</th>\n",
       "      <td>44</td>\n",
       "      <td>2022101304</td>\n",
       "      <td>3</td>\n",
       "      <td>8.3</td>\n",
       "      <td>91.0</td>\n",
       "      <td>eor</td>\n",
       "    </tr>\n",
       "  </tbody>\n",
       "</table>\n",
       "</div>"
      ],
      "text/plain": [
       "   STATIONS_ID  MESS_DATUM  QN_9  TT_TU  RF_TU  eor\n",
       "0           44  2022101300     3    6.9   94.0  eor\n",
       "1           44  2022101301     3    7.3   93.0  eor\n",
       "2           44  2022101302     3    6.6   93.0  eor\n",
       "3           44  2022101303     3    7.8   91.0  eor\n",
       "4           44  2022101304     3    8.3   91.0  eor"
      ]
     },
     "execution_count": 8,
     "metadata": {},
     "output_type": "execute_result"
    }
   ],
   "source": [
    "df.head(5)"
   ]
  },
  {
   "cell_type": "code",
   "execution_count": 9,
   "id": "577b0ca8-890b-47af-8a4b-4744ef296f0e",
   "metadata": {},
   "outputs": [],
   "source": [
    "df.drop(columns=['QN_9','eor','RF_TU'],inplace=True)"
   ]
  },
  {
   "cell_type": "code",
   "execution_count": 28,
   "id": "2e0f0ebe-d904-4138-88cb-6f60e527a60e",
   "metadata": {},
   "outputs": [
    {
     "data": {
      "text/html": [
       "<div>\n",
       "<style scoped>\n",
       "    .dataframe tbody tr th:only-of-type {\n",
       "        vertical-align: middle;\n",
       "    }\n",
       "\n",
       "    .dataframe tbody tr th {\n",
       "        vertical-align: top;\n",
       "    }\n",
       "\n",
       "    .dataframe thead th {\n",
       "        text-align: right;\n",
       "    }\n",
       "</style>\n",
       "<table border=\"1\" class=\"dataframe\">\n",
       "  <thead>\n",
       "    <tr style=\"text-align: right;\">\n",
       "      <th></th>\n",
       "      <th>STATIONS_ID</th>\n",
       "      <th>MESS_DATUM</th>\n",
       "      <th>TT_TU</th>\n",
       "      <th>air_temperature</th>\n",
       "    </tr>\n",
       "  </thead>\n",
       "  <tbody>\n",
       "    <tr>\n",
       "      <th>0</th>\n",
       "      <td>44</td>\n",
       "      <td>2022-10-13 00:00:00</td>\n",
       "      <td>6</td>\n",
       "      <td>6</td>\n",
       "    </tr>\n",
       "    <tr>\n",
       "      <th>1</th>\n",
       "      <td>44</td>\n",
       "      <td>2022-10-13 01:00:00</td>\n",
       "      <td>7</td>\n",
       "      <td>7</td>\n",
       "    </tr>\n",
       "    <tr>\n",
       "      <th>2</th>\n",
       "      <td>44</td>\n",
       "      <td>2022-10-13 02:00:00</td>\n",
       "      <td>6</td>\n",
       "      <td>6</td>\n",
       "    </tr>\n",
       "    <tr>\n",
       "      <th>3</th>\n",
       "      <td>44</td>\n",
       "      <td>2022-10-13 03:00:00</td>\n",
       "      <td>7</td>\n",
       "      <td>7</td>\n",
       "    </tr>\n",
       "    <tr>\n",
       "      <th>4</th>\n",
       "      <td>44</td>\n",
       "      <td>2022-10-13 04:00:00</td>\n",
       "      <td>8</td>\n",
       "      <td>8</td>\n",
       "    </tr>\n",
       "  </tbody>\n",
       "</table>\n",
       "</div>"
      ],
      "text/plain": [
       "   STATIONS_ID          MESS_DATUM  TT_TU  air_temperature\n",
       "0           44 2022-10-13 00:00:00      6                6\n",
       "1           44 2022-10-13 01:00:00      7                7\n",
       "2           44 2022-10-13 02:00:00      6                6\n",
       "3           44 2022-10-13 03:00:00      7                7\n",
       "4           44 2022-10-13 04:00:00      8                8"
      ]
     },
     "execution_count": 28,
     "metadata": {},
     "output_type": "execute_result"
    }
   ],
   "source": [
    "df.head(5)"
   ]
  },
  {
   "cell_type": "code",
   "execution_count": 21,
   "id": "0beaa78a-bd51-4572-9433-eb092165c75a",
   "metadata": {},
   "outputs": [
    {
     "data": {
      "text/plain": [
       "32.4"
      ]
     },
     "execution_count": 21,
     "metadata": {},
     "output_type": "execute_result"
    }
   ],
   "source": [
    "max(df.TT_TU)"
   ]
  },
  {
   "cell_type": "code",
   "execution_count": 27,
   "id": "64a87c7c-3ad0-42ca-a7ef-4a61b97fd671",
   "metadata": {},
   "outputs": [
    {
     "data": {
      "text/plain": [
       "STATIONS_ID                 int16\n",
       "MESS_DATUM         datetime64[ns]\n",
       "TT_TU                       int16\n",
       "air_temperature             int16\n",
       "dtype: object"
      ]
     },
     "execution_count": 27,
     "metadata": {},
     "output_type": "execute_result"
    }
   ],
   "source": [
    "df.dtypes"
   ]
  },
  {
   "cell_type": "code",
   "execution_count": 12,
   "id": "9388f537-331b-427d-9363-688a0810f0ee",
   "metadata": {},
   "outputs": [
    {
     "data": {
      "text/plain": [
       "(13200, 3)"
      ]
     },
     "execution_count": 12,
     "metadata": {},
     "output_type": "execute_result"
    }
   ],
   "source": [
    "df.shape"
   ]
  },
  {
   "cell_type": "code",
   "execution_count": 16,
   "id": "252aa71e-941d-4247-9096-ad4f8db86585",
   "metadata": {},
   "outputs": [],
   "source": [
    "df.MESS_DATUM = df.MESS_DATUM.astype('str')"
   ]
  },
  {
   "cell_type": "code",
   "execution_count": 18,
   "id": "960e1d4f-b2bb-453e-8f77-0b17d1f1686a",
   "metadata": {},
   "outputs": [],
   "source": [
    "df.MESS_DATUM = pd.to_datetime(df.MESS_DATUM, format='%Y%m%d%H')"
   ]
  },
  {
   "cell_type": "code",
   "execution_count": 22,
   "id": "c237a131-b212-4081-8667-a7ce25ce69f3",
   "metadata": {},
   "outputs": [],
   "source": [
    "df.TT_TU = df.TT_TU.astype('int16')"
   ]
  },
  {
   "cell_type": "code",
   "execution_count": 24,
   "id": "f55be20c-df57-42dd-a568-ceb48795c068",
   "metadata": {},
   "outputs": [],
   "source": [
    "df.STATIONS_ID = df.STATIONS_ID.astype('int16')"
   ]
  },
  {
   "cell_type": "code",
   "execution_count": 26,
   "id": "595a9da5-22d9-4062-8c57-f1095419d6ad",
   "metadata": {},
   "outputs": [],
   "source": [
    "df['air_temperature'] = df.TT_TU"
   ]
  },
  {
   "cell_type": "code",
   "execution_count": 29,
   "id": "289ed219-695f-44ed-b7a9-c047cd6c0069",
   "metadata": {},
   "outputs": [
    {
     "data": {
      "text/html": [
       "<div>\n",
       "<style scoped>\n",
       "    .dataframe tbody tr th:only-of-type {\n",
       "        vertical-align: middle;\n",
       "    }\n",
       "\n",
       "    .dataframe tbody tr th {\n",
       "        vertical-align: top;\n",
       "    }\n",
       "\n",
       "    .dataframe thead th {\n",
       "        text-align: right;\n",
       "    }\n",
       "</style>\n",
       "<table border=\"1\" class=\"dataframe\">\n",
       "  <thead>\n",
       "    <tr style=\"text-align: right;\">\n",
       "      <th></th>\n",
       "      <th>STATIONS_ID</th>\n",
       "      <th>MESS_DATUM</th>\n",
       "      <th>air_temperature</th>\n",
       "    </tr>\n",
       "  </thead>\n",
       "  <tbody>\n",
       "    <tr>\n",
       "      <th>0</th>\n",
       "      <td>44</td>\n",
       "      <td>2022-10-13 00:00:00</td>\n",
       "      <td>6</td>\n",
       "    </tr>\n",
       "    <tr>\n",
       "      <th>1</th>\n",
       "      <td>44</td>\n",
       "      <td>2022-10-13 01:00:00</td>\n",
       "      <td>7</td>\n",
       "    </tr>\n",
       "    <tr>\n",
       "      <th>2</th>\n",
       "      <td>44</td>\n",
       "      <td>2022-10-13 02:00:00</td>\n",
       "      <td>6</td>\n",
       "    </tr>\n",
       "    <tr>\n",
       "      <th>3</th>\n",
       "      <td>44</td>\n",
       "      <td>2022-10-13 03:00:00</td>\n",
       "      <td>7</td>\n",
       "    </tr>\n",
       "    <tr>\n",
       "      <th>4</th>\n",
       "      <td>44</td>\n",
       "      <td>2022-10-13 04:00:00</td>\n",
       "      <td>8</td>\n",
       "    </tr>\n",
       "    <tr>\n",
       "      <th>...</th>\n",
       "      <td>...</td>\n",
       "      <td>...</td>\n",
       "      <td>...</td>\n",
       "    </tr>\n",
       "    <tr>\n",
       "      <th>13195</th>\n",
       "      <td>44</td>\n",
       "      <td>2024-04-14 19:00:00</td>\n",
       "      <td>10</td>\n",
       "    </tr>\n",
       "    <tr>\n",
       "      <th>13196</th>\n",
       "      <td>44</td>\n",
       "      <td>2024-04-14 20:00:00</td>\n",
       "      <td>8</td>\n",
       "    </tr>\n",
       "    <tr>\n",
       "      <th>13197</th>\n",
       "      <td>44</td>\n",
       "      <td>2024-04-14 21:00:00</td>\n",
       "      <td>8</td>\n",
       "    </tr>\n",
       "    <tr>\n",
       "      <th>13198</th>\n",
       "      <td>44</td>\n",
       "      <td>2024-04-14 22:00:00</td>\n",
       "      <td>6</td>\n",
       "    </tr>\n",
       "    <tr>\n",
       "      <th>13199</th>\n",
       "      <td>44</td>\n",
       "      <td>2024-04-14 23:00:00</td>\n",
       "      <td>6</td>\n",
       "    </tr>\n",
       "  </tbody>\n",
       "</table>\n",
       "<p>13200 rows × 3 columns</p>\n",
       "</div>"
      ],
      "text/plain": [
       "       STATIONS_ID          MESS_DATUM  air_temperature\n",
       "0               44 2022-10-13 00:00:00                6\n",
       "1               44 2022-10-13 01:00:00                7\n",
       "2               44 2022-10-13 02:00:00                6\n",
       "3               44 2022-10-13 03:00:00                7\n",
       "4               44 2022-10-13 04:00:00                8\n",
       "...            ...                 ...              ...\n",
       "13195           44 2024-04-14 19:00:00               10\n",
       "13196           44 2024-04-14 20:00:00                8\n",
       "13197           44 2024-04-14 21:00:00                8\n",
       "13198           44 2024-04-14 22:00:00                6\n",
       "13199           44 2024-04-14 23:00:00                6\n",
       "\n",
       "[13200 rows x 3 columns]"
      ]
     },
     "execution_count": 29,
     "metadata": {},
     "output_type": "execute_result"
    }
   ],
   "source": [
    "df.drop(columns = ['TT_TU'])"
   ]
  },
  {
   "cell_type": "code",
   "execution_count": 2,
   "id": "3e94dc12-2189-4d16-95bd-b87603a62dea",
   "metadata": {},
   "outputs": [],
   "source": [
    "from enum import Enum\n",
    "import requests\n",
    "import zipfile\n",
    "from io import BytesIO\n",
    "import pandas as pd\n",
    "\n",
    "class WeatherParameter(Enum):\n",
    "    TU = (\"air_temperature\", \"Temperature in °C\", ['QN_9', 'eor', 'RF_TU'], '_akt')\n",
    "    SD = (\"sun\", \"Sunshine Duration\", ['QN_9', 'eor', 'RF_SD'], '_akt')\n",
    "    FF = (\"wind\", \"Wind Speed in km/h\", ['QN_9', 'eor', 'RF_FF'], '_akt')\n",
    "    ST = (\"solar\", \"Solar Radiation\", ['QN_9', 'eor', 'RF_ST'], '_row')  # Special case for Solar Radiation\n",
    "    F = (\"wind_synop\", \"Synoptic Wind Data\", ['QN_9', 'eor', 'RF_F'], '_akt')\n",
    "    \n",
    "    def __init__(self, category, description, columns, url_suffix):\n",
    "        self.category = category\n",
    "        self.description = description\n",
    "        self.columns = columns\n",
    "        self.url_suffix = url_suffix\n",
    "\n",
    "class WeatherDataDownloader:\n",
    "    def __init__(self, base_url=None):\n",
    "        self.base_url = base_url or \"https://opendata.dwd.de/climate_environment/CDC/observations_germany/climate/hourly/\"\n",
    "\n",
    "    def download_and_load_weather_data(self, station_code, weather_param):\n",
    "        if not isinstance(weather_param, WeatherParameter):\n",
    "            raise ValueError(\"weather_param must be an instance of WeatherParameter Enum.\")\n",
    "        \n",
    "        category = weather_param.category\n",
    "        suffix = weather_param.url_suffix\n",
    "        if weather_param == WeatherParameter.ST:\n",
    "            url = f\"{self.base_url}{category}/stundenwerte_{weather_param.name}_{station_code}{suffix}.zip\" # Special case for Solar Radiation\n",
    "        else:\n",
    "            url = f\"{self.base_url}{category}/recent/stundenwerte_{weather_param.name}_{station_code}{suffix}.zip\" \n",
    "        response = requests.get(url)\n",
    "        response.raise_for_status()\n",
    "        with zipfile.ZipFile(BytesIO(response.content)) as thezip:\n",
    "            # Dynamically find the correct file based on the pattern\n",
    "            pattern = re.compile(f\"produkt_{weather_param.name.lower()}_stunde_.*_{station_code}.txt\")\n",
    "            file_name = next((s for s in thezip.namelist() if pattern.match(s)), None)\n",
    "            if not file_name:\n",
    "                raise FileNotFoundError(f\"No file matching '{pattern.pattern}' found in the ZIP archive.\")\n",
    "            with thezip.open(file_name) as file:\n",
    "                df = pd.read_csv(file, delimiter=';', encoding='latin1')\n",
    "        return df"
   ]
  },
  {
   "cell_type": "code",
   "execution_count": 4,
   "id": "48ea2f56-8235-4b2a-9fe8-dbddb5218acf",
   "metadata": {},
   "outputs": [
    {
     "data": {
      "text/plain": [
       "'air_temperature'"
      ]
     },
     "execution_count": 4,
     "metadata": {},
     "output_type": "execute_result"
    }
   ],
   "source": [
    "WeatherParameter['TU'].category"
   ]
  },
  {
   "cell_type": "code",
   "execution_count": 55,
   "id": "3c43e152-1872-4764-b068-081499e0f2fa",
   "metadata": {},
   "outputs": [
    {
     "name": "stdout",
     "output_type": "stream",
     "text": [
      "   STATIONS_ID     MESS_DATUM  QN_592  ATMO_LBERG  FD_LBERG  FG_LBERG  \\\n",
      "0          691  2009010100:28       1        -999       0.0       0.0   \n",
      "1          691  2009010101:28       1        -999       0.0       0.0   \n",
      "2          691  2009010102:28       1        -999       0.0       0.0   \n",
      "3          691  2009010103:28       1        -999       0.0       0.0   \n",
      "4          691  2009010104:28       1        -999       0.0       0.0   \n",
      "\n",
      "   SD_LBERG   ZENIT MESS_DATUM_WOZ  eor  \n",
      "0         0  149.43  2009010101:00  eor  \n",
      "1         0  145.44  2009010102:00  eor  \n",
      "2         0  138.70  2009010103:00  eor  \n",
      "3         0  130.48  2009010104:00  eor  \n",
      "4         0  121.60  2009010105:00  eor  \n"
     ]
    }
   ],
   "source": [
    "# Example Usage:\n",
    "downloader = WeatherDataDownloader()\n",
    "station_code = '00691'\n",
    "weather_param = WeatherParameter.ST # Using the Enum here\n",
    "df = downloader.download_and_load_weather_data(station_code, weather_param)\n",
    "if df is not None:\n",
    "    print(df.head())\n",
    "else:\n",
    "    print(\"Data loading failed.\")"
   ]
  },
  {
   "cell_type": "code",
   "execution_count": 56,
   "id": "7e8109ea-75b0-481a-a68b-263bdf7b8ed4",
   "metadata": {},
   "outputs": [
    {
     "data": {
      "text/html": [
       "<div>\n",
       "<style scoped>\n",
       "    .dataframe tbody tr th:only-of-type {\n",
       "        vertical-align: middle;\n",
       "    }\n",
       "\n",
       "    .dataframe tbody tr th {\n",
       "        vertical-align: top;\n",
       "    }\n",
       "\n",
       "    .dataframe thead th {\n",
       "        text-align: right;\n",
       "    }\n",
       "</style>\n",
       "<table border=\"1\" class=\"dataframe\">\n",
       "  <thead>\n",
       "    <tr style=\"text-align: right;\">\n",
       "      <th></th>\n",
       "      <th>STATIONS_ID</th>\n",
       "      <th>MESS_DATUM</th>\n",
       "      <th>QN_592</th>\n",
       "      <th>ATMO_LBERG</th>\n",
       "      <th>FD_LBERG</th>\n",
       "      <th>FG_LBERG</th>\n",
       "      <th>SD_LBERG</th>\n",
       "      <th>ZENIT</th>\n",
       "      <th>MESS_DATUM_WOZ</th>\n",
       "      <th>eor</th>\n",
       "    </tr>\n",
       "  </thead>\n",
       "  <tbody>\n",
       "    <tr>\n",
       "      <th>0</th>\n",
       "      <td>691</td>\n",
       "      <td>2009010100:28</td>\n",
       "      <td>1</td>\n",
       "      <td>-999</td>\n",
       "      <td>0.0</td>\n",
       "      <td>0.0</td>\n",
       "      <td>0</td>\n",
       "      <td>149.43</td>\n",
       "      <td>2009010101:00</td>\n",
       "      <td>eor</td>\n",
       "    </tr>\n",
       "    <tr>\n",
       "      <th>1</th>\n",
       "      <td>691</td>\n",
       "      <td>2009010101:28</td>\n",
       "      <td>1</td>\n",
       "      <td>-999</td>\n",
       "      <td>0.0</td>\n",
       "      <td>0.0</td>\n",
       "      <td>0</td>\n",
       "      <td>145.44</td>\n",
       "      <td>2009010102:00</td>\n",
       "      <td>eor</td>\n",
       "    </tr>\n",
       "    <tr>\n",
       "      <th>2</th>\n",
       "      <td>691</td>\n",
       "      <td>2009010102:28</td>\n",
       "      <td>1</td>\n",
       "      <td>-999</td>\n",
       "      <td>0.0</td>\n",
       "      <td>0.0</td>\n",
       "      <td>0</td>\n",
       "      <td>138.70</td>\n",
       "      <td>2009010103:00</td>\n",
       "      <td>eor</td>\n",
       "    </tr>\n",
       "    <tr>\n",
       "      <th>3</th>\n",
       "      <td>691</td>\n",
       "      <td>2009010103:28</td>\n",
       "      <td>1</td>\n",
       "      <td>-999</td>\n",
       "      <td>0.0</td>\n",
       "      <td>0.0</td>\n",
       "      <td>0</td>\n",
       "      <td>130.48</td>\n",
       "      <td>2009010104:00</td>\n",
       "      <td>eor</td>\n",
       "    </tr>\n",
       "    <tr>\n",
       "      <th>4</th>\n",
       "      <td>691</td>\n",
       "      <td>2009010104:28</td>\n",
       "      <td>1</td>\n",
       "      <td>-999</td>\n",
       "      <td>0.0</td>\n",
       "      <td>0.0</td>\n",
       "      <td>0</td>\n",
       "      <td>121.60</td>\n",
       "      <td>2009010105:00</td>\n",
       "      <td>eor</td>\n",
       "    </tr>\n",
       "  </tbody>\n",
       "</table>\n",
       "</div>"
      ],
      "text/plain": [
       "   STATIONS_ID     MESS_DATUM  QN_592  ATMO_LBERG  FD_LBERG  FG_LBERG  \\\n",
       "0          691  2009010100:28       1        -999       0.0       0.0   \n",
       "1          691  2009010101:28       1        -999       0.0       0.0   \n",
       "2          691  2009010102:28       1        -999       0.0       0.0   \n",
       "3          691  2009010103:28       1        -999       0.0       0.0   \n",
       "4          691  2009010104:28       1        -999       0.0       0.0   \n",
       "\n",
       "   SD_LBERG   ZENIT MESS_DATUM_WOZ  eor  \n",
       "0         0  149.43  2009010101:00  eor  \n",
       "1         0  145.44  2009010102:00  eor  \n",
       "2         0  138.70  2009010103:00  eor  \n",
       "3         0  130.48  2009010104:00  eor  \n",
       "4         0  121.60  2009010105:00  eor  "
      ]
     },
     "execution_count": 56,
     "metadata": {},
     "output_type": "execute_result"
    }
   ],
   "source": [
    "df.head(5)"
   ]
  },
  {
   "cell_type": "code",
   "execution_count": 22,
   "id": "3a3c8f1b-58a1-48a0-8055-acd9441768b0",
   "metadata": {},
   "outputs": [
    {
     "name": "stdout",
     "output_type": "stream",
     "text": [
      "   STATIONS_ID     MESS_DATUM  QN_592  ATMO_LBERG  FD_LBERG  FG_LBERG  \\\n",
      "0          691  2009010100:28       1        -999       0.0       0.0   \n",
      "1          691  2009010101:28       1        -999       0.0       0.0   \n",
      "2          691  2009010102:28       1        -999       0.0       0.0   \n",
      "3          691  2009010103:28       1        -999       0.0       0.0   \n",
      "4          691  2009010104:28       1        -999       0.0       0.0   \n",
      "\n",
      "   SD_LBERG   ZENIT MESS_DATUM_WOZ  eor  \n",
      "0         0  149.43  2009010101:00  eor  \n",
      "1         0  145.44  2009010102:00  eor  \n",
      "2         0  138.70  2009010103:00  eor  \n",
      "3         0  130.48  2009010104:00  eor  \n",
      "4         0  121.60  2009010105:00  eor  \n"
     ]
    }
   ],
   "source": [
    "# Example Usage:\n",
    "downloader = WeatherDataDownloader()\n",
    "station_code = '00691'\n",
    "weather_param = WeatherParameter.ST # Using the Enum here\n",
    "df = downloader.download_and_load_weather_data(station_code, weather_param)\n",
    "if df is not None:\n",
    "    print(df.head())\n",
    "else:\n",
    "    print(\"Data loading failed.\")"
   ]
  },
  {
   "cell_type": "code",
   "execution_count": 57,
   "id": "a1af284c-b60f-4330-ae0a-b3dab84955df",
   "metadata": {},
   "outputs": [
    {
     "data": {
      "text/plain": [
       "STATIONS_ID         int64\n",
       "MESS_DATUM         object\n",
       "QN_592              int64\n",
       "ATMO_LBERG          int64\n",
       "FD_LBERG          float64\n",
       "FG_LBERG          float64\n",
       "SD_LBERG            int64\n",
       "ZENIT             float64\n",
       "MESS_DATUM_WOZ     object\n",
       "eor                object\n",
       "dtype: object"
      ]
     },
     "execution_count": 57,
     "metadata": {},
     "output_type": "execute_result"
    }
   ],
   "source": [
    "df.dtypes"
   ]
  },
  {
   "cell_type": "code",
   "execution_count": 5,
   "id": "8f5c9a6e-e2ba-4f91-b4de-2a6bcc403a86",
   "metadata": {},
   "outputs": [
    {
     "data": {
      "text/plain": [
       "array([-999])"
      ]
     },
     "execution_count": 5,
     "metadata": {},
     "output_type": "execute_result"
    }
   ],
   "source": [
    "df.ATMO_LBERG.unique()"
   ]
  },
  {
   "cell_type": "code",
   "execution_count": 24,
   "id": "52f6dd57-4601-4aaa-93bf-4f67608b2655",
   "metadata": {},
   "outputs": [],
   "source": [
    "# Step 1: Convert the 'MESS_DATUM' column to datetime, ignoring the minutes\n",
    "df['MESS_DATUM'] = pd.to_datetime(df['MESS_DATUM'].str.slice(stop=10), format='%Y%m%d%H')\n"
   ]
  },
  {
   "cell_type": "code",
   "execution_count": 25,
   "id": "2d018a46-63d9-4d2b-b3d1-a2e6c996cba8",
   "metadata": {},
   "outputs": [
    {
     "data": {
      "text/html": [
       "<div>\n",
       "<style scoped>\n",
       "    .dataframe tbody tr th:only-of-type {\n",
       "        vertical-align: middle;\n",
       "    }\n",
       "\n",
       "    .dataframe tbody tr th {\n",
       "        vertical-align: top;\n",
       "    }\n",
       "\n",
       "    .dataframe thead th {\n",
       "        text-align: right;\n",
       "    }\n",
       "</style>\n",
       "<table border=\"1\" class=\"dataframe\">\n",
       "  <thead>\n",
       "    <tr style=\"text-align: right;\">\n",
       "      <th></th>\n",
       "      <th>STATIONS_ID</th>\n",
       "      <th>MESS_DATUM</th>\n",
       "      <th>QN_592</th>\n",
       "      <th>ATMO_LBERG</th>\n",
       "      <th>FD_LBERG</th>\n",
       "      <th>FG_LBERG</th>\n",
       "      <th>SD_LBERG</th>\n",
       "      <th>ZENIT</th>\n",
       "      <th>MESS_DATUM_WOZ</th>\n",
       "      <th>eor</th>\n",
       "    </tr>\n",
       "  </thead>\n",
       "  <tbody>\n",
       "    <tr>\n",
       "      <th>0</th>\n",
       "      <td>691</td>\n",
       "      <td>2009-01-01 00:00:00</td>\n",
       "      <td>1</td>\n",
       "      <td>-999</td>\n",
       "      <td>0.0</td>\n",
       "      <td>0.0</td>\n",
       "      <td>0</td>\n",
       "      <td>149.43</td>\n",
       "      <td>2009010101:00</td>\n",
       "      <td>eor</td>\n",
       "    </tr>\n",
       "    <tr>\n",
       "      <th>1</th>\n",
       "      <td>691</td>\n",
       "      <td>2009-01-01 01:00:00</td>\n",
       "      <td>1</td>\n",
       "      <td>-999</td>\n",
       "      <td>0.0</td>\n",
       "      <td>0.0</td>\n",
       "      <td>0</td>\n",
       "      <td>145.44</td>\n",
       "      <td>2009010102:00</td>\n",
       "      <td>eor</td>\n",
       "    </tr>\n",
       "    <tr>\n",
       "      <th>2</th>\n",
       "      <td>691</td>\n",
       "      <td>2009-01-01 02:00:00</td>\n",
       "      <td>1</td>\n",
       "      <td>-999</td>\n",
       "      <td>0.0</td>\n",
       "      <td>0.0</td>\n",
       "      <td>0</td>\n",
       "      <td>138.70</td>\n",
       "      <td>2009010103:00</td>\n",
       "      <td>eor</td>\n",
       "    </tr>\n",
       "    <tr>\n",
       "      <th>3</th>\n",
       "      <td>691</td>\n",
       "      <td>2009-01-01 03:00:00</td>\n",
       "      <td>1</td>\n",
       "      <td>-999</td>\n",
       "      <td>0.0</td>\n",
       "      <td>0.0</td>\n",
       "      <td>0</td>\n",
       "      <td>130.48</td>\n",
       "      <td>2009010104:00</td>\n",
       "      <td>eor</td>\n",
       "    </tr>\n",
       "    <tr>\n",
       "      <th>4</th>\n",
       "      <td>691</td>\n",
       "      <td>2009-01-01 04:00:00</td>\n",
       "      <td>1</td>\n",
       "      <td>-999</td>\n",
       "      <td>0.0</td>\n",
       "      <td>0.0</td>\n",
       "      <td>0</td>\n",
       "      <td>121.60</td>\n",
       "      <td>2009010105:00</td>\n",
       "      <td>eor</td>\n",
       "    </tr>\n",
       "    <tr>\n",
       "      <th>...</th>\n",
       "      <td>...</td>\n",
       "      <td>...</td>\n",
       "      <td>...</td>\n",
       "      <td>...</td>\n",
       "      <td>...</td>\n",
       "      <td>...</td>\n",
       "      <td>...</td>\n",
       "      <td>...</td>\n",
       "      <td>...</td>\n",
       "      <td>...</td>\n",
       "    </tr>\n",
       "    <tr>\n",
       "      <th>133759</th>\n",
       "      <td>691</td>\n",
       "      <td>2024-03-31 19:00:00</td>\n",
       "      <td>1</td>\n",
       "      <td>-999</td>\n",
       "      <td>0.0</td>\n",
       "      <td>0.0</td>\n",
       "      <td>0</td>\n",
       "      <td>99.53</td>\n",
       "      <td>2024033120:00</td>\n",
       "      <td>eor</td>\n",
       "    </tr>\n",
       "    <tr>\n",
       "      <th>133760</th>\n",
       "      <td>691</td>\n",
       "      <td>2024-03-31 20:00:00</td>\n",
       "      <td>1</td>\n",
       "      <td>-999</td>\n",
       "      <td>0.0</td>\n",
       "      <td>0.0</td>\n",
       "      <td>0</td>\n",
       "      <td>107.51</td>\n",
       "      <td>2024033121:00</td>\n",
       "      <td>eor</td>\n",
       "    </tr>\n",
       "    <tr>\n",
       "      <th>133761</th>\n",
       "      <td>691</td>\n",
       "      <td>2024-03-31 21:00:00</td>\n",
       "      <td>1</td>\n",
       "      <td>-999</td>\n",
       "      <td>0.0</td>\n",
       "      <td>0.0</td>\n",
       "      <td>0</td>\n",
       "      <td>114.29</td>\n",
       "      <td>2024033122:00</td>\n",
       "      <td>eor</td>\n",
       "    </tr>\n",
       "    <tr>\n",
       "      <th>133762</th>\n",
       "      <td>691</td>\n",
       "      <td>2024-03-31 22:00:00</td>\n",
       "      <td>1</td>\n",
       "      <td>-999</td>\n",
       "      <td>0.0</td>\n",
       "      <td>0.0</td>\n",
       "      <td>0</td>\n",
       "      <td>119.29</td>\n",
       "      <td>2024033123:00</td>\n",
       "      <td>eor</td>\n",
       "    </tr>\n",
       "    <tr>\n",
       "      <th>133763</th>\n",
       "      <td>691</td>\n",
       "      <td>2024-03-31 23:00:00</td>\n",
       "      <td>1</td>\n",
       "      <td>-999</td>\n",
       "      <td>0.0</td>\n",
       "      <td>0.0</td>\n",
       "      <td>0</td>\n",
       "      <td>121.97</td>\n",
       "      <td>2024040100:00</td>\n",
       "      <td>eor</td>\n",
       "    </tr>\n",
       "  </tbody>\n",
       "</table>\n",
       "<p>133764 rows × 10 columns</p>\n",
       "</div>"
      ],
      "text/plain": [
       "        STATIONS_ID          MESS_DATUM  QN_592  ATMO_LBERG  FD_LBERG  \\\n",
       "0               691 2009-01-01 00:00:00       1        -999       0.0   \n",
       "1               691 2009-01-01 01:00:00       1        -999       0.0   \n",
       "2               691 2009-01-01 02:00:00       1        -999       0.0   \n",
       "3               691 2009-01-01 03:00:00       1        -999       0.0   \n",
       "4               691 2009-01-01 04:00:00       1        -999       0.0   \n",
       "...             ...                 ...     ...         ...       ...   \n",
       "133759          691 2024-03-31 19:00:00       1        -999       0.0   \n",
       "133760          691 2024-03-31 20:00:00       1        -999       0.0   \n",
       "133761          691 2024-03-31 21:00:00       1        -999       0.0   \n",
       "133762          691 2024-03-31 22:00:00       1        -999       0.0   \n",
       "133763          691 2024-03-31 23:00:00       1        -999       0.0   \n",
       "\n",
       "        FG_LBERG  SD_LBERG   ZENIT MESS_DATUM_WOZ  eor  \n",
       "0            0.0         0  149.43  2009010101:00  eor  \n",
       "1            0.0         0  145.44  2009010102:00  eor  \n",
       "2            0.0         0  138.70  2009010103:00  eor  \n",
       "3            0.0         0  130.48  2009010104:00  eor  \n",
       "4            0.0         0  121.60  2009010105:00  eor  \n",
       "...          ...       ...     ...            ...  ...  \n",
       "133759       0.0         0   99.53  2024033120:00  eor  \n",
       "133760       0.0         0  107.51  2024033121:00  eor  \n",
       "133761       0.0         0  114.29  2024033122:00  eor  \n",
       "133762       0.0         0  119.29  2024033123:00  eor  \n",
       "133763       0.0         0  121.97  2024040100:00  eor  \n",
       "\n",
       "[133764 rows x 10 columns]"
      ]
     },
     "execution_count": 25,
     "metadata": {},
     "output_type": "execute_result"
    }
   ],
   "source": [
    "df"
   ]
  },
  {
   "cell_type": "code",
   "execution_count": null,
   "id": "fd506e9a-5d7e-4024-a011-3acfade14951",
   "metadata": {},
   "outputs": [],
   "source": []
  }
 ],
 "metadata": {
  "kernelspec": {
   "display_name": "Python 3 (ipykernel)",
   "language": "python",
   "name": "python3"
  },
  "language_info": {
   "codemirror_mode": {
    "name": "ipython",
    "version": 3
   },
   "file_extension": ".py",
   "mimetype": "text/x-python",
   "name": "python",
   "nbconvert_exporter": "python",
   "pygments_lexer": "ipython3",
   "version": "3.11.7"
  }
 },
 "nbformat": 4,
 "nbformat_minor": 5
}
