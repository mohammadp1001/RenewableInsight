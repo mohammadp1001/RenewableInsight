{
 "cells": [
  {
   "cell_type": "code",
   "execution_count": 1,
   "id": "2261ca6f-5c83-44ac-9be2-7090eb7785e2",
   "metadata": {},
   "outputs": [],
   "source": [
    "import pandas as pd\n",
    "pd.options.mode.copy_on_write = True\n",
    "from datetime import datetime, timedelta\n",
    "import secrets\n",
    "import string\n",
    "import re  # Import the regular expression module\n",
    "import pandas as pd\n",
    "import requests\n",
    "import zipfile\n",
    "from io import BytesIO"
   ]
  },
  {
   "cell_type": "code",
   "execution_count": 2,
   "id": "3e94dc12-2189-4d16-95bd-b87603a62dea",
   "metadata": {},
   "outputs": [],
   "source": [
    "from enum import Enum\n",
    "import requests\n",
    "import zipfile\n",
    "from io import BytesIO\n",
    "import pandas as pd\n",
    "\n",
    "class WeatherParameter(Enum):\n",
    "    TU = (\"air_temperature\", \"Temperature in °C\", ['QN_9', 'eor', 'RF_TU'], '_akt')\n",
    "    SD = (\"sun\", \"Sunshine Duration\", ['QN_9', 'eor', 'RF_SD'], '_akt')\n",
    "    FF = (\"wind\", \"Wind Speed in km/h\", ['QN_9', 'eor', 'RF_FF'], '_akt')\n",
    "    ST = (\"solar\", \"Solar Radiation\", ['QN_9', 'eor', 'RF_ST'], '_row')  # Special case for Solar Radiation\n",
    "    F = (\"wind_synop\", \"Synoptic Wind Data\", ['QN_9', 'eor', 'RF_F'], '_akt')\n",
    "    \n",
    "    def __init__(self, category, description, columns, url_suffix):\n",
    "        self.category = category\n",
    "        self.description = description\n",
    "        self.columns = columns\n",
    "        self.url_suffix = url_suffix\n",
    "\n",
    "class WeatherDataDownloader:\n",
    "    def __init__(self, base_url=None):\n",
    "        self.base_url = base_url or \"https://opendata.dwd.de/climate_environment/CDC/observations_germany/climate/hourly/\"\n",
    "\n",
    "    def download_and_load_weather_data(self, station_code, weather_param):\n",
    "        if not isinstance(weather_param, WeatherParameter):\n",
    "            raise ValueError(\"weather_param must be an instance of WeatherParameter Enum.\")\n",
    "        \n",
    "        category = weather_param.category\n",
    "        suffix = weather_param.url_suffix\n",
    "        if weather_param == WeatherParameter.ST:\n",
    "            url = f\"{self.base_url}{category}/stundenwerte_{weather_param.name}_{station_code}{suffix}.zip\" # Special case for Solar Radiation\n",
    "        else:\n",
    "            url = f\"{self.base_url}{category}/recent/stundenwerte_{weather_param.name}_{station_code}{suffix}.zip\" \n",
    "        response = requests.get(url)\n",
    "        response.raise_for_status()\n",
    "        with zipfile.ZipFile(BytesIO(response.content)) as thezip:\n",
    "            # Dynamically find the correct file based on the pattern\n",
    "            pattern = re.compile(f\"produkt_{weather_param.name.lower()}_stunde_.*_{station_code}.txt\")\n",
    "            file_name = next((s for s in thezip.namelist() if pattern.match(s)), None)\n",
    "            if not file_name:\n",
    "                raise FileNotFoundError(f\"No file matching '{pattern.pattern}' found in the ZIP archive.\")\n",
    "            with thezip.open(file_name) as file:\n",
    "                df = pd.read_csv(file, delimiter=';', encoding='latin1')\n",
    "        return df"
   ]
  },
  {
   "cell_type": "code",
   "execution_count": 55,
   "id": "3c43e152-1872-4764-b068-081499e0f2fa",
   "metadata": {},
   "outputs": [
    {
     "name": "stdout",
     "output_type": "stream",
     "text": [
      "   STATIONS_ID     MESS_DATUM  QN_592  ATMO_LBERG  FD_LBERG  FG_LBERG  \\\n",
      "0          691  2009010100:28       1        -999       0.0       0.0   \n",
      "1          691  2009010101:28       1        -999       0.0       0.0   \n",
      "2          691  2009010102:28       1        -999       0.0       0.0   \n",
      "3          691  2009010103:28       1        -999       0.0       0.0   \n",
      "4          691  2009010104:28       1        -999       0.0       0.0   \n",
      "\n",
      "   SD_LBERG   ZENIT MESS_DATUM_WOZ  eor  \n",
      "0         0  149.43  2009010101:00  eor  \n",
      "1         0  145.44  2009010102:00  eor  \n",
      "2         0  138.70  2009010103:00  eor  \n",
      "3         0  130.48  2009010104:00  eor  \n",
      "4         0  121.60  2009010105:00  eor  \n"
     ]
    }
   ],
   "source": [
    "# Example Usage:\n",
    "downloader = WeatherDataDownloader()\n",
    "station_code = '00691'\n",
    "weather_param = WeatherParameter.ST # Using the Enum here\n",
    "df = downloader.download_and_load_weather_data(station_code, weather_param)\n",
    "if df is not None:\n",
    "    print(df.head())\n",
    "else:\n",
    "    print(\"Data loading failed.\")"
   ]
  }
 ],
 "metadata": {
  "kernelspec": {
   "display_name": "Python 3 (ipykernel)",
   "language": "python",
   "name": "python3"
  },
  "language_info": {
   "codemirror_mode": {
    "name": "ipython",
    "version": 3
   },
   "file_extension": ".py",
   "mimetype": "text/x-python",
   "name": "python",
   "nbconvert_exporter": "python",
   "pygments_lexer": "ipython3",
   "version": "3.11.7"
  }
 },
 "nbformat": 4,
 "nbformat_minor": 5
}
