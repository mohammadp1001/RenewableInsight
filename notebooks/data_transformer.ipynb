{
 "cells": [
  {
   "cell_type": "code",
   "execution_count": 1,
   "id": "92cf4989-3af4-45dd-a21c-1279a3630186",
   "metadata": {},
   "outputs": [],
   "source": [
    "import pandas as pd\n",
    "pd.options.mode.copy_on_write = True\n",
    "from datetime import datetime, timedelta\n",
    "import secrets\n",
    "import string"
   ]
  },
  {
   "cell_type": "code",
   "execution_count": 2,
   "id": "b527e35d-9592-40a5-b618-d35764571573",
   "metadata": {},
   "outputs": [],
   "source": [
    "df = pd.read_csv(\"/home/mohammadp/RenewableInsight/data/2024_03_ActualTotalLoad_6.1.A.csv\",delimiter=\"\\t\")"
   ]
  },
  {
   "cell_type": "code",
   "execution_count": 3,
   "id": "4b705f95-cb5d-4390-a1f4-1a5a1fcd450f",
   "metadata": {},
   "outputs": [
    {
     "data": {
      "text/plain": [
       "Index(['DateTime', 'ResolutionCode', 'AreaCode', 'AreaTypeCode', 'AreaName',\n",
       "       'MapCode', 'TotalLoadValue', 'UpdateTime'],\n",
       "      dtype='object')"
      ]
     },
     "execution_count": 3,
     "metadata": {},
     "output_type": "execute_result"
    }
   ],
   "source": [
    "df.columns"
   ]
  },
  {
   "cell_type": "code",
   "execution_count": 4,
   "id": "aff94403-54c9-4826-adcd-9ca7a16eccfb",
   "metadata": {},
   "outputs": [
    {
     "data": {
      "text/html": [
       "<div>\n",
       "<style scoped>\n",
       "    .dataframe tbody tr th:only-of-type {\n",
       "        vertical-align: middle;\n",
       "    }\n",
       "\n",
       "    .dataframe tbody tr th {\n",
       "        vertical-align: top;\n",
       "    }\n",
       "\n",
       "    .dataframe thead th {\n",
       "        text-align: right;\n",
       "    }\n",
       "</style>\n",
       "<table border=\"1\" class=\"dataframe\">\n",
       "  <thead>\n",
       "    <tr style=\"text-align: right;\">\n",
       "      <th></th>\n",
       "      <th>DateTime</th>\n",
       "      <th>ResolutionCode</th>\n",
       "      <th>AreaCode</th>\n",
       "      <th>AreaTypeCode</th>\n",
       "      <th>AreaName</th>\n",
       "      <th>MapCode</th>\n",
       "      <th>TotalLoadValue</th>\n",
       "      <th>UpdateTime</th>\n",
       "    </tr>\n",
       "  </thead>\n",
       "  <tbody>\n",
       "    <tr>\n",
       "      <th>0</th>\n",
       "      <td>2024-03-10 22:00:00.000</td>\n",
       "      <td>PT15M</td>\n",
       "      <td>10YDE-ENBW-----N</td>\n",
       "      <td>CTA</td>\n",
       "      <td>DE(TransnetBW) CTA</td>\n",
       "      <td>DE_TransnetBW</td>\n",
       "      <td>6133.87</td>\n",
       "      <td>2024-03-10 23:31:05.005</td>\n",
       "    </tr>\n",
       "    <tr>\n",
       "      <th>1</th>\n",
       "      <td>2024-03-10 21:30:00.000</td>\n",
       "      <td>PT15M</td>\n",
       "      <td>10YHR-HEP------M</td>\n",
       "      <td>CTA</td>\n",
       "      <td>HR CTA</td>\n",
       "      <td>HR</td>\n",
       "      <td>1968.00</td>\n",
       "      <td>2024-03-11 10:46:36.036</td>\n",
       "    </tr>\n",
       "    <tr>\n",
       "      <th>2</th>\n",
       "      <td>2024-03-10 21:30:00.000</td>\n",
       "      <td>PT15M</td>\n",
       "      <td>10YHR-HEP------M</td>\n",
       "      <td>BZN</td>\n",
       "      <td>HR BZN</td>\n",
       "      <td>HR</td>\n",
       "      <td>1968.00</td>\n",
       "      <td>2024-03-11 11:01:53.053</td>\n",
       "    </tr>\n",
       "    <tr>\n",
       "      <th>3</th>\n",
       "      <td>2024-03-10 22:00:00.000</td>\n",
       "      <td>PT15M</td>\n",
       "      <td>10YRO-TEL------P</td>\n",
       "      <td>BZN</td>\n",
       "      <td>RO BZN</td>\n",
       "      <td>RO</td>\n",
       "      <td>5383.00</td>\n",
       "      <td>2024-03-10 23:31:08.008</td>\n",
       "    </tr>\n",
       "    <tr>\n",
       "      <th>4</th>\n",
       "      <td>2024-03-10 21:00:00.000</td>\n",
       "      <td>PT60M</td>\n",
       "      <td>10YCS-SERBIATSOV</td>\n",
       "      <td>CTA</td>\n",
       "      <td>RS CTA</td>\n",
       "      <td>RS</td>\n",
       "      <td>4086.00</td>\n",
       "      <td>2024-03-11 08:02:18.018</td>\n",
       "    </tr>\n",
       "  </tbody>\n",
       "</table>\n",
       "</div>"
      ],
      "text/plain": [
       "                  DateTime ResolutionCode          AreaCode AreaTypeCode  \\\n",
       "0  2024-03-10 22:00:00.000          PT15M  10YDE-ENBW-----N          CTA   \n",
       "1  2024-03-10 21:30:00.000          PT15M  10YHR-HEP------M          CTA   \n",
       "2  2024-03-10 21:30:00.000          PT15M  10YHR-HEP------M          BZN   \n",
       "3  2024-03-10 22:00:00.000          PT15M  10YRO-TEL------P          BZN   \n",
       "4  2024-03-10 21:00:00.000          PT60M  10YCS-SERBIATSOV          CTA   \n",
       "\n",
       "             AreaName        MapCode  TotalLoadValue               UpdateTime  \n",
       "0  DE(TransnetBW) CTA  DE_TransnetBW         6133.87  2024-03-10 23:31:05.005  \n",
       "1              HR CTA             HR         1968.00  2024-03-11 10:46:36.036  \n",
       "2              HR BZN             HR         1968.00  2024-03-11 11:01:53.053  \n",
       "3              RO BZN             RO         5383.00  2024-03-10 23:31:08.008  \n",
       "4              RS CTA             RS         4086.00  2024-03-11 08:02:18.018  "
      ]
     },
     "execution_count": 4,
     "metadata": {},
     "output_type": "execute_result"
    }
   ],
   "source": [
    "df.head(5)"
   ]
  },
  {
   "cell_type": "code",
   "execution_count": 5,
   "id": "37827981-a085-477f-bc7e-101565a6dcce",
   "metadata": {},
   "outputs": [
    {
     "data": {
      "text/plain": [
       "['DE_TransnetBW', 'DE_Amprion', 'DE', 'DE_50HzT', 'DE_TenneT_GER', 'DE_LU']"
      ]
     },
     "execution_count": 5,
     "metadata": {},
     "output_type": "execute_result"
    }
   ],
   "source": [
    "[mapcode for mapcode in df.MapCode.unique() if mapcode[:2]=='DE']"
   ]
  },
  {
   "cell_type": "code",
   "execution_count": 7,
   "id": "dc031176-d5f9-4ff9-8aff-c96d174a9aab",
   "metadata": {},
   "outputs": [],
   "source": [
    "df_DE = df[df.MapCode.isin([mapcode for mapcode in df.MapCode.unique() if mapcode[:2]=='DE'])]"
   ]
  },
  {
   "cell_type": "code",
   "execution_count": 8,
   "id": "4e053403-b760-4402-b4b7-6fa4483f8342",
   "metadata": {},
   "outputs": [
    {
     "data": {
      "text/html": [
       "<div>\n",
       "<style scoped>\n",
       "    .dataframe tbody tr th:only-of-type {\n",
       "        vertical-align: middle;\n",
       "    }\n",
       "\n",
       "    .dataframe tbody tr th {\n",
       "        vertical-align: top;\n",
       "    }\n",
       "\n",
       "    .dataframe thead th {\n",
       "        text-align: right;\n",
       "    }\n",
       "</style>\n",
       "<table border=\"1\" class=\"dataframe\">\n",
       "  <thead>\n",
       "    <tr style=\"text-align: right;\">\n",
       "      <th></th>\n",
       "      <th>DateTime</th>\n",
       "      <th>ResolutionCode</th>\n",
       "      <th>AreaCode</th>\n",
       "      <th>AreaTypeCode</th>\n",
       "      <th>AreaName</th>\n",
       "      <th>MapCode</th>\n",
       "      <th>TotalLoadValue</th>\n",
       "      <th>UpdateTime</th>\n",
       "    </tr>\n",
       "  </thead>\n",
       "  <tbody>\n",
       "    <tr>\n",
       "      <th>0</th>\n",
       "      <td>2024-03-10 22:00:00.000</td>\n",
       "      <td>PT15M</td>\n",
       "      <td>10YDE-ENBW-----N</td>\n",
       "      <td>CTA</td>\n",
       "      <td>DE(TransnetBW) CTA</td>\n",
       "      <td>DE_TransnetBW</td>\n",
       "      <td>6133.87</td>\n",
       "      <td>2024-03-10 23:31:05.005</td>\n",
       "    </tr>\n",
       "    <tr>\n",
       "      <th>12</th>\n",
       "      <td>2024-03-10 22:15:00.000</td>\n",
       "      <td>PT15M</td>\n",
       "      <td>10YDE-ENBW-----N</td>\n",
       "      <td>CTA</td>\n",
       "      <td>DE(TransnetBW) CTA</td>\n",
       "      <td>DE_TransnetBW</td>\n",
       "      <td>6003.32</td>\n",
       "      <td>2024-03-10 23:46:13.013</td>\n",
       "    </tr>\n",
       "    <tr>\n",
       "      <th>17</th>\n",
       "      <td>2024-03-10 22:15:00.000</td>\n",
       "      <td>PT15M</td>\n",
       "      <td>10YDE-RWENET---I</td>\n",
       "      <td>CTA</td>\n",
       "      <td>DE(Amprion) CTA</td>\n",
       "      <td>DE_Amprion</td>\n",
       "      <td>16640.27</td>\n",
       "      <td>2024-03-11 18:17:01.001</td>\n",
       "    </tr>\n",
       "    <tr>\n",
       "      <th>23</th>\n",
       "      <td>2024-03-10 22:00:00.000</td>\n",
       "      <td>PT15M</td>\n",
       "      <td>10Y1001A1001A83F</td>\n",
       "      <td>CTY</td>\n",
       "      <td>DE CTY</td>\n",
       "      <td>DE</td>\n",
       "      <td>46343.59</td>\n",
       "      <td>2024-03-11 18:31:54.054</td>\n",
       "    </tr>\n",
       "    <tr>\n",
       "      <th>24</th>\n",
       "      <td>2024-03-10 22:30:00.000</td>\n",
       "      <td>PT15M</td>\n",
       "      <td>10YDE-ENBW-----N</td>\n",
       "      <td>CTA</td>\n",
       "      <td>DE(TransnetBW) CTA</td>\n",
       "      <td>DE_TransnetBW</td>\n",
       "      <td>5857.35</td>\n",
       "      <td>2024-03-11 00:01:47.047</td>\n",
       "    </tr>\n",
       "  </tbody>\n",
       "</table>\n",
       "</div>"
      ],
      "text/plain": [
       "                   DateTime ResolutionCode          AreaCode AreaTypeCode  \\\n",
       "0   2024-03-10 22:00:00.000          PT15M  10YDE-ENBW-----N          CTA   \n",
       "12  2024-03-10 22:15:00.000          PT15M  10YDE-ENBW-----N          CTA   \n",
       "17  2024-03-10 22:15:00.000          PT15M  10YDE-RWENET---I          CTA   \n",
       "23  2024-03-10 22:00:00.000          PT15M  10Y1001A1001A83F          CTY   \n",
       "24  2024-03-10 22:30:00.000          PT15M  10YDE-ENBW-----N          CTA   \n",
       "\n",
       "              AreaName        MapCode  TotalLoadValue               UpdateTime  \n",
       "0   DE(TransnetBW) CTA  DE_TransnetBW         6133.87  2024-03-10 23:31:05.005  \n",
       "12  DE(TransnetBW) CTA  DE_TransnetBW         6003.32  2024-03-10 23:46:13.013  \n",
       "17     DE(Amprion) CTA     DE_Amprion        16640.27  2024-03-11 18:17:01.001  \n",
       "23              DE CTY             DE        46343.59  2024-03-11 18:31:54.054  \n",
       "24  DE(TransnetBW) CTA  DE_TransnetBW         5857.35  2024-03-11 00:01:47.047  "
      ]
     },
     "execution_count": 8,
     "metadata": {},
     "output_type": "execute_result"
    }
   ],
   "source": [
    "df_DE.head(5)"
   ]
  },
  {
   "cell_type": "code",
   "execution_count": 13,
   "id": "875da6be-ab54-42a3-a4dc-85989a5a1565",
   "metadata": {},
   "outputs": [
    {
     "data": {
      "text/plain": [
       "array(['DE(TransnetBW) CTA', 'DE(Amprion) CTA', 'DE CTY',\n",
       "       'DE(50Hertz) CTA', 'DE(TenneT DE) CTA', 'DE-LU BZN'], dtype=object)"
      ]
     },
     "execution_count": 13,
     "metadata": {},
     "output_type": "execute_result"
    }
   ],
   "source": [
    "df_DE.AreaName.unique()"
   ]
  },
  {
   "cell_type": "code",
   "execution_count": 7,
   "id": "b7a55bb0-370a-4c77-b9f5-755727defed7",
   "metadata": {},
   "outputs": [],
   "source": [
    "df_DE['DateTime'] = pd.to_datetime(df_DE.DateTime,format='%Y-%m-%d %H:%M:%S.%f')"
   ]
  },
  {
   "cell_type": "code",
   "execution_count": 8,
   "id": "23d88362-04ba-4a70-a4b9-d8507cfc9f5c",
   "metadata": {},
   "outputs": [],
   "source": [
    "df_DE.loc[:,'DateTime'] = pd.to_datetime(df_DE.DateTime,format='%Y-%m-%d %H:%M:%S.%f')"
   ]
  },
  {
   "cell_type": "code",
   "execution_count": 9,
   "id": "bf581470-2faa-49bc-911f-2c3812e1fcb2",
   "metadata": {},
   "outputs": [],
   "source": [
    "df_DE.loc[:,'Day'] = df_DE.DateTime.dt.day\n",
    "df_DE.loc[:,'Month'] = df_DE.DateTime.dt.month\n",
    "df_DE.loc[:,'Year'] = df_DE.DateTime.dt.year\n",
    "df_DE.loc[:,'Hour'] = df_DE.DateTime.dt.hour\n",
    "df_DE.loc[:,'Minute'] = df_DE.DateTime.dt.minute"
   ]
  },
  {
   "cell_type": "code",
   "execution_count": 10,
   "id": "2a35331d-3c6c-41a9-a269-f3ee5f7b53ed",
   "metadata": {},
   "outputs": [
    {
     "data": {
      "text/plain": [
       "(27,)"
      ]
     },
     "execution_count": 10,
     "metadata": {},
     "output_type": "execute_result"
    }
   ],
   "source": [
    "df_DE.Day.unique().shape"
   ]
  },
  {
   "cell_type": "code",
   "execution_count": 11,
   "id": "910c2b77-9e88-4a82-a93a-e0354d3c0a98",
   "metadata": {},
   "outputs": [
    {
     "data": {
      "text/plain": [
       "array([3], dtype=int32)"
      ]
     },
     "execution_count": 11,
     "metadata": {},
     "output_type": "execute_result"
    }
   ],
   "source": [
    "df_DE.Month.unique()"
   ]
  },
  {
   "cell_type": "code",
   "execution_count": 12,
   "id": "c66491b7-188a-4a0c-b0b3-403ec7f94aea",
   "metadata": {},
   "outputs": [
    {
     "data": {
      "text/html": [
       "<div>\n",
       "<style scoped>\n",
       "    .dataframe tbody tr th:only-of-type {\n",
       "        vertical-align: middle;\n",
       "    }\n",
       "\n",
       "    .dataframe tbody tr th {\n",
       "        vertical-align: top;\n",
       "    }\n",
       "\n",
       "    .dataframe thead th {\n",
       "        text-align: right;\n",
       "    }\n",
       "</style>\n",
       "<table border=\"1\" class=\"dataframe\">\n",
       "  <thead>\n",
       "    <tr style=\"text-align: right;\">\n",
       "      <th></th>\n",
       "      <th>DateTime</th>\n",
       "      <th>ResolutionCode</th>\n",
       "      <th>AreaCode</th>\n",
       "      <th>AreaTypeCode</th>\n",
       "      <th>AreaName</th>\n",
       "      <th>MapCode</th>\n",
       "      <th>TotalLoadValue</th>\n",
       "      <th>UpdateTime</th>\n",
       "      <th>Day</th>\n",
       "      <th>Month</th>\n",
       "      <th>Year</th>\n",
       "      <th>Hour</th>\n",
       "      <th>Minute</th>\n",
       "    </tr>\n",
       "  </thead>\n",
       "  <tbody>\n",
       "    <tr>\n",
       "      <th>0</th>\n",
       "      <td>2024-03-10 22:00:00</td>\n",
       "      <td>PT15M</td>\n",
       "      <td>10YDE-ENBW-----N</td>\n",
       "      <td>CTA</td>\n",
       "      <td>DE(TransnetBW) CTA</td>\n",
       "      <td>DE_TransnetBW</td>\n",
       "      <td>6133.87</td>\n",
       "      <td>2024-03-10 23:31:05.005</td>\n",
       "      <td>10</td>\n",
       "      <td>3</td>\n",
       "      <td>2024</td>\n",
       "      <td>22</td>\n",
       "      <td>0</td>\n",
       "    </tr>\n",
       "    <tr>\n",
       "      <th>12</th>\n",
       "      <td>2024-03-10 22:15:00</td>\n",
       "      <td>PT15M</td>\n",
       "      <td>10YDE-ENBW-----N</td>\n",
       "      <td>CTA</td>\n",
       "      <td>DE(TransnetBW) CTA</td>\n",
       "      <td>DE_TransnetBW</td>\n",
       "      <td>6003.32</td>\n",
       "      <td>2024-03-10 23:46:13.013</td>\n",
       "      <td>10</td>\n",
       "      <td>3</td>\n",
       "      <td>2024</td>\n",
       "      <td>22</td>\n",
       "      <td>15</td>\n",
       "    </tr>\n",
       "    <tr>\n",
       "      <th>17</th>\n",
       "      <td>2024-03-10 22:15:00</td>\n",
       "      <td>PT15M</td>\n",
       "      <td>10YDE-RWENET---I</td>\n",
       "      <td>CTA</td>\n",
       "      <td>DE(Amprion) CTA</td>\n",
       "      <td>DE_Amprion</td>\n",
       "      <td>16640.27</td>\n",
       "      <td>2024-03-11 18:17:01.001</td>\n",
       "      <td>10</td>\n",
       "      <td>3</td>\n",
       "      <td>2024</td>\n",
       "      <td>22</td>\n",
       "      <td>15</td>\n",
       "    </tr>\n",
       "    <tr>\n",
       "      <th>23</th>\n",
       "      <td>2024-03-10 22:00:00</td>\n",
       "      <td>PT15M</td>\n",
       "      <td>10Y1001A1001A83F</td>\n",
       "      <td>CTY</td>\n",
       "      <td>DE CTY</td>\n",
       "      <td>DE</td>\n",
       "      <td>46343.59</td>\n",
       "      <td>2024-03-11 18:31:54.054</td>\n",
       "      <td>10</td>\n",
       "      <td>3</td>\n",
       "      <td>2024</td>\n",
       "      <td>22</td>\n",
       "      <td>0</td>\n",
       "    </tr>\n",
       "    <tr>\n",
       "      <th>24</th>\n",
       "      <td>2024-03-10 22:30:00</td>\n",
       "      <td>PT15M</td>\n",
       "      <td>10YDE-ENBW-----N</td>\n",
       "      <td>CTA</td>\n",
       "      <td>DE(TransnetBW) CTA</td>\n",
       "      <td>DE_TransnetBW</td>\n",
       "      <td>5857.35</td>\n",
       "      <td>2024-03-11 00:01:47.047</td>\n",
       "      <td>10</td>\n",
       "      <td>3</td>\n",
       "      <td>2024</td>\n",
       "      <td>22</td>\n",
       "      <td>30</td>\n",
       "    </tr>\n",
       "  </tbody>\n",
       "</table>\n",
       "</div>"
      ],
      "text/plain": [
       "              DateTime ResolutionCode          AreaCode AreaTypeCode  \\\n",
       "0  2024-03-10 22:00:00          PT15M  10YDE-ENBW-----N          CTA   \n",
       "12 2024-03-10 22:15:00          PT15M  10YDE-ENBW-----N          CTA   \n",
       "17 2024-03-10 22:15:00          PT15M  10YDE-RWENET---I          CTA   \n",
       "23 2024-03-10 22:00:00          PT15M  10Y1001A1001A83F          CTY   \n",
       "24 2024-03-10 22:30:00          PT15M  10YDE-ENBW-----N          CTA   \n",
       "\n",
       "              AreaName        MapCode  TotalLoadValue  \\\n",
       "0   DE(TransnetBW) CTA  DE_TransnetBW         6133.87   \n",
       "12  DE(TransnetBW) CTA  DE_TransnetBW         6003.32   \n",
       "17     DE(Amprion) CTA     DE_Amprion        16640.27   \n",
       "23              DE CTY             DE        46343.59   \n",
       "24  DE(TransnetBW) CTA  DE_TransnetBW         5857.35   \n",
       "\n",
       "                 UpdateTime  Day  Month  Year  Hour  Minute  \n",
       "0   2024-03-10 23:31:05.005   10      3  2024    22       0  \n",
       "12  2024-03-10 23:46:13.013   10      3  2024    22      15  \n",
       "17  2024-03-11 18:17:01.001   10      3  2024    22      15  \n",
       "23  2024-03-11 18:31:54.054   10      3  2024    22       0  \n",
       "24  2024-03-11 00:01:47.047   10      3  2024    22      30  "
      ]
     },
     "execution_count": 12,
     "metadata": {},
     "output_type": "execute_result"
    }
   ],
   "source": [
    "df_DE.head(5)"
   ]
  },
  {
   "cell_type": "code",
   "execution_count": 15,
   "id": "c8e4c629-2ea9-4680-b221-5c8000c13333",
   "metadata": {},
   "outputs": [],
   "source": [
    "df_DE = df_DE.groupby(by=['Day','Month','Year','Hour','Minute'])[['TotalLoadValue']].sum().reset_index()"
   ]
  },
  {
   "cell_type": "code",
   "execution_count": 21,
   "id": "37ca5060-b806-4ee2-8c5e-a95d95c27a2f",
   "metadata": {},
   "outputs": [
    {
     "data": {
      "text/plain": [
       "Day                  int8\n",
       "Month                int8\n",
       "Year                int16\n",
       "Hour                 int8\n",
       "Minute               int8\n",
       "TotalLoadValue    float64\n",
       "dtype: object"
      ]
     },
     "execution_count": 21,
     "metadata": {},
     "output_type": "execute_result"
    }
   ],
   "source": [
    "df_DE.dtypes"
   ]
  },
  {
   "cell_type": "code",
   "execution_count": 20,
   "id": "3f707fe3-6684-4885-b017-532c09ba95c5",
   "metadata": {},
   "outputs": [],
   "source": [
    "df_DE.Month = df_DE.Month.astype('int8')\n",
    "df_DE.Year = df_DE.Year.astype('int16')\n",
    "df_DE.Hour = df_DE.Hour.astype('int8')\n",
    "df_DE.Minute = df_DE.Minute.astype('int8')\n",
    "df_DE.Day = df_DE.Day.astype('int8')"
   ]
  },
  {
   "cell_type": "code",
   "execution_count": 13,
   "id": "b6a0d5a5-2906-4c72-8764-ec87f6b454e0",
   "metadata": {},
   "outputs": [],
   "source": [
    "today = datetime.now()\n",
    "last_day = today - timedelta(days=5)\n",
    "dates = [last_day - timedelta(days=i) for i in range(5)]"
   ]
  },
  {
   "cell_type": "code",
   "execution_count": 35,
   "id": "22d1751c-912b-4771-ba13-cf9c7d5dcbe5",
   "metadata": {},
   "outputs": [],
   "source": [
    "def create_s3_keys_dates(data_item_name,data_item_no):\n",
    "    \"\"\"\n",
    "    Generate S3 object keys with embedded dates and a random string, formatted specifically for use as filenames.\n",
    "    \n",
    "    Parameters:\n",
    "        data_item_name (str): Base name of the data item to include in the key.\n",
    "        data_item_no (int): Data item number to include in the key.\n",
    "        \n",
    "    Yields:\n",
    "        tuple: A tuple containing the S3 object key and the corresponding date object for each key.\n",
    "    \n",
    "    The function calculates dates from 5 days ago and generates five S3 keys, one for each day starting from\n",
    "    'last_day' (5 days ago) to 'last_day-4' (9 days ago). Each key includes the `data_item_name`, `data_item_no`,\n",
    "    the date (day, month, year), and a random string suffix, stored in a .parquet file format in respective date folders.\n",
    "    \"\"\"\n",
    "    today = datetime.now()\n",
    "    last_day = today - timedelta(days=5)\n",
    "    for i in range(5):\n",
    "        date = last_day - timedelta(days=i)\n",
    "        random_part = generate_random_string(10)\n",
    "        object_key = f\"{data_item_name}_{data_item_no}_{date.day}_{date.month}_{date.year}/{random_part}.parquet\"\n",
    "        yield object_key,date"
   ]
  },
  {
   "cell_type": "code",
   "execution_count": 37,
   "id": "c731f105-26fd-4ad8-803b-378cfcf5aaac",
   "metadata": {},
   "outputs": [],
   "source": [
    "def generate_random_string(n=10):\n",
    "    \"\"\"\n",
    "    Generate a random string of lowercase letters and digits.\n",
    "    \n",
    "    Parameters:\n",
    "        n (int): Length of the random string to generate. Default is 10.\n",
    "        \n",
    "    Returns:\n",
    "        str: Random string of specified length.\n",
    "    \"\"\"\n",
    "    return ''.join(secrets.choice(string.ascii_lowercase + string.digits) for _ in range(n))"
   ]
  },
  {
   "cell_type": "code",
   "execution_count": 40,
   "id": "449afca8-59f7-4ff1-8411-610e0f41adf0",
   "metadata": {},
   "outputs": [
    {
     "name": "stdout",
     "output_type": "stream",
     "text": [
      "data_item_name_data_item_no_7_4_2024/gmxtepz2kt.parquet\n",
      "data_item_name_data_item_no_6_4_2024/bmj4qwvdcx.parquet\n",
      "data_item_name_data_item_no_5_4_2024/4qxfqtfzyj.parquet\n",
      "data_item_name_data_item_no_4_4_2024/i51ki8n5qh.parquet\n",
      "data_item_name_data_item_no_3_4_2024/d8f1sr3ylm.parquet\n"
     ]
    }
   ],
   "source": [
    "df = df_DE\n",
    "for object_key,date in create_s3_keys_dates('data_item_name','data_item_no'):\n",
    "        df_date = df[(df.Day==date.day)&(df.Month==date.month)&(df.Year==date.year)]\n",
    "        print(object_key)"
   ]
  },
  {
   "cell_type": "code",
   "execution_count": 14,
   "id": "3d45ccc3-9695-496d-8c54-787883124d8f",
   "metadata": {},
   "outputs": [],
   "source": [
    "df = pd.read_csv(\"/home/mohammadp/RenewableInsight/data/2024_03_ActualGenerationOutputPerGenerationUnit_16.1.A.csv\",delimiter=\"\\t\")"
   ]
  },
  {
   "cell_type": "code",
   "execution_count": 15,
   "id": "f024fa62-68ab-4f2c-b6eb-5ec39f6cdca7",
   "metadata": {},
   "outputs": [
    {
     "data": {
      "text/plain": [
       "Index(['DateTime', 'ResolutionCode', 'AreaCode', 'AreaTypeCode', 'AreaName',\n",
       "       'MapCode', 'GenerationUnitEIC', 'PowerSystemResourceName',\n",
       "       'ProductionType', 'ActualGenerationOutput', 'ActualConsumption',\n",
       "       'InstalledGenCapacity', 'UpdateTime'],\n",
       "      dtype='object')"
      ]
     },
     "execution_count": 15,
     "metadata": {},
     "output_type": "execute_result"
    }
   ],
   "source": [
    "df.columns"
   ]
  },
  {
   "cell_type": "code",
   "execution_count": 16,
   "id": "e0af5999-6dbc-4c84-8b34-5d773b63c56c",
   "metadata": {},
   "outputs": [
    {
     "data": {
      "text/html": [
       "<div>\n",
       "<style scoped>\n",
       "    .dataframe tbody tr th:only-of-type {\n",
       "        vertical-align: middle;\n",
       "    }\n",
       "\n",
       "    .dataframe tbody tr th {\n",
       "        vertical-align: top;\n",
       "    }\n",
       "\n",
       "    .dataframe thead th {\n",
       "        text-align: right;\n",
       "    }\n",
       "</style>\n",
       "<table border=\"1\" class=\"dataframe\">\n",
       "  <thead>\n",
       "    <tr style=\"text-align: right;\">\n",
       "      <th></th>\n",
       "      <th>DateTime</th>\n",
       "      <th>ResolutionCode</th>\n",
       "      <th>AreaCode</th>\n",
       "      <th>AreaTypeCode</th>\n",
       "      <th>AreaName</th>\n",
       "      <th>MapCode</th>\n",
       "      <th>GenerationUnitEIC</th>\n",
       "      <th>PowerSystemResourceName</th>\n",
       "      <th>ProductionType</th>\n",
       "      <th>ActualGenerationOutput</th>\n",
       "      <th>ActualConsumption</th>\n",
       "      <th>InstalledGenCapacity</th>\n",
       "      <th>UpdateTime</th>\n",
       "    </tr>\n",
       "  </thead>\n",
       "  <tbody>\n",
       "    <tr>\n",
       "      <th>0</th>\n",
       "      <td>2024-03-01 00:00:00.000</td>\n",
       "      <td>PT60M</td>\n",
       "      <td>10YES-REE------0</td>\n",
       "      <td>CTA</td>\n",
       "      <td>ES CTA</td>\n",
       "      <td>ES</td>\n",
       "      <td>18W000000000K82B</td>\n",
       "      <td>FV1014</td>\n",
       "      <td>Solar</td>\n",
       "      <td>0.0</td>\n",
       "      <td>NaN</td>\n",
       "      <td>157.5</td>\n",
       "      <td>2024-03-04 18:35:05.005</td>\n",
       "    </tr>\n",
       "    <tr>\n",
       "      <th>1</th>\n",
       "      <td>2024-03-01 01:00:00.000</td>\n",
       "      <td>PT60M</td>\n",
       "      <td>10YES-REE------0</td>\n",
       "      <td>CTA</td>\n",
       "      <td>ES CTA</td>\n",
       "      <td>ES</td>\n",
       "      <td>18W000000000K82B</td>\n",
       "      <td>FV1014</td>\n",
       "      <td>Solar</td>\n",
       "      <td>0.0</td>\n",
       "      <td>NaN</td>\n",
       "      <td>157.5</td>\n",
       "      <td>2024-03-04 18:35:05.005</td>\n",
       "    </tr>\n",
       "    <tr>\n",
       "      <th>2</th>\n",
       "      <td>2024-03-01 02:00:00.000</td>\n",
       "      <td>PT60M</td>\n",
       "      <td>10YES-REE------0</td>\n",
       "      <td>CTA</td>\n",
       "      <td>ES CTA</td>\n",
       "      <td>ES</td>\n",
       "      <td>18W000000000K82B</td>\n",
       "      <td>FV1014</td>\n",
       "      <td>Solar</td>\n",
       "      <td>0.0</td>\n",
       "      <td>NaN</td>\n",
       "      <td>157.5</td>\n",
       "      <td>2024-03-04 18:35:05.005</td>\n",
       "    </tr>\n",
       "    <tr>\n",
       "      <th>3</th>\n",
       "      <td>2024-03-01 03:00:00.000</td>\n",
       "      <td>PT60M</td>\n",
       "      <td>10YES-REE------0</td>\n",
       "      <td>CTA</td>\n",
       "      <td>ES CTA</td>\n",
       "      <td>ES</td>\n",
       "      <td>18W000000000K82B</td>\n",
       "      <td>FV1014</td>\n",
       "      <td>Solar</td>\n",
       "      <td>0.0</td>\n",
       "      <td>NaN</td>\n",
       "      <td>157.5</td>\n",
       "      <td>2024-03-04 18:35:05.005</td>\n",
       "    </tr>\n",
       "    <tr>\n",
       "      <th>4</th>\n",
       "      <td>2024-03-01 04:00:00.000</td>\n",
       "      <td>PT60M</td>\n",
       "      <td>10YES-REE------0</td>\n",
       "      <td>CTA</td>\n",
       "      <td>ES CTA</td>\n",
       "      <td>ES</td>\n",
       "      <td>18W000000000K82B</td>\n",
       "      <td>FV1014</td>\n",
       "      <td>Solar</td>\n",
       "      <td>0.0</td>\n",
       "      <td>NaN</td>\n",
       "      <td>157.5</td>\n",
       "      <td>2024-03-04 18:35:05.005</td>\n",
       "    </tr>\n",
       "  </tbody>\n",
       "</table>\n",
       "</div>"
      ],
      "text/plain": [
       "                  DateTime ResolutionCode          AreaCode AreaTypeCode  \\\n",
       "0  2024-03-01 00:00:00.000          PT60M  10YES-REE------0          CTA   \n",
       "1  2024-03-01 01:00:00.000          PT60M  10YES-REE------0          CTA   \n",
       "2  2024-03-01 02:00:00.000          PT60M  10YES-REE------0          CTA   \n",
       "3  2024-03-01 03:00:00.000          PT60M  10YES-REE------0          CTA   \n",
       "4  2024-03-01 04:00:00.000          PT60M  10YES-REE------0          CTA   \n",
       "\n",
       "  AreaName MapCode GenerationUnitEIC PowerSystemResourceName ProductionType  \\\n",
       "0   ES CTA      ES  18W000000000K82B                  FV1014          Solar   \n",
       "1   ES CTA      ES  18W000000000K82B                  FV1014          Solar   \n",
       "2   ES CTA      ES  18W000000000K82B                  FV1014          Solar   \n",
       "3   ES CTA      ES  18W000000000K82B                  FV1014          Solar   \n",
       "4   ES CTA      ES  18W000000000K82B                  FV1014          Solar   \n",
       "\n",
       "   ActualGenerationOutput  ActualConsumption  InstalledGenCapacity  \\\n",
       "0                     0.0                NaN                 157.5   \n",
       "1                     0.0                NaN                 157.5   \n",
       "2                     0.0                NaN                 157.5   \n",
       "3                     0.0                NaN                 157.5   \n",
       "4                     0.0                NaN                 157.5   \n",
       "\n",
       "                UpdateTime  \n",
       "0  2024-03-04 18:35:05.005  \n",
       "1  2024-03-04 18:35:05.005  \n",
       "2  2024-03-04 18:35:05.005  \n",
       "3  2024-03-04 18:35:05.005  \n",
       "4  2024-03-04 18:35:05.005  "
      ]
     },
     "execution_count": 16,
     "metadata": {},
     "output_type": "execute_result"
    }
   ],
   "source": [
    "df.head(5)"
   ]
  },
  {
   "cell_type": "code",
   "execution_count": 19,
   "id": "eaf02445-b529-4bee-a307-21a562087703",
   "metadata": {},
   "outputs": [],
   "source": [
    "df_DE = df[df.MapCode.isin([mapcode for mapcode in df.MapCode.unique() if mapcode[:2]=='DE'])]"
   ]
  },
  {
   "cell_type": "code",
   "execution_count": 23,
   "id": "129f7361-1816-4907-af10-0d82808bab31",
   "metadata": {},
   "outputs": [
    {
     "data": {
      "text/plain": [
       "array(['HAMBORN-4', 'Block F', 'Block GT2', 'DT HKW-Niehl-2', 'HKW IIIB',\n",
       "       'KMW_KW2DT', 'KW Hamm-Uentrop Block 10', 'KW5', 'Niederaußem G',\n",
       "       'Radag', 'VOELKLINGEN_HKV', 'Säckingen', 'VOELKLINGEN_MKV',\n",
       "       'Vianden 3', 'Vianden 9', 'GuD-Anlage-HKW-Merkenich',\n",
       "       'BERGKAMEN_A', 'Block AGuD', 'Block GT 12', 'HERNE_4',\n",
       "       'Huckingen B', 'KMW_KW3', 'KMW_KW2GT', 'KW Hamm-Uentrop Block 20',\n",
       "       'KW Lünen Block 1', 'Knapsack 1', 'Neurath E', 'Niederaußem E',\n",
       "       'Niederaußem F', 'RUHRORT-4', 'Niederaußem K (BoA 1)', 'Vianden 1',\n",
       "       'Vianden 2', 'Vianden 7', 'Vianden 8', 'WALSUM_10', 'Block GT 11',\n",
       "       'Block GT1', 'HAMBORN-5', 'Emsland B', 'Huckingen A', 'Emsland D',\n",
       "       'Koepchenwerk', 'Neurath C', 'Neurath D', 'Scholven 1',\n",
       "       'Scholven B', 'Scholven C', 'Vianden 11', 'Vianden 4',\n",
       "       'Weisweiler G', 'Weisweiler VGT - BI. H', 'KW Boxberg Block Q',\n",
       "       'KW Lippendorf Block S', 'KW Boxberg Block N',\n",
       "       'KW Boxberg Block P', 'KW Jänschwalde Block B',\n",
       "       'KW Jänschwalde Block E', 'KW Lippendorf Block R', 'Wehr',\n",
       "       'Witznau', 'Weisweiler VGT - BI. G', 'Weisweiler F',\n",
       "       'Franken I Block 1', 'KW Boxberg Block R',\n",
       "       'KW Schwarze Pumpe Block A', 'DESBR____CHP____', 'HERDECKE_H6',\n",
       "       'Datteln 4', 'HKW-Niehl-3', 'Emsland C', 'GKM AG Amprion',\n",
       "       'Knapsack 2', 'Neurath F', 'Neurath G', 'Niederaußem H',\n",
       "       'Vianden 10', 'Vianden 5', 'Vianden 6', 'WEIHER_C', 'Weisweiler H',\n",
       "       'KW Jänschwalde Block C', 'KW Jänschwalde Block A',\n",
       "       'KW Jänschwalde Block D', 'KW Jänschwalde Block F',\n",
       "       'DEZOLLI____1_____', 'DEFARGE____1_____', 'Franken I Block 2 + GT',\n",
       "       'Irsching 5', 'KW Hastedt Block 15', 'Maschine 2', 'Maschine 1',\n",
       "       'Staudinger 5', 'Waldeck II M6', 'Block 1', 'GuD-Block',\n",
       "       'HKW West Block 1', 'HKW West Block 2', 'Irsching 4',\n",
       "       'HKW Heilbronn Block 7', 'Kopswerk 2 M2', 'Rodund 2', 'RDK 8',\n",
       "       'Kraftwerk Witznau', 'KW Mittelsbueren Block 4', 'Block B',\n",
       "       'RDK 7', 'GKM AG TNG', 'HKW Altbach/Deizisau 2',\n",
       "       'Stuttgart-Münster DT', 'Rheinkraftwerk Iffezheim', 'Heyden 4',\n",
       "       'Huntorf GT', 'Waldeck II M5', 'Block 3', 'Block 2',\n",
       "       'PSW Goldisthal PSS A', 'GKM AG DBEnergie', 'KW Laufenburg',\n",
       "       'Kopswerk 2 M1', 'Kraftwerk Säckingen', 'Kraftwerk Wehr',\n",
       "       'KW Rheinfelden DE', 'Kopswerk 2 M3', 'Kraftwerk Wahlheim GT D',\n",
       "       'GT HKW-Niehl-2', 'KW Schwarze Pumpe Block B', 'Kraftwerk Rostock',\n",
       "       'Lichterfelde GUD', 'GTHKW Nossener Bruecke',\n",
       "       'HKW Reuter West Block E', 'PSW Markersbach PSS C',\n",
       "       'HKW Tiefstack Block 2', 'HKW Tiefstack GuD', 'HKW Wedel Block 1',\n",
       "       'Schkopau B', 'PSW Goldisthal PSS C', 'GuD Marzahn',\n",
       "       'HKW Klingenberg 1-3', 'HKW Mitte GUD', 'PSW Markersbach PSS B',\n",
       "       'HKW Reuter West Block D', 'PSW Markersbach PSS D',\n",
       "       'PSW Markersbach PSS E', 'IKS Schwedt SE1 Block 1',\n",
       "       'BEXBACH_A_GESAMT', 'Gersteinwerk I', 'GuD Herne',\n",
       "       'Gersteinwerk K1', 'GuD Dormagen', 'PSW Markersbach PSS A',\n",
       "       'HKW Nord GuD Nord', 'PSW Markersbach PSS F', 'Schkopau A',\n",
       "       'PSW Goldisthal PSS B', 'PSW Goldisthal PSS D',\n",
       "       'HKW Wedel Block 2', 'IKS Schwedt SE2 Block 2', 'HKW West Block 4',\n",
       "       'GKB Mittelsbueren GuD', 'KW Hastedt BHKW', 'Töging',\n",
       "       'DEWHV______1_____ ', 'Nord 2 T20', 'Sued GuD1 GT3',\n",
       "       'Sued GuD2 DT60', 'Sued GuD2 GT61', 'Sued GuD2 GT62',\n",
       "       'Sued GuD1 GT2', 'Küstenkraftwerk', 'Obervermuntwerk 2 M2',\n",
       "       'Obervermuntwerk 2 M1'], dtype=object)"
      ]
     },
     "execution_count": 23,
     "metadata": {},
     "output_type": "execute_result"
    }
   ],
   "source": [
    "df_DE.PowerSystemResourceName.unique()"
   ]
  },
  {
   "cell_type": "code",
   "execution_count": 24,
   "id": "da66f521-e71f-4e9e-b8be-11b271f2137e",
   "metadata": {},
   "outputs": [],
   "source": [
    "day = 4\n",
    "month = 10"
   ]
  },
  {
   "cell_type": "code",
   "execution_count": 25,
   "id": "577e0a46-50df-4485-93a8-ffbcc929c09a",
   "metadata": {},
   "outputs": [
    {
     "name": "stdout",
     "output_type": "stream",
     "text": [
      "4\n"
     ]
    }
   ],
   "source": [
    "print(f'{day}')"
   ]
  },
  {
   "cell_type": "code",
   "execution_count": 28,
   "id": "77815c18-b51f-4f23-bd74-be1519a9bb18",
   "metadata": {},
   "outputs": [
    {
     "name": "stdout",
     "output_type": "stream",
     "text": [
      "Day: 30\n",
      "Month: 04\n"
     ]
    }
   ],
   "source": [
    "day = 30\n",
    "month = 4\n",
    "\n",
    "formatted_day = f\"{day:02}\"\n",
    "formatted_month = f\"{month:02}\"\n",
    "\n",
    "print(f\"Day: {formatted_day}\")\n",
    "print(f\"Month: {formatted_month}\")"
   ]
  },
  {
   "cell_type": "code",
   "execution_count": null,
   "id": "59720b35-3fce-4757-9c37-f79721c2956e",
   "metadata": {},
   "outputs": [],
   "source": []
  }
 ],
 "metadata": {
  "kernelspec": {
   "display_name": "Python 3 (ipykernel)",
   "language": "python",
   "name": "python3"
  },
  "language_info": {
   "codemirror_mode": {
    "name": "ipython",
    "version": 3
   },
   "file_extension": ".py",
   "mimetype": "text/x-python",
   "name": "python",
   "nbconvert_exporter": "python",
   "pygments_lexer": "ipython3",
   "version": "3.11.7"
  }
 },
 "nbformat": 4,
 "nbformat_minor": 5
}
